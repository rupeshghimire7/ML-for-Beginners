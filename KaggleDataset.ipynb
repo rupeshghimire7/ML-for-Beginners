{
  "nbformat": 4,
  "nbformat_minor": 0,
  "metadata": {
    "colab": {
      "provenance": []
    },
    "kernelspec": {
      "name": "python3",
      "display_name": "Python 3"
    },
    "language_info": {
      "name": "python"
    }
  },
  "cells": [
    {
      "cell_type": "markdown",
      "source": [
        "**DOWNLOADING KAGGLE DATASETS DIRECTLY INTO GOOGLE COLAB**"
      ],
      "metadata": {
        "id": "zgEXQil4i1YU"
      }
    },
    {
      "cell_type": "markdown",
      "source": [
        "Install Kaggle python library"
      ],
      "metadata": {
        "id": "7Krlak37jDtO"
      }
    },
    {
      "cell_type": "code",
      "source": [
        "!pip install kaggle"
      ],
      "metadata": {
        "colab": {
          "base_uri": "https://localhost:8080/"
        },
        "id": "dWATIOGyi_5t",
        "outputId": "5310e0b6-e213-4564-a27f-f7b4342132c9"
      },
      "execution_count": null,
      "outputs": [
        {
          "output_type": "stream",
          "name": "stdout",
          "text": [
            "Requirement already satisfied: kaggle in /usr/local/lib/python3.10/dist-packages (1.5.16)\n",
            "Requirement already satisfied: six>=1.10 in /usr/local/lib/python3.10/dist-packages (from kaggle) (1.16.0)\n",
            "Requirement already satisfied: certifi in /usr/local/lib/python3.10/dist-packages (from kaggle) (2023.11.17)\n",
            "Requirement already satisfied: python-dateutil in /usr/local/lib/python3.10/dist-packages (from kaggle) (2.8.2)\n",
            "Requirement already satisfied: requests in /usr/local/lib/python3.10/dist-packages (from kaggle) (2.31.0)\n",
            "Requirement already satisfied: tqdm in /usr/local/lib/python3.10/dist-packages (from kaggle) (4.66.1)\n",
            "Requirement already satisfied: python-slugify in /usr/local/lib/python3.10/dist-packages (from kaggle) (8.0.1)\n",
            "Requirement already satisfied: urllib3 in /usr/local/lib/python3.10/dist-packages (from kaggle) (2.0.7)\n",
            "Requirement already satisfied: bleach in /usr/local/lib/python3.10/dist-packages (from kaggle) (6.1.0)\n",
            "Requirement already satisfied: webencodings in /usr/local/lib/python3.10/dist-packages (from bleach->kaggle) (0.5.1)\n",
            "Requirement already satisfied: text-unidecode>=1.3 in /usr/local/lib/python3.10/dist-packages (from python-slugify->kaggle) (1.3)\n",
            "Requirement already satisfied: charset-normalizer<4,>=2 in /usr/local/lib/python3.10/dist-packages (from requests->kaggle) (3.3.2)\n",
            "Requirement already satisfied: idna<4,>=2.5 in /usr/local/lib/python3.10/dist-packages (from requests->kaggle) (3.6)\n"
          ]
        }
      ]
    },
    {
      "cell_type": "markdown",
      "source": [
        "Mount the Google drive to use Kaggle API credentials in future"
      ],
      "metadata": {
        "id": "6NnvjbXijUvl"
      }
    },
    {
      "cell_type": "code",
      "source": [
        "from google.colab import drive\n",
        "drive.mount('/content/drive')"
      ],
      "metadata": {
        "colab": {
          "base_uri": "https://localhost:8080/"
        },
        "id": "VdiKOygUjLdt",
        "outputId": "8451a907-7db8-4e35-a17b-34a67ce1ce61"
      },
      "execution_count": null,
      "outputs": [
        {
          "output_type": "stream",
          "name": "stdout",
          "text": [
            "Drive already mounted at /content/drive; to attempt to forcibly remount, call drive.mount(\"/content/drive\", force_remount=True).\n"
          ]
        }
      ]
    },
    {
      "cell_type": "markdown",
      "source": [
        "Make a directory for Kaggle at the temporary instance location on Colab drive"
      ],
      "metadata": {
        "id": "wq3BMdCukJza"
      }
    },
    {
      "cell_type": "markdown",
      "source": [
        "Download Kaggle API key (.json file) by going to Kaggle account page and clicking 'Create new API token' under the API section."
      ],
      "metadata": {
        "id": "XPe9AmzTko1o"
      }
    },
    {
      "cell_type": "code",
      "source": [
        "!mkdir ~/.kaggle"
      ],
      "metadata": {
        "id": "OK7k2NqBj7a-"
      },
      "execution_count": null,
      "outputs": []
    },
    {
      "cell_type": "markdown",
      "source": [
        "Remove the directory"
      ],
      "metadata": {
        "id": "XY_8XilBsNSV"
      }
    },
    {
      "cell_type": "code",
      "source": [
        "!rm -r ~/.kaggle"
      ],
      "metadata": {
        "id": "j9VoTBr_r_HE"
      },
      "execution_count": null,
      "outputs": []
    },
    {
      "cell_type": "markdown",
      "source": [
        "'-r' flag stands for 'recursive'. It enables command to perform the actions not only specified file or directory but also on all of its contents(subdirectories and their contents)."
      ],
      "metadata": {
        "id": "eiUxydo0saY1"
      }
    },
    {
      "cell_type": "markdown",
      "source": [
        "Copy the Kaggle API credentials"
      ],
      "metadata": {
        "id": "T1hoPWjTmfWC"
      }
    },
    {
      "cell_type": "code",
      "source": [
        "# !cp kaggle.json ~/.kaggle"
      ],
      "metadata": {
        "id": "67YAA7ZAlXMN"
      },
      "execution_count": null,
      "outputs": []
    },
    {
      "cell_type": "markdown",
      "source": [
        "Upload the json file to Google Drive and then copy to the temporary location."
      ],
      "metadata": {
        "id": "QcxwhYKvm9ea"
      }
    },
    {
      "cell_type": "code",
      "source": [
        "!cp /content/drive/MyDrive/ColabNotebooks/Kaggle_API/kaggle.json ~/.kaggle/kaggle.json"
      ],
      "metadata": {
        "id": "nkSOMXNfnIic"
      },
      "execution_count": null,
      "outputs": []
    },
    {
      "cell_type": "markdown",
      "source": [
        "Change the permissions to read and write to the owner only."
      ],
      "metadata": {
        "id": "bBtzK7BapLXC"
      }
    },
    {
      "cell_type": "code",
      "source": [
        "!chmod 600 ~/.kaggle/kaggle.json"
      ],
      "metadata": {
        "id": "AJZkTMtfo9db"
      },
      "execution_count": null,
      "outputs": []
    },
    {
      "cell_type": "markdown",
      "source": [
        "**DOWNLOAD KAGGLE DATASET**"
      ],
      "metadata": {
        "id": "8oMa4LqStC-h"
      }
    },
    {
      "cell_type": "markdown",
      "source": [
        "1.   Competition Dataset\n",
        "\n",
        "\n"
      ],
      "metadata": {
        "id": "Zv8JXs7FtK-x"
      }
    },
    {
      "cell_type": "code",
      "source": [
        "!kaggle competitions download <dataset_name>"
      ],
      "metadata": {
        "id": "y_7qJ6y2tH-y"
      },
      "execution_count": null,
      "outputs": []
    },
    {
      "cell_type": "markdown",
      "source": [
        "Unzip if the downloaded file zipped."
      ],
      "metadata": {
        "id": "k_v_JS8Lt9uD"
      }
    },
    {
      "cell_type": "code",
      "source": [
        "!unzip <dataset_name.zip>"
      ],
      "metadata": {
        "id": "aGs_quFIuEbL"
      },
      "execution_count": null,
      "outputs": []
    },
    {
      "cell_type": "markdown",
      "source": [
        "To download specific file within the dataset"
      ],
      "metadata": {
        "id": "E-y8HrgKuWm_"
      }
    },
    {
      "cell_type": "code",
      "source": [
        "!kaggle competitions download <dataset_name> -f <file_name>"
      ],
      "metadata": {
        "id": "yds3Dd75uaZk"
      },
      "execution_count": null,
      "outputs": []
    },
    {
      "cell_type": "markdown",
      "source": [
        "2. Datasets that are not part of competition datasets\n",
        "\n"
      ],
      "metadata": {
        "id": "3hPd7CZ6umM9"
      }
    },
    {
      "cell_type": "code",
      "source": [
        "!kaggle datasets download <dataset_link>"
      ],
      "metadata": {
        "id": "glhYVVfxuzzs"
      },
      "execution_count": null,
      "outputs": []
    }
  ]
}