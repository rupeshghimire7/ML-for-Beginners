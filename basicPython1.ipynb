{
  "nbformat": 4,
  "nbformat_minor": 0,
  "metadata": {
    "colab": {
      "provenance": []
    },
    "kernelspec": {
      "name": "python3",
      "display_name": "Python 3"
    },
    "language_info": {
      "name": "python"
    }
  },
  "cells": [
    {
      "cell_type": "markdown",
      "source": [
        "# **Data Types in Python**"
      ],
      "metadata": {
        "id": "isr3kB9fZ6C5"
      }
    },
    {
      "cell_type": "markdown",
      "source": [
        "### Numeric Type Data"
      ],
      "metadata": {
        "id": "rNd3aJokaevJ"
      }
    },
    {
      "cell_type": "code",
      "source": [
        "integerData = 10\n",
        "floatingPointNumber = 10.5\n",
        "complexNumber = 10 + 8j"
      ],
      "metadata": {
        "id": "iZ2Y331YZ635"
      },
      "execution_count": 1,
      "outputs": []
    },
    {
      "cell_type": "code",
      "source": [
        "complexNumber.real"
      ],
      "metadata": {
        "colab": {
          "base_uri": "https://localhost:8080/"
        },
        "id": "g8CLvNJLeUAj",
        "outputId": "193cf068-c77b-4462-8241-8d15d7053a1c"
      },
      "execution_count": 2,
      "outputs": [
        {
          "output_type": "execute_result",
          "data": {
            "text/plain": [
              "10.0"
            ]
          },
          "metadata": {},
          "execution_count": 2
        }
      ]
    },
    {
      "cell_type": "code",
      "source": [
        "complexNumber.imag"
      ],
      "metadata": {
        "colab": {
          "base_uri": "https://localhost:8080/"
        },
        "id": "HrHhMMCKeXqZ",
        "outputId": "983a1537-a177-4c5e-fc00-cfca87d7021f"
      },
      "execution_count": 3,
      "outputs": [
        {
          "output_type": "execute_result",
          "data": {
            "text/plain": [
              "8.0"
            ]
          },
          "metadata": {},
          "execution_count": 3
        }
      ]
    },
    {
      "cell_type": "code",
      "source": [
        "type(integerData)"
      ],
      "metadata": {
        "colab": {
          "base_uri": "https://localhost:8080/"
        },
        "id": "pJ-nD500a1Z4",
        "outputId": "547e2b3a-c098-4dc1-cffc-40f84726c3e9"
      },
      "execution_count": 4,
      "outputs": [
        {
          "output_type": "execute_result",
          "data": {
            "text/plain": [
              "int"
            ]
          },
          "metadata": {},
          "execution_count": 4
        }
      ]
    },
    {
      "cell_type": "code",
      "source": [
        "type(floatingPointNumber)"
      ],
      "metadata": {
        "colab": {
          "base_uri": "https://localhost:8080/"
        },
        "id": "zz5v2bQGa1uu",
        "outputId": "5958722c-3ce9-452d-cbed-3f51f9c7995d"
      },
      "execution_count": 5,
      "outputs": [
        {
          "output_type": "execute_result",
          "data": {
            "text/plain": [
              "float"
            ]
          },
          "metadata": {},
          "execution_count": 5
        }
      ]
    },
    {
      "cell_type": "code",
      "source": [
        "type(complexNumber)"
      ],
      "metadata": {
        "colab": {
          "base_uri": "https://localhost:8080/"
        },
        "id": "HRIi8N_xZ7d3",
        "outputId": "b9b137e5-fd59-4704-f5c9-4c826b56cd8c"
      },
      "execution_count": 6,
      "outputs": [
        {
          "output_type": "execute_result",
          "data": {
            "text/plain": [
              "complex"
            ]
          },
          "metadata": {},
          "execution_count": 6
        }
      ]
    },
    {
      "cell_type": "code",
      "source": [
        "integerData + complexNumber"
      ],
      "metadata": {
        "colab": {
          "base_uri": "https://localhost:8080/"
        },
        "id": "JWG69FcIZ7Sc",
        "outputId": "9ab31cab-0d9a-41e3-a938-6f41967a6c03"
      },
      "execution_count": 7,
      "outputs": [
        {
          "output_type": "execute_result",
          "data": {
            "text/plain": [
              "(20+8j)"
            ]
          },
          "metadata": {},
          "execution_count": 7
        }
      ]
    },
    {
      "cell_type": "code",
      "source": [
        "floatingPointNumber + complexNumber"
      ],
      "metadata": {
        "colab": {
          "base_uri": "https://localhost:8080/"
        },
        "id": "DQxbi_spZ7YD",
        "outputId": "848e3222-4e89-4c9e-dc7f-21c347bc6105"
      },
      "execution_count": 8,
      "outputs": [
        {
          "output_type": "execute_result",
          "data": {
            "text/plain": [
              "(20.5+8j)"
            ]
          },
          "metadata": {},
          "execution_count": 8
        }
      ]
    },
    {
      "cell_type": "code",
      "source": [
        "integerData / complexNumber"
      ],
      "metadata": {
        "colab": {
          "base_uri": "https://localhost:8080/"
        },
        "id": "VUplS-J4Z7m_",
        "outputId": "8834fd99-85f5-464e-804a-aca90f12488f"
      },
      "execution_count": 9,
      "outputs": [
        {
          "output_type": "execute_result",
          "data": {
            "text/plain": [
              "(0.6097560975609757-0.48780487804878053j)"
            ]
          },
          "metadata": {},
          "execution_count": 9
        }
      ]
    },
    {
      "cell_type": "code",
      "source": [
        "floatingPointNumber / complexNumber"
      ],
      "metadata": {
        "colab": {
          "base_uri": "https://localhost:8080/"
        },
        "id": "vB5q6gyYZ7qO",
        "outputId": "77156ec6-9096-465c-c9e0-405a051c250c"
      },
      "execution_count": 10,
      "outputs": [
        {
          "output_type": "execute_result",
          "data": {
            "text/plain": [
              "(0.6402439024390244-0.5121951219512195j)"
            ]
          },
          "metadata": {},
          "execution_count": 10
        }
      ]
    },
    {
      "cell_type": "markdown",
      "source": [
        "#### Multiplication , Power and Subtraction operations are also possible between all 3 numeric data types."
      ],
      "metadata": {
        "id": "4DOcRgQ2bNyM"
      }
    },
    {
      "cell_type": "code",
      "source": [
        "integer1 = int(floatingPointNumber)\n",
        "integer1"
      ],
      "metadata": {
        "colab": {
          "base_uri": "https://localhost:8080/"
        },
        "id": "Y83AuuDgdjbG",
        "outputId": "30c06809-9c82-4323-a008-7d689d65d58c"
      },
      "execution_count": 11,
      "outputs": [
        {
          "output_type": "execute_result",
          "data": {
            "text/plain": [
              "10"
            ]
          },
          "metadata": {},
          "execution_count": 11
        }
      ]
    },
    {
      "cell_type": "code",
      "source": [
        "floating1 = float(integerData)\n",
        "floating1"
      ],
      "metadata": {
        "colab": {
          "base_uri": "https://localhost:8080/"
        },
        "id": "3OjRz0_odsWt",
        "outputId": "46100c42-3f9f-42aa-f831-4dcf404f5431"
      },
      "execution_count": 12,
      "outputs": [
        {
          "output_type": "execute_result",
          "data": {
            "text/plain": [
              "10.0"
            ]
          },
          "metadata": {},
          "execution_count": 12
        }
      ]
    },
    {
      "cell_type": "code",
      "source": [
        "integerReal = int(complexNumber.real)\n",
        "integerReal"
      ],
      "metadata": {
        "colab": {
          "base_uri": "https://localhost:8080/"
        },
        "id": "WcsydKj7eA_s",
        "outputId": "2aa620d0-9a12-486b-9ae0-f5732849dc1c"
      },
      "execution_count": 13,
      "outputs": [
        {
          "output_type": "execute_result",
          "data": {
            "text/plain": [
              "10"
            ]
          },
          "metadata": {},
          "execution_count": 13
        }
      ]
    },
    {
      "cell_type": "code",
      "source": [
        "type(complexNumber.real)"
      ],
      "metadata": {
        "colab": {
          "base_uri": "https://localhost:8080/"
        },
        "id": "wakxZRUPe7SI",
        "outputId": "9139843b-e4a6-4181-f18a-fda3f7ff5578"
      },
      "execution_count": 14,
      "outputs": [
        {
          "output_type": "execute_result",
          "data": {
            "text/plain": [
              "float"
            ]
          },
          "metadata": {},
          "execution_count": 14
        }
      ]
    },
    {
      "cell_type": "code",
      "source": [
        "print(complexNumber.real)"
      ],
      "metadata": {
        "colab": {
          "base_uri": "https://localhost:8080/"
        },
        "id": "oHYDnxEdetTX",
        "outputId": "c0092ca0-7d4f-43e9-efc0-886a4516292d"
      },
      "execution_count": 15,
      "outputs": [
        {
          "output_type": "stream",
          "name": "stdout",
          "text": [
            "10.0\n"
          ]
        }
      ]
    },
    {
      "cell_type": "code",
      "source": [
        "type(complexNumber.imag)"
      ],
      "metadata": {
        "colab": {
          "base_uri": "https://localhost:8080/"
        },
        "id": "yqgnc8wMeA5d",
        "outputId": "f4cdc032-34fd-49c1-8309-da41a9f28f33"
      },
      "execution_count": 16,
      "outputs": [
        {
          "output_type": "execute_result",
          "data": {
            "text/plain": [
              "float"
            ]
          },
          "metadata": {},
          "execution_count": 16
        }
      ]
    },
    {
      "cell_type": "code",
      "source": [
        "print(complexNumber.imag)"
      ],
      "metadata": {
        "colab": {
          "base_uri": "https://localhost:8080/"
        },
        "id": "hayKPMnse9NT",
        "outputId": "0538dc22-1966-41b9-f43c-cd1db7b4693d"
      },
      "execution_count": 17,
      "outputs": [
        {
          "output_type": "stream",
          "name": "stdout",
          "text": [
            "8.0\n"
          ]
        }
      ]
    },
    {
      "cell_type": "markdown",
      "source": [
        "### Sequence type data"
      ],
      "metadata": {
        "id": "3aLm-qKpbcd0"
      }
    },
    {
      "cell_type": "code",
      "source": [
        "stringData = 'Doraemon'\n",
        "type(stringData)"
      ],
      "metadata": {
        "colab": {
          "base_uri": "https://localhost:8080/"
        },
        "id": "k1-3T4dVZ7ty",
        "outputId": "3d30fbcb-a9ce-425a-bcf5-5fa832889f80"
      },
      "execution_count": 18,
      "outputs": [
        {
          "output_type": "execute_result",
          "data": {
            "text/plain": [
              "str"
            ]
          },
          "metadata": {},
          "execution_count": 18
        }
      ]
    },
    {
      "cell_type": "code",
      "source": [
        "int(stringData)"
      ],
      "metadata": {
        "colab": {
          "base_uri": "https://localhost:8080/",
          "height": 176
        },
        "id": "cV7VStv8fFLr",
        "outputId": "215d5a78-2767-416d-ddd5-49b36a9d421a"
      },
      "execution_count": 19,
      "outputs": [
        {
          "output_type": "error",
          "ename": "ValueError",
          "evalue": "invalid literal for int() with base 10: 'Doraemon'",
          "traceback": [
            "\u001b[0;31m---------------------------------------------------------------------------\u001b[0m",
            "\u001b[0;31mValueError\u001b[0m                                Traceback (most recent call last)",
            "\u001b[0;32m<ipython-input-19-188426afc78f>\u001b[0m in \u001b[0;36m<cell line: 1>\u001b[0;34m()\u001b[0m\n\u001b[0;32m----> 1\u001b[0;31m \u001b[0mint\u001b[0m\u001b[0;34m(\u001b[0m\u001b[0mstringData\u001b[0m\u001b[0;34m)\u001b[0m\u001b[0;34m\u001b[0m\u001b[0;34m\u001b[0m\u001b[0m\n\u001b[0m",
            "\u001b[0;31mValueError\u001b[0m: invalid literal for int() with base 10: 'Doraemon'"
          ]
        }
      ]
    },
    {
      "cell_type": "code",
      "source": [
        "stringData2 = '323'\n",
        "int(stringData2)"
      ],
      "metadata": {
        "colab": {
          "base_uri": "https://localhost:8080/"
        },
        "id": "pX_miRJ1fCqN",
        "outputId": "e59df406-e73d-4934-c796-a1e280a918f6"
      },
      "execution_count": 21,
      "outputs": [
        {
          "output_type": "execute_result",
          "data": {
            "text/plain": [
              "323"
            ]
          },
          "metadata": {},
          "execution_count": 21
        }
      ]
    },
    {
      "cell_type": "code",
      "source": [
        "float(stringData2)"
      ],
      "metadata": {
        "colab": {
          "base_uri": "https://localhost:8080/"
        },
        "id": "4fCryYJzfNTU",
        "outputId": "31f10395-736c-4562-81e1-354ed1299857"
      },
      "execution_count": 22,
      "outputs": [
        {
          "output_type": "execute_result",
          "data": {
            "text/plain": [
              "323.0"
            ]
          },
          "metadata": {},
          "execution_count": 22
        }
      ]
    },
    {
      "cell_type": "code",
      "source": [
        "complex1 = complex(integerData)\n",
        "complex1"
      ],
      "metadata": {
        "colab": {
          "base_uri": "https://localhost:8080/"
        },
        "id": "0xP7B7s_fXVU",
        "outputId": "23cdf259-a4c4-4af0-c046-7429311d1f4c"
      },
      "execution_count": 23,
      "outputs": [
        {
          "output_type": "execute_result",
          "data": {
            "text/plain": [
              "(10+0j)"
            ]
          },
          "metadata": {},
          "execution_count": 23
        }
      ]
    },
    {
      "cell_type": "code",
      "source": [
        "complex2 = complex(floatingPointNumber)\n",
        "complex2"
      ],
      "metadata": {
        "colab": {
          "base_uri": "https://localhost:8080/"
        },
        "id": "6qXoV9XCfXFr",
        "outputId": "bd5c2db5-4ebc-4db8-bfce-d3ee3ff30a3c"
      },
      "execution_count": 24,
      "outputs": [
        {
          "output_type": "execute_result",
          "data": {
            "text/plain": [
              "(10.5+0j)"
            ]
          },
          "metadata": {},
          "execution_count": 24
        }
      ]
    },
    {
      "cell_type": "markdown",
      "source": [
        "#### List and Tuples are also sequence type datas.\n",
        "\n",
        "\n"
      ],
      "metadata": {
        "id": "gv3YWDtububg"
      }
    },
    {
      "cell_type": "markdown",
      "source": [
        "### Mapping Type Data"
      ],
      "metadata": {
        "id": "sA-7sBuIcn1P"
      }
    },
    {
      "cell_type": "markdown",
      "source": [
        "#### Dictionary is mapping type data."
      ],
      "metadata": {
        "id": "z8ySj7RYcvqx"
      }
    },
    {
      "cell_type": "markdown",
      "source": [
        "### Set Type Data"
      ],
      "metadata": {
        "id": "oFzXS80tdHuz"
      }
    },
    {
      "cell_type": "markdown",
      "source": [
        "#### Sets are set type datas."
      ],
      "metadata": {
        "id": "aTsY7kNXdNd9"
      }
    },
    {
      "cell_type": "markdown",
      "source": [
        "### Boolean Type Data"
      ],
      "metadata": {
        "id": "EOyset4bdZMc"
      }
    },
    {
      "cell_type": "code",
      "source": [
        "booleanData = True\n",
        "type (booleanData)"
      ],
      "metadata": {
        "colab": {
          "base_uri": "https://localhost:8080/"
        },
        "id": "78HJ3K3ob-_U",
        "outputId": "5ddd2f79-47db-4bc4-dba3-df2f03fc9837"
      },
      "execution_count": 25,
      "outputs": [
        {
          "output_type": "execute_result",
          "data": {
            "text/plain": [
              "bool"
            ]
          },
          "metadata": {},
          "execution_count": 25
        }
      ]
    },
    {
      "cell_type": "code",
      "source": [
        "not booleanData"
      ],
      "metadata": {
        "colab": {
          "base_uri": "https://localhost:8080/"
        },
        "id": "fuJiXEjhcGFQ",
        "outputId": "324d3961-050e-4238-e40a-e87a828bb7eb"
      },
      "execution_count": 26,
      "outputs": [
        {
          "output_type": "execute_result",
          "data": {
            "text/plain": [
              "False"
            ]
          },
          "metadata": {},
          "execution_count": 26
        }
      ]
    },
    {
      "cell_type": "markdown",
      "source": [
        "### None type data"
      ],
      "metadata": {
        "id": "KC9kercTcL0X"
      }
    },
    {
      "cell_type": "code",
      "source": [
        "noneData = None # None type data is used to denote no value.\n",
        "type(None)"
      ],
      "metadata": {
        "colab": {
          "base_uri": "https://localhost:8080/"
        },
        "id": "fPqdA36RcGCt",
        "outputId": "2336f2ad-51c8-4c62-964f-11b89cb92eab"
      },
      "execution_count": 27,
      "outputs": [
        {
          "output_type": "execute_result",
          "data": {
            "text/plain": [
              "NoneType"
            ]
          },
          "metadata": {},
          "execution_count": 27
        }
      ]
    },
    {
      "cell_type": "markdown",
      "source": [
        "\n",
        "#### Input from user"
      ],
      "metadata": {
        "id": "G3NNauzpufWK"
      }
    },
    {
      "cell_type": "code",
      "source": [
        "num1 = input(\"Enter first number:\\n\")\n",
        "num2 = input(\"Enter second number:\\n\")"
      ],
      "metadata": {
        "colab": {
          "base_uri": "https://localhost:8080/"
        },
        "id": "P7I7_s37ujd8",
        "outputId": "5429142a-4d23-465e-93ac-bea69f8f33d2"
      },
      "execution_count": 28,
      "outputs": [
        {
          "name": "stdout",
          "output_type": "stream",
          "text": [
            "Enter first number:\n",
            "10\n",
            "Enter second number:\n",
            "15\n"
          ]
        }
      ]
    },
    {
      "cell_type": "markdown",
      "source": [
        "# Mathematical operations in Python"
      ],
      "metadata": {
        "id": "QBTIAxrd3eU5"
      }
    },
    {
      "cell_type": "markdown",
      "source": [
        "### Addition operation"
      ],
      "metadata": {
        "id": "8L0VP60j0RYZ"
      }
    },
    {
      "cell_type": "code",
      "source": [
        "print(num1 + num2)"
      ],
      "metadata": {
        "colab": {
          "base_uri": "https://localhost:8080/"
        },
        "id": "ZLd3DBLqvbdR",
        "outputId": "626a4566-8cd5-4025-8ddd-16676073a14b"
      },
      "execution_count": 29,
      "outputs": [
        {
          "output_type": "stream",
          "name": "stdout",
          "text": [
            "1015\n"
          ]
        }
      ]
    },
    {
      "cell_type": "code",
      "source": [
        "n1 = int(num1)\n",
        "n2 = int(num2)"
      ],
      "metadata": {
        "id": "QB4JG_9wvuSE"
      },
      "execution_count": 30,
      "outputs": []
    },
    {
      "cell_type": "code",
      "source": [
        "n1 + n2"
      ],
      "metadata": {
        "colab": {
          "base_uri": "https://localhost:8080/"
        },
        "id": "fq7ERXYnv7CA",
        "outputId": "936c82a8-9c27-4bc6-ca5c-06867257715f"
      },
      "execution_count": 31,
      "outputs": [
        {
          "output_type": "execute_result",
          "data": {
            "text/plain": [
              "25"
            ]
          },
          "metadata": {},
          "execution_count": 31
        }
      ]
    },
    {
      "cell_type": "code",
      "source": [
        "num1 + num2"
      ],
      "metadata": {
        "colab": {
          "base_uri": "https://localhost:8080/",
          "height": 36
        },
        "id": "kj6f3lC3v8C5",
        "outputId": "6d1f8b4e-7150-4b4d-8d97-cfd08fdacfc7"
      },
      "execution_count": 32,
      "outputs": [
        {
          "output_type": "execute_result",
          "data": {
            "text/plain": [
              "'1015'"
            ],
            "application/vnd.google.colaboratory.intrinsic+json": {
              "type": "string"
            }
          },
          "metadata": {},
          "execution_count": 32
        }
      ]
    },
    {
      "cell_type": "markdown",
      "source": [
        "<pre> 1. For addition                 n1+n2 </pre>\n",
        "<pre> 2. For multiplication           n1 * n2 </pre>\n",
        "<pre> 3. For subtraction              n1 - n2 </pre>\n",
        "<pre> 4. For exponentiation           n1 ** n2 </pre>\n",
        "<pre> 5. For division                 n1 / n2 </pre>\n",
        "<pre> 6. For floor division           n1//n2 </pre>\n",
        "<pre> 7. For modulus                  n1 % n2 </pre>"
      ],
      "metadata": {
        "id": "-aZhsiL_v-3i"
      }
    },
    {
      "cell_type": "markdown",
      "source": [
        "### Multiplication operation\n"
      ],
      "metadata": {
        "id": "A6lgAoke0Vrp"
      }
    },
    {
      "cell_type": "code",
      "source": [
        "n1 * n2"
      ],
      "metadata": {
        "colab": {
          "base_uri": "https://localhost:8080/"
        },
        "id": "dLuPWGj10Y7r",
        "outputId": "8abfea80-d24e-4951-bb84-7d673c4ecb51"
      },
      "execution_count": 33,
      "outputs": [
        {
          "output_type": "execute_result",
          "data": {
            "text/plain": [
              "150"
            ]
          },
          "metadata": {},
          "execution_count": 33
        }
      ]
    },
    {
      "cell_type": "markdown",
      "source": [
        "###Power"
      ],
      "metadata": {
        "id": "Wwhocy4Z00cv"
      }
    },
    {
      "cell_type": "code",
      "source": [
        "2 ** 3"
      ],
      "metadata": {
        "colab": {
          "base_uri": "https://localhost:8080/"
        },
        "id": "d4VexoL40yQ3",
        "outputId": "a497f432-ba0a-4a97-cb43-ca96eceb17a6"
      },
      "execution_count": 34,
      "outputs": [
        {
          "output_type": "execute_result",
          "data": {
            "text/plain": [
              "8"
            ]
          },
          "metadata": {},
          "execution_count": 34
        }
      ]
    },
    {
      "cell_type": "code",
      "source": [
        "3 ** 2"
      ],
      "metadata": {
        "colab": {
          "base_uri": "https://localhost:8080/"
        },
        "id": "DCXRHY5u1JRZ",
        "outputId": "bb8253a2-64ca-4428-e1c7-dccc9deb9e39"
      },
      "execution_count": 35,
      "outputs": [
        {
          "output_type": "execute_result",
          "data": {
            "text/plain": [
              "9"
            ]
          },
          "metadata": {},
          "execution_count": 35
        }
      ]
    },
    {
      "cell_type": "markdown",
      "source": [
        "### Subtraction operation"
      ],
      "metadata": {
        "id": "-VHahs9o0oIw"
      }
    },
    {
      "cell_type": "code",
      "source": [
        "n1 - n2"
      ],
      "metadata": {
        "colab": {
          "base_uri": "https://localhost:8080/"
        },
        "id": "Gr6ZuODb6i3t",
        "outputId": "a95a0bcb-d990-4902-84e9-46af149be325"
      },
      "execution_count": 36,
      "outputs": [
        {
          "output_type": "execute_result",
          "data": {
            "text/plain": [
              "-5"
            ]
          },
          "metadata": {},
          "execution_count": 36
        }
      ]
    },
    {
      "cell_type": "markdown",
      "source": [
        "### Division operation"
      ],
      "metadata": {
        "id": "L4dFnnyw0N8n"
      }
    },
    {
      "cell_type": "code",
      "source": [
        "99 / 5"
      ],
      "metadata": {
        "colab": {
          "base_uri": "https://localhost:8080/"
        },
        "id": "3D9pmPDTv9tG",
        "outputId": "142184f7-b960-4ea2-99d7-4c782c0c0212"
      },
      "execution_count": 37,
      "outputs": [
        {
          "output_type": "execute_result",
          "data": {
            "text/plain": [
              "19.8"
            ]
          },
          "metadata": {},
          "execution_count": 37
        }
      ]
    },
    {
      "cell_type": "code",
      "source": [
        "int(99 / 5)"
      ],
      "metadata": {
        "colab": {
          "base_uri": "https://localhost:8080/"
        },
        "id": "_qpGPCYWwVvH",
        "outputId": "d1adfb77-cbcb-441e-c4c2-4c642771cbcc"
      },
      "execution_count": 38,
      "outputs": [
        {
          "output_type": "execute_result",
          "data": {
            "text/plain": [
              "19"
            ]
          },
          "metadata": {},
          "execution_count": 38
        }
      ]
    },
    {
      "cell_type": "code",
      "source": [
        "10/3"
      ],
      "metadata": {
        "colab": {
          "base_uri": "https://localhost:8080/"
        },
        "id": "iZrC2OJczw2P",
        "outputId": "98b4d822-e370-4139-9bdd-4298f9a69e4b"
      },
      "execution_count": 39,
      "outputs": [
        {
          "output_type": "execute_result",
          "data": {
            "text/plain": [
              "3.3333333333333335"
            ]
          },
          "metadata": {},
          "execution_count": 39
        }
      ]
    },
    {
      "cell_type": "code",
      "source": [
        "int(10 / 3)"
      ],
      "metadata": {
        "colab": {
          "base_uri": "https://localhost:8080/"
        },
        "id": "vCiUOYQAzyE-",
        "outputId": "e6b2fa5d-ac81-464e-983e-f08f89c44321"
      },
      "execution_count": 40,
      "outputs": [
        {
          "output_type": "execute_result",
          "data": {
            "text/plain": [
              "3"
            ]
          },
          "metadata": {},
          "execution_count": 40
        }
      ]
    },
    {
      "cell_type": "code",
      "source": [
        "10\\3"
      ],
      "metadata": {
        "id": "v-V7ghzT1Ttn",
        "colab": {
          "base_uri": "https://localhost:8080/",
          "height": 141
        },
        "outputId": "2426b6e7-0a9a-463d-9b02-d426b58f0179"
      },
      "execution_count": 41,
      "outputs": [
        {
          "output_type": "error",
          "ename": "SyntaxError",
          "evalue": "unexpected character after line continuation character (<ipython-input-41-fac17f48ce1a>, line 1)",
          "traceback": [
            "\u001b[0;36m  File \u001b[0;32m\"<ipython-input-41-fac17f48ce1a>\"\u001b[0;36m, line \u001b[0;32m1\u001b[0m\n\u001b[0;31m    10\\3\u001b[0m\n\u001b[0m       ^\u001b[0m\n\u001b[0;31mSyntaxError\u001b[0m\u001b[0;31m:\u001b[0m unexpected character after line continuation character\n"
          ]
        }
      ]
    },
    {
      "cell_type": "markdown",
      "source": [
        "### Importing Library"
      ],
      "metadata": {
        "id": "1Tj0KlvT6ocQ"
      }
    },
    {
      "cell_type": "code",
      "source": [
        "import math"
      ],
      "metadata": {
        "id": "3auK7o8Oz1oH"
      },
      "execution_count": 43,
      "outputs": []
    },
    {
      "cell_type": "code",
      "source": [
        "ceilingResult = math.ceil(99/5)\n",
        "print(ceilingResult)"
      ],
      "metadata": {
        "colab": {
          "base_uri": "https://localhost:8080/"
        },
        "id": "5EJ7LWn-z6ch",
        "outputId": "381324a7-6e76-477a-c48b-883afa8684fe"
      },
      "execution_count": 44,
      "outputs": [
        {
          "output_type": "stream",
          "name": "stdout",
          "text": [
            "20\n"
          ]
        }
      ]
    },
    {
      "cell_type": "code",
      "source": [
        "floorResult = math.floor(99/5)\n",
        "floorResult"
      ],
      "metadata": {
        "colab": {
          "base_uri": "https://localhost:8080/"
        },
        "id": "J_k6VSg-0FmG",
        "outputId": "a07888ac-f6c5-447e-8f78-2553ca7a1dff"
      },
      "execution_count": 45,
      "outputs": [
        {
          "output_type": "execute_result",
          "data": {
            "text/plain": [
              "19"
            ]
          },
          "metadata": {},
          "execution_count": 45
        }
      ]
    },
    {
      "cell_type": "code",
      "source": [
        "99//5"
      ],
      "metadata": {
        "colab": {
          "base_uri": "https://localhost:8080/"
        },
        "id": "G4ih12wk8tA5",
        "outputId": "54af75fe-7911-4c42-b63a-2b12659e0bcd"
      },
      "execution_count": 46,
      "outputs": [
        {
          "output_type": "execute_result",
          "data": {
            "text/plain": [
              "19"
            ]
          },
          "metadata": {},
          "execution_count": 46
        }
      ]
    },
    {
      "cell_type": "markdown",
      "source": [
        "### Modulus operation"
      ],
      "metadata": {
        "id": "cXoAd30N-Hbu"
      }
    },
    {
      "cell_type": "code",
      "source": [
        "10 % 3"
      ],
      "metadata": {
        "colab": {
          "base_uri": "https://localhost:8080/"
        },
        "id": "xtABRiSK-Nsd",
        "outputId": "ae446d0c-bee7-4ffe-9154-a5a14c24f5b9"
      },
      "execution_count": 47,
      "outputs": [
        {
          "output_type": "execute_result",
          "data": {
            "text/plain": [
              "1"
            ]
          },
          "metadata": {},
          "execution_count": 47
        }
      ]
    },
    {
      "cell_type": "code",
      "source": [
        "10 % 2"
      ],
      "metadata": {
        "colab": {
          "base_uri": "https://localhost:8080/"
        },
        "id": "u7FiSOko-RWT",
        "outputId": "49791226-5617-4301-ce4f-8f77b6a8ce1c"
      },
      "execution_count": 48,
      "outputs": [
        {
          "output_type": "execute_result",
          "data": {
            "text/plain": [
              "0"
            ]
          },
          "metadata": {},
          "execution_count": 48
        }
      ]
    },
    {
      "cell_type": "markdown",
      "source": [
        "# Precedence of operators"
      ],
      "metadata": {
        "id": "q7CN3wec7-vv"
      }
    },
    {
      "cell_type": "markdown",
      "source": [
        "<pre>1. Parentheses ()</pre>\n",
        "<pre>2. Exponentiation ** </pre>\n",
        "<pre>3. Multiplication *, Division /, Floor Division //, Modulus %</pre>\n",
        "<pre>4. Addition +, Subtraction -</pre>"
      ],
      "metadata": {
        "id": "ZXFT_QOS8KZ8"
      }
    },
    {
      "cell_type": "markdown",
      "source": [
        "#### **Multiplication, division, floor division, and modulus operations** are evaluated from **left to right**."
      ],
      "metadata": {
        "id": "P0Frb6PAAZnZ"
      }
    },
    {
      "cell_type": "markdown",
      "source": [
        "#### **Addition** and **subtraction** operations are evaluated from **left to right**."
      ],
      "metadata": {
        "id": "oVMzvw3v8jCA"
      }
    },
    {
      "cell_type": "code",
      "source": [
        "2 + 3 * 4"
      ],
      "metadata": {
        "colab": {
          "base_uri": "https://localhost:8080/"
        },
        "id": "g3WFWC2U-s3a",
        "outputId": "2611369f-e12d-440a-83ce-c8ab4c6e103a"
      },
      "execution_count": 49,
      "outputs": [
        {
          "output_type": "execute_result",
          "data": {
            "text/plain": [
              "14"
            ]
          },
          "metadata": {},
          "execution_count": 49
        }
      ]
    },
    {
      "cell_type": "code",
      "source": [
        "(2 + 3) * 4"
      ],
      "metadata": {
        "colab": {
          "base_uri": "https://localhost:8080/"
        },
        "id": "AMvgUG4nABvW",
        "outputId": "f7526bbe-d4a9-492b-ec7e-e1f82f36350e"
      },
      "execution_count": 50,
      "outputs": [
        {
          "output_type": "execute_result",
          "data": {
            "text/plain": [
              "20"
            ]
          },
          "metadata": {},
          "execution_count": 50
        }
      ]
    },
    {
      "cell_type": "code",
      "source": [
        "2 + 3 * 5 / 5 - 1"
      ],
      "metadata": {
        "colab": {
          "base_uri": "https://localhost:8080/"
        },
        "id": "qiQQqXalAzjh",
        "outputId": "9ee9496f-8172-4b39-a53b-83746e40aa2c"
      },
      "execution_count": 51,
      "outputs": [
        {
          "output_type": "execute_result",
          "data": {
            "text/plain": [
              "4.0"
            ]
          },
          "metadata": {},
          "execution_count": 51
        }
      ]
    },
    {
      "cell_type": "code",
      "source": [
        "2 + 3 * 5 // 5 - 1"
      ],
      "metadata": {
        "colab": {
          "base_uri": "https://localhost:8080/"
        },
        "id": "n5nK079xA9NK",
        "outputId": "b44a68cc-1311-4214-bffa-669df7ff6754"
      },
      "execution_count": 52,
      "outputs": [
        {
          "output_type": "execute_result",
          "data": {
            "text/plain": [
              "4"
            ]
          },
          "metadata": {},
          "execution_count": 52
        }
      ]
    },
    {
      "cell_type": "markdown",
      "source": [
        "####  The division / between two integers results in float. The floor division // between two integers results in an integer."
      ],
      "metadata": {
        "id": "nBH2AnbjBrUj"
      }
    },
    {
      "cell_type": "code",
      "source": [
        "2 ** 3 ** 2"
      ],
      "metadata": {
        "colab": {
          "base_uri": "https://localhost:8080/"
        },
        "id": "hZ7sWB1-AScV",
        "outputId": "af8ce418-bee7-4b76-f0e8-61302a058aa5"
      },
      "execution_count": 53,
      "outputs": [
        {
          "output_type": "execute_result",
          "data": {
            "text/plain": [
              "512"
            ]
          },
          "metadata": {},
          "execution_count": 53
        }
      ]
    },
    {
      "cell_type": "markdown",
      "source": [
        "#### Exponentiation (**) has right-to-left precedence, meaning the rightmost exponentiation is evaluated first."
      ],
      "metadata": {
        "id": "mMWHHEyWAnJA"
      }
    },
    {
      "cell_type": "markdown",
      "source": [
        "# List, Tuple, Set and Dictionary\n",
        "\n",
        "\n",
        "\n"
      ],
      "metadata": {
        "id": "Uj1buAA38y9D"
      }
    },
    {
      "cell_type": "markdown",
      "source": [
        "### List"
      ],
      "metadata": {
        "id": "y8oSnApz-QnM"
      }
    },
    {
      "cell_type": "code",
      "source": [
        "listOfElements = [1,2, \"Nezuko\", 3.5]"
      ],
      "metadata": {
        "id": "EjQMpZL18ya9"
      },
      "execution_count": 54,
      "outputs": []
    },
    {
      "cell_type": "code",
      "source": [
        "print(listOfElements)"
      ],
      "metadata": {
        "colab": {
          "base_uri": "https://localhost:8080/"
        },
        "id": "EqFi64X88eyf",
        "outputId": "e9f8ecfe-8cc3-4ba0-911e-6bf8abbd33e6"
      },
      "execution_count": 55,
      "outputs": [
        {
          "output_type": "stream",
          "name": "stdout",
          "text": [
            "[1, 2, 'Nezuko', 3.5]\n"
          ]
        }
      ]
    },
    {
      "cell_type": "code",
      "source": [
        "listOfElements[2]"
      ],
      "metadata": {
        "colab": {
          "base_uri": "https://localhost:8080/",
          "height": 36
        },
        "id": "be3d8aoY8euW",
        "outputId": "f59d4dc0-e1e5-48bb-b05c-e39d73dfd328"
      },
      "execution_count": 56,
      "outputs": [
        {
          "output_type": "execute_result",
          "data": {
            "text/plain": [
              "'Nezuko'"
            ],
            "application/vnd.google.colaboratory.intrinsic+json": {
              "type": "string"
            }
          },
          "metadata": {},
          "execution_count": 56
        }
      ]
    },
    {
      "cell_type": "code",
      "source": [
        "listOfElements[:3]"
      ],
      "metadata": {
        "colab": {
          "base_uri": "https://localhost:8080/"
        },
        "id": "7rEBsaKa8erM",
        "outputId": "fc5a6bd4-068b-4cec-fdca-e34760c59cc3"
      },
      "execution_count": 57,
      "outputs": [
        {
          "output_type": "execute_result",
          "data": {
            "text/plain": [
              "[1, 2, 'Nezuko']"
            ]
          },
          "metadata": {},
          "execution_count": 57
        }
      ]
    },
    {
      "cell_type": "code",
      "source": [
        "listOfElements[1:3]"
      ],
      "metadata": {
        "colab": {
          "base_uri": "https://localhost:8080/"
        },
        "id": "qTjZguFH8emD",
        "outputId": "b82267c6-96ce-4c79-a980-8db239be1347"
      },
      "execution_count": 58,
      "outputs": [
        {
          "output_type": "execute_result",
          "data": {
            "text/plain": [
              "[2, 'Nezuko']"
            ]
          },
          "metadata": {},
          "execution_count": 58
        }
      ]
    },
    {
      "cell_type": "code",
      "source": [
        "listOfElements[0:]"
      ],
      "metadata": {
        "colab": {
          "base_uri": "https://localhost:8080/"
        },
        "id": "2FQBKfW08eom",
        "outputId": "d4d061e3-6433-4645-9d02-774cb179ea08"
      },
      "execution_count": 59,
      "outputs": [
        {
          "output_type": "execute_result",
          "data": {
            "text/plain": [
              "[1, 2, 'Nezuko', 3.5]"
            ]
          },
          "metadata": {},
          "execution_count": 59
        }
      ]
    },
    {
      "cell_type": "markdown",
      "source": [
        "#### Empty list"
      ],
      "metadata": {
        "id": "FzWIBpQ89hdK"
      }
    },
    {
      "cell_type": "code",
      "source": [
        "emptyList = []"
      ],
      "metadata": {
        "id": "ozF8RxOH9jQy"
      },
      "execution_count": 60,
      "outputs": []
    },
    {
      "cell_type": "code",
      "source": [
        "emptyList.append(5)"
      ],
      "metadata": {
        "id": "q15Dar6B8ejI"
      },
      "execution_count": 61,
      "outputs": []
    },
    {
      "cell_type": "code",
      "source": [
        "emptyList.append(10)"
      ],
      "metadata": {
        "id": "AQb-EXDr8egh"
      },
      "execution_count": 62,
      "outputs": []
    },
    {
      "cell_type": "code",
      "source": [
        "emptyList"
      ],
      "metadata": {
        "colab": {
          "base_uri": "https://localhost:8080/"
        },
        "id": "cpUsl9mH8ed6",
        "outputId": "c4e2f9b7-f5ea-4ac1-932e-126d99acd083"
      },
      "execution_count": 63,
      "outputs": [
        {
          "output_type": "execute_result",
          "data": {
            "text/plain": [
              "[5, 10]"
            ]
          },
          "metadata": {},
          "execution_count": 63
        }
      ]
    },
    {
      "cell_type": "code",
      "source": [
        "emptyList = [1] + emptyList"
      ],
      "metadata": {
        "id": "KI4tpIjS8eaS"
      },
      "execution_count": 64,
      "outputs": []
    },
    {
      "cell_type": "code",
      "source": [
        "emptyList"
      ],
      "metadata": {
        "colab": {
          "base_uri": "https://localhost:8080/"
        },
        "id": "bW1h0zwl8eV1",
        "outputId": "28872afd-4e83-4449-8c22-244909fc1493"
      },
      "execution_count": 65,
      "outputs": [
        {
          "output_type": "execute_result",
          "data": {
            "text/plain": [
              "[1, 5, 10]"
            ]
          },
          "metadata": {},
          "execution_count": 65
        }
      ]
    },
    {
      "cell_type": "code",
      "source": [
        "emptyList.insert(0,0.5)"
      ],
      "metadata": {
        "id": "o-8fvr_E8eTQ"
      },
      "execution_count": 66,
      "outputs": []
    },
    {
      "cell_type": "code",
      "source": [
        "emptyList"
      ],
      "metadata": {
        "colab": {
          "base_uri": "https://localhost:8080/"
        },
        "id": "UP0pNTCb8eQ5",
        "outputId": "bdf5e825-9537-4ff6-8aa7-be8159081342"
      },
      "execution_count": 67,
      "outputs": [
        {
          "output_type": "execute_result",
          "data": {
            "text/plain": [
              "[0.5, 1, 5, 10]"
            ]
          },
          "metadata": {},
          "execution_count": 67
        }
      ]
    },
    {
      "cell_type": "code",
      "source": [
        "emptyList.insert(2,3.5)"
      ],
      "metadata": {
        "id": "-0CiOBtV8eOS"
      },
      "execution_count": 68,
      "outputs": []
    },
    {
      "cell_type": "code",
      "source": [
        "emptyList"
      ],
      "metadata": {
        "colab": {
          "base_uri": "https://localhost:8080/"
        },
        "id": "gJHcedmg8eLc",
        "outputId": "7967f2fb-9a3f-4e30-a49c-490a95520330"
      },
      "execution_count": 69,
      "outputs": [
        {
          "output_type": "execute_result",
          "data": {
            "text/plain": [
              "[0.5, 1, 3.5, 5, 10]"
            ]
          },
          "metadata": {},
          "execution_count": 69
        }
      ]
    },
    {
      "cell_type": "code",
      "source": [
        "emptyList.pop()"
      ],
      "metadata": {
        "colab": {
          "base_uri": "https://localhost:8080/"
        },
        "id": "HmAhfE32_AIw",
        "outputId": "cbd66fcf-1e72-4943-e320-0d82465ce6ce"
      },
      "execution_count": 70,
      "outputs": [
        {
          "output_type": "execute_result",
          "data": {
            "text/plain": [
              "10"
            ]
          },
          "metadata": {},
          "execution_count": 70
        }
      ]
    },
    {
      "cell_type": "code",
      "source": [
        "emptyList"
      ],
      "metadata": {
        "colab": {
          "base_uri": "https://localhost:8080/"
        },
        "id": "ov-Cfd8D_Ccs",
        "outputId": "b4ad600a-1eee-4576-fc20-fb2527aed644"
      },
      "execution_count": 71,
      "outputs": [
        {
          "output_type": "execute_result",
          "data": {
            "text/plain": [
              "[0.5, 1, 3.5, 5]"
            ]
          },
          "metadata": {},
          "execution_count": 71
        }
      ]
    },
    {
      "cell_type": "code",
      "source": [
        "emptyList[3] = 5.5"
      ],
      "metadata": {
        "id": "78Jhc0kM_zvM"
      },
      "execution_count": 72,
      "outputs": []
    },
    {
      "cell_type": "code",
      "source": [
        "emptyList"
      ],
      "metadata": {
        "colab": {
          "base_uri": "https://localhost:8080/"
        },
        "id": "RYe2pKlf_6CB",
        "outputId": "52c8928b-fcb2-49be-a384-221617d37c75"
      },
      "execution_count": 73,
      "outputs": [
        {
          "output_type": "execute_result",
          "data": {
            "text/plain": [
              "[0.5, 1, 3.5, 5.5]"
            ]
          },
          "metadata": {},
          "execution_count": 73
        }
      ]
    },
    {
      "cell_type": "markdown",
      "source": [
        "#### **List** is **mutable**, meaning you can add, remove, or modify elements after the list is created. Lists are denoted by square brackets **[ ]** and can hold elements of different data types."
      ],
      "metadata": {
        "id": "zvRIRjJt_Rmi"
      }
    },
    {
      "cell_type": "markdown",
      "source": [
        "### Tuple"
      ],
      "metadata": {
        "id": "7WKVzoUU-fPP"
      }
    },
    {
      "cell_type": "markdown",
      "source": [
        "#### **Tuples** are **immutable** ."
      ],
      "metadata": {
        "id": "CScqAsMj_9Gv"
      }
    },
    {
      "cell_type": "code",
      "source": [
        "tuple1 = tuple(emptyList)"
      ],
      "metadata": {
        "id": "PpmKAruY-uaE"
      },
      "execution_count": 74,
      "outputs": []
    },
    {
      "cell_type": "code",
      "source": [
        "tuple1"
      ],
      "metadata": {
        "colab": {
          "base_uri": "https://localhost:8080/"
        },
        "id": "vGHClDD8-u0g",
        "outputId": "40cc96eb-55d1-4810-b3b0-d59007ed9882"
      },
      "execution_count": 75,
      "outputs": [
        {
          "output_type": "execute_result",
          "data": {
            "text/plain": [
              "(0.5, 1, 3.5, 5.5)"
            ]
          },
          "metadata": {},
          "execution_count": 75
        }
      ]
    },
    {
      "cell_type": "code",
      "source": [
        "tuple2 = (10,20,30,40,50,60)"
      ],
      "metadata": {
        "id": "3adMyCcG-vR4"
      },
      "execution_count": 76,
      "outputs": []
    },
    {
      "cell_type": "code",
      "source": [
        "tuple2"
      ],
      "metadata": {
        "colab": {
          "base_uri": "https://localhost:8080/"
        },
        "id": "eHWqhH8e-wVT",
        "outputId": "7a33ffed-5b0b-44e7-8233-fc84c1d6b544"
      },
      "execution_count": 77,
      "outputs": [
        {
          "output_type": "execute_result",
          "data": {
            "text/plain": [
              "(10, 20, 30, 40, 50, 60)"
            ]
          },
          "metadata": {},
          "execution_count": 77
        }
      ]
    },
    {
      "cell_type": "markdown",
      "source": [
        "#### Adding elements to tuple"
      ],
      "metadata": {
        "id": "9JrrR1oVBL_1"
      }
    },
    {
      "cell_type": "code",
      "source": [
        "newTuple = (0,5) + tuple2 + (70, 80)"
      ],
      "metadata": {
        "id": "S3Q5d3EV-wkI"
      },
      "execution_count": 78,
      "outputs": []
    },
    {
      "cell_type": "code",
      "source": [
        "newTuple"
      ],
      "metadata": {
        "colab": {
          "base_uri": "https://localhost:8080/"
        },
        "id": "uzeJF-TK-wx8",
        "outputId": "af39f7d0-df04-4c80-8e17-7d54d3180456"
      },
      "execution_count": 79,
      "outputs": [
        {
          "output_type": "execute_result",
          "data": {
            "text/plain": [
              "(0, 5, 10, 20, 30, 40, 50, 60, 70, 80)"
            ]
          },
          "metadata": {},
          "execution_count": 79
        }
      ]
    },
    {
      "cell_type": "markdown",
      "source": [
        "####**You can concatenate tuples to create a new tuple.**"
      ],
      "metadata": {
        "id": "cqvVVYzMA7DZ"
      }
    },
    {
      "cell_type": "markdown",
      "source": [
        "#### Removing elements from tuple"
      ],
      "metadata": {
        "id": "ax9x5fWoBRTG"
      }
    },
    {
      "cell_type": "code",
      "source": [
        "newTuple2 = newTuple[0:3] + newTuple[-3:]"
      ],
      "metadata": {
        "id": "x0BmBiMd-2_H"
      },
      "execution_count": 80,
      "outputs": []
    },
    {
      "cell_type": "code",
      "source": [
        "newTuple2"
      ],
      "metadata": {
        "colab": {
          "base_uri": "https://localhost:8080/"
        },
        "id": "ZKtsTocA-28w",
        "outputId": "74c4efd9-75be-4b0c-dbfd-3e0e2064d6b9"
      },
      "execution_count": 81,
      "outputs": [
        {
          "output_type": "execute_result",
          "data": {
            "text/plain": [
              "(0, 5, 10, 60, 70, 80)"
            ]
          },
          "metadata": {},
          "execution_count": 81
        }
      ]
    },
    {
      "cell_type": "markdown",
      "source": [
        "#### Modifying elements in a tuple"
      ],
      "metadata": {
        "id": "puQ5LMGMB3nv"
      }
    },
    {
      "cell_type": "code",
      "source": [
        "newTuple3 = newTuple2[:2] + (50,) + newTuple2[-2:]"
      ],
      "metadata": {
        "id": "8RgnNBDI-254"
      },
      "execution_count": 82,
      "outputs": []
    },
    {
      "cell_type": "code",
      "source": [
        "newTuple3"
      ],
      "metadata": {
        "colab": {
          "base_uri": "https://localhost:8080/"
        },
        "id": "NZRwUK2g-23S",
        "outputId": "1f01237b-85fd-4090-ae9a-a016c7e49a6e"
      },
      "execution_count": 83,
      "outputs": [
        {
          "output_type": "execute_result",
          "data": {
            "text/plain": [
              "(0, 5, 50, 70, 80)"
            ]
          },
          "metadata": {},
          "execution_count": 83
        }
      ]
    },
    {
      "cell_type": "code",
      "source": [
        "newTuple3[2] = 50.5"
      ],
      "metadata": {
        "id": "Fcia63z3-2x2",
        "colab": {
          "base_uri": "https://localhost:8080/",
          "height": 176
        },
        "outputId": "cb16620e-4e7e-495d-df0f-615cc884ec5f"
      },
      "execution_count": 84,
      "outputs": [
        {
          "output_type": "error",
          "ename": "TypeError",
          "evalue": "'tuple' object does not support item assignment",
          "traceback": [
            "\u001b[0;31m---------------------------------------------------------------------------\u001b[0m",
            "\u001b[0;31mTypeError\u001b[0m                                 Traceback (most recent call last)",
            "\u001b[0;32m<ipython-input-84-ca7899a5c5b7>\u001b[0m in \u001b[0;36m<cell line: 1>\u001b[0;34m()\u001b[0m\n\u001b[0;32m----> 1\u001b[0;31m \u001b[0mnewTuple3\u001b[0m\u001b[0;34m[\u001b[0m\u001b[0;36m2\u001b[0m\u001b[0;34m]\u001b[0m \u001b[0;34m=\u001b[0m \u001b[0;36m50.5\u001b[0m\u001b[0;34m\u001b[0m\u001b[0;34m\u001b[0m\u001b[0m\n\u001b[0m",
            "\u001b[0;31mTypeError\u001b[0m: 'tuple' object does not support item assignment"
          ]
        }
      ]
    },
    {
      "cell_type": "markdown",
      "source": [
        "# Indexing"
      ],
      "metadata": {
        "id": "9saOV-tgCpI4"
      }
    },
    {
      "cell_type": "code",
      "source": [
        "newTuple3[2]"
      ],
      "metadata": {
        "colab": {
          "base_uri": "https://localhost:8080/"
        },
        "id": "Clp5Plra-20r",
        "outputId": "6c3ce4a2-1361-4a52-c8d0-33865cf965c7"
      },
      "execution_count": 85,
      "outputs": [
        {
          "output_type": "execute_result",
          "data": {
            "text/plain": [
              "50"
            ]
          },
          "metadata": {},
          "execution_count": 85
        }
      ]
    },
    {
      "cell_type": "markdown",
      "source": [
        "# Slicing"
      ],
      "metadata": {
        "id": "afqL8D6ZC2Nj"
      }
    },
    {
      "cell_type": "code",
      "source": [
        "newTuple3[:3]"
      ],
      "metadata": {
        "colab": {
          "base_uri": "https://localhost:8080/"
        },
        "id": "murYBNnA-2vO",
        "outputId": "a2a8f660-7a56-4638-ae51-a7eca8a77ad2"
      },
      "execution_count": 86,
      "outputs": [
        {
          "output_type": "execute_result",
          "data": {
            "text/plain": [
              "(0, 5, 50)"
            ]
          },
          "metadata": {},
          "execution_count": 86
        }
      ]
    },
    {
      "cell_type": "markdown",
      "source": [
        "# Set"
      ],
      "metadata": {
        "id": "fyJ_PZ05DluC"
      }
    },
    {
      "cell_type": "code",
      "source": [
        "newSet = set(newTuple3)"
      ],
      "metadata": {
        "id": "VfcRTvlQDlRW"
      },
      "execution_count": 87,
      "outputs": []
    },
    {
      "cell_type": "code",
      "source": [
        "newSet"
      ],
      "metadata": {
        "colab": {
          "base_uri": "https://localhost:8080/"
        },
        "id": "X-ugItA_DlOf",
        "outputId": "ecb67c1e-9288-4122-ac74-fbc1e88e387b"
      },
      "execution_count": 88,
      "outputs": [
        {
          "output_type": "execute_result",
          "data": {
            "text/plain": [
              "{0, 5, 50, 70, 80}"
            ]
          },
          "metadata": {},
          "execution_count": 88
        }
      ]
    },
    {
      "cell_type": "code",
      "source": [
        "newSet.add(1)"
      ],
      "metadata": {
        "id": "_KXZIe5uDlLp"
      },
      "execution_count": 89,
      "outputs": []
    },
    {
      "cell_type": "code",
      "source": [
        "newSet"
      ],
      "metadata": {
        "colab": {
          "base_uri": "https://localhost:8080/"
        },
        "id": "wjkH0hlHDlJS",
        "outputId": "f1ca66f1-e148-423f-892c-92feb433debd"
      },
      "execution_count": 90,
      "outputs": [
        {
          "output_type": "execute_result",
          "data": {
            "text/plain": [
              "{0, 1, 5, 50, 70, 80}"
            ]
          },
          "metadata": {},
          "execution_count": 90
        }
      ]
    },
    {
      "cell_type": "code",
      "source": [
        "newSet.remove(50)"
      ],
      "metadata": {
        "id": "_I8a6uCRDlGt"
      },
      "execution_count": 91,
      "outputs": []
    },
    {
      "cell_type": "code",
      "source": [
        "newSet"
      ],
      "metadata": {
        "colab": {
          "base_uri": "https://localhost:8080/"
        },
        "id": "IG7-BWHWDlEW",
        "outputId": "96d04acc-6cbb-4923-ca31-29c8a8f211a8"
      },
      "execution_count": 92,
      "outputs": [
        {
          "output_type": "execute_result",
          "data": {
            "text/plain": [
              "{0, 1, 5, 70, 80}"
            ]
          },
          "metadata": {},
          "execution_count": 92
        }
      ]
    },
    {
      "cell_type": "code",
      "source": [
        "newSet.discard(70)"
      ],
      "metadata": {
        "id": "aArOs_J2EgIo"
      },
      "execution_count": 93,
      "outputs": []
    },
    {
      "cell_type": "code",
      "source": [
        "newSet"
      ],
      "metadata": {
        "colab": {
          "base_uri": "https://localhost:8080/"
        },
        "id": "pgoG1xiMElBH",
        "outputId": "48ccdc85-a6be-4f59-99c0-fe32ba801465"
      },
      "execution_count": 94,
      "outputs": [
        {
          "output_type": "execute_result",
          "data": {
            "text/plain": [
              "{0, 1, 5, 80}"
            ]
          },
          "metadata": {},
          "execution_count": 94
        }
      ]
    },
    {
      "cell_type": "code",
      "source": [
        "updatingSet = {90,3,80,30}"
      ],
      "metadata": {
        "id": "F2u0MWVsDlBx"
      },
      "execution_count": 95,
      "outputs": []
    },
    {
      "cell_type": "code",
      "source": [
        "type(updatingSet)"
      ],
      "metadata": {
        "colab": {
          "base_uri": "https://localhost:8080/"
        },
        "id": "Pm0IFS9wDk_K",
        "outputId": "7c3ba36f-abd6-4bc1-b1c9-b4678aa424a9"
      },
      "execution_count": 96,
      "outputs": [
        {
          "output_type": "execute_result",
          "data": {
            "text/plain": [
              "set"
            ]
          },
          "metadata": {},
          "execution_count": 96
        }
      ]
    },
    {
      "cell_type": "code",
      "source": [
        "updatingSet"
      ],
      "metadata": {
        "colab": {
          "base_uri": "https://localhost:8080/"
        },
        "id": "R9jrf4AjDk81",
        "outputId": "e1904b22-cd55-4764-efd2-d81de435f876"
      },
      "execution_count": 97,
      "outputs": [
        {
          "output_type": "execute_result",
          "data": {
            "text/plain": [
              "{3, 30, 80, 90}"
            ]
          },
          "metadata": {},
          "execution_count": 97
        }
      ]
    },
    {
      "cell_type": "code",
      "source": [
        "newSet.update(updatingSet)"
      ],
      "metadata": {
        "id": "7OyZrU01Dk6b"
      },
      "execution_count": 98,
      "outputs": []
    },
    {
      "cell_type": "code",
      "source": [
        "print(newSet)"
      ],
      "metadata": {
        "colab": {
          "base_uri": "https://localhost:8080/"
        },
        "id": "BQJ7Vl9yDk32",
        "outputId": "50534ee3-cbce-4487-9e07-2bfb14fef538"
      },
      "execution_count": 99,
      "outputs": [
        {
          "output_type": "stream",
          "name": "stdout",
          "text": [
            "{0, 1, 3, 5, 80, 90, 30}\n"
          ]
        }
      ]
    },
    {
      "cell_type": "code",
      "source": [
        "newSet.update([8,1])"
      ],
      "metadata": {
        "id": "Lw5m4fpiDk1R"
      },
      "execution_count": 100,
      "outputs": []
    },
    {
      "cell_type": "code",
      "source": [
        "newSet"
      ],
      "metadata": {
        "colab": {
          "base_uri": "https://localhost:8080/"
        },
        "id": "MJBpsKqSFLdY",
        "outputId": "564c16fe-6e06-426c-984e-f6840e94d296"
      },
      "execution_count": 101,
      "outputs": [
        {
          "output_type": "execute_result",
          "data": {
            "text/plain": [
              "{0, 1, 3, 5, 8, 30, 80, 90}"
            ]
          },
          "metadata": {},
          "execution_count": 101
        }
      ]
    },
    {
      "cell_type": "markdown",
      "source": [
        "#### Sets are unordered collections of unique elements."
      ],
      "metadata": {
        "id": "kM0SyUZJFh27"
      }
    },
    {
      "cell_type": "code",
      "source": [
        "newSet[1]"
      ],
      "metadata": {
        "colab": {
          "base_uri": "https://localhost:8080/",
          "height": 176
        },
        "id": "Uj061Wh0Dky5",
        "outputId": "e7b805b0-2dbf-4227-d8ce-a08e69095539"
      },
      "execution_count": 102,
      "outputs": [
        {
          "output_type": "error",
          "ename": "TypeError",
          "evalue": "'set' object is not subscriptable",
          "traceback": [
            "\u001b[0;31m---------------------------------------------------------------------------\u001b[0m",
            "\u001b[0;31mTypeError\u001b[0m                                 Traceback (most recent call last)",
            "\u001b[0;32m<ipython-input-102-0e44643d8de0>\u001b[0m in \u001b[0;36m<cell line: 1>\u001b[0;34m()\u001b[0m\n\u001b[0;32m----> 1\u001b[0;31m \u001b[0mnewSet\u001b[0m\u001b[0;34m[\u001b[0m\u001b[0;36m1\u001b[0m\u001b[0;34m]\u001b[0m\u001b[0;34m\u001b[0m\u001b[0;34m\u001b[0m\u001b[0m\n\u001b[0m",
            "\u001b[0;31mTypeError\u001b[0m: 'set' object is not subscriptable"
          ]
        }
      ]
    },
    {
      "cell_type": "markdown",
      "source": [
        "#### Sets do not support indexing or slicing because they are unordered collections."
      ],
      "metadata": {
        "id": "Qb4B01LCFvTy"
      }
    },
    {
      "cell_type": "code",
      "source": [
        "newSet2 = {3, 2, 12, 11, 70}"
      ],
      "metadata": {
        "id": "HygSotaBGm-Y"
      },
      "execution_count": 103,
      "outputs": []
    },
    {
      "cell_type": "code",
      "source": [
        "newSet2"
      ],
      "metadata": {
        "colab": {
          "base_uri": "https://localhost:8080/"
        },
        "id": "nOsh7EDxGpOY",
        "outputId": "02f28c0e-a567-4a88-96c5-33d34c9398e6"
      },
      "execution_count": 104,
      "outputs": [
        {
          "output_type": "execute_result",
          "data": {
            "text/plain": [
              "{2, 3, 11, 12, 70}"
            ]
          },
          "metadata": {},
          "execution_count": 104
        }
      ]
    },
    {
      "cell_type": "code",
      "source": [
        "sortedSet = sorted(newSet2, reverse=True)\n",
        "print(sortedSet)\n"
      ],
      "metadata": {
        "colab": {
          "base_uri": "https://localhost:8080/"
        },
        "id": "EpYegge4DkwR",
        "outputId": "20535150-952b-4506-c7f5-f014f5a8ed2d"
      },
      "execution_count": 105,
      "outputs": [
        {
          "output_type": "stream",
          "name": "stdout",
          "text": [
            "[70, 12, 11, 3, 2]\n"
          ]
        }
      ]
    },
    {
      "cell_type": "code",
      "source": [
        "newSet3 = {3, 2, 12, 11, 70}\n",
        "sortedSet2 = sorted(newSet3, reverse=True) # By default reverse = False for sorted().\n",
        "print(sortedSet2)"
      ],
      "metadata": {
        "colab": {
          "base_uri": "https://localhost:8080/"
        },
        "id": "U-Z8g_xfDktr",
        "outputId": "4e514eb0-6a14-45e0-b3e6-c555c02c2f66"
      },
      "execution_count": 106,
      "outputs": [
        {
          "output_type": "stream",
          "name": "stdout",
          "text": [
            "[70, 12, 11, 3, 2]\n"
          ]
        }
      ]
    },
    {
      "cell_type": "markdown",
      "source": [
        "#### The **sorted() function** returns a **new sorted list from the elements of the set**.  ????"
      ],
      "metadata": {
        "id": "MvcL0lhSHonF"
      }
    },
    {
      "cell_type": "markdown",
      "source": [
        "### Dictionary"
      ],
      "metadata": {
        "id": "lr-vpIzwIHL2"
      }
    },
    {
      "cell_type": "code",
      "source": [
        "dictionary1 = {}\n",
        "\n",
        "dictionary1['Driver'] = 'Sinpachi'\n",
        "dictionary1['Cook'] = 'Kagura'\n",
        "dictionary1['Janitor'] = 'Gintama'\n",
        "\n",
        "dictionary1"
      ],
      "metadata": {
        "colab": {
          "base_uri": "https://localhost:8080/"
        },
        "id": "ncSYi3U0Dkqz",
        "outputId": "aa8ce861-2959-440a-8e2f-b4aaee1b9251"
      },
      "execution_count": 107,
      "outputs": [
        {
          "output_type": "execute_result",
          "data": {
            "text/plain": [
              "{'Driver': 'Sinpachi', 'Cook': 'Kagura', 'Janitor': 'Gintama'}"
            ]
          },
          "metadata": {},
          "execution_count": 107
        }
      ]
    },
    {
      "cell_type": "code",
      "source": [
        "dictionary2 = {1:'Pen',\n",
        "               10:'Pencil',\n",
        "               20:'Notebook',\n",
        "               3:'Chemistry book',\n",
        "               4:'Arithmetic book',\n",
        "               'e':'Eraser',\n",
        "               'A':1}"
      ],
      "metadata": {
        "id": "nNjKxCp1Dklm"
      },
      "execution_count": 108,
      "outputs": []
    },
    {
      "cell_type": "code",
      "source": [
        "dictionary2"
      ],
      "metadata": {
        "colab": {
          "base_uri": "https://localhost:8080/"
        },
        "id": "ZPS9l56PDki_",
        "outputId": "dd715290-13e2-4e7e-a41d-1bcf87b3334f"
      },
      "execution_count": 109,
      "outputs": [
        {
          "output_type": "execute_result",
          "data": {
            "text/plain": [
              "{1: 'Pen',\n",
              " 10: 'Pencil',\n",
              " 20: 'Notebook',\n",
              " 3: 'Chemistry book',\n",
              " 4: 'Arithmetic book',\n",
              " 'e': 'Eraser',\n",
              " 'A': 1}"
            ]
          },
          "metadata": {},
          "execution_count": 109
        }
      ]
    },
    {
      "cell_type": "code",
      "source": [
        "dictionary2[1]"
      ],
      "metadata": {
        "colab": {
          "base_uri": "https://localhost:8080/",
          "height": 36
        },
        "id": "XQ4Sfp-gDkgJ",
        "outputId": "2fff6262-3065-4d2d-9565-f40e15544fee"
      },
      "execution_count": 110,
      "outputs": [
        {
          "output_type": "execute_result",
          "data": {
            "text/plain": [
              "'Pen'"
            ],
            "application/vnd.google.colaboratory.intrinsic+json": {
              "type": "string"
            }
          },
          "metadata": {},
          "execution_count": 110
        }
      ]
    },
    {
      "cell_type": "code",
      "source": [
        "dictionary2['e']"
      ],
      "metadata": {
        "colab": {
          "base_uri": "https://localhost:8080/",
          "height": 36
        },
        "id": "uwsjBESaDkZI",
        "outputId": "4bd5a643-434e-4421-bf4d-4d6d8f6c1104"
      },
      "execution_count": 111,
      "outputs": [
        {
          "output_type": "execute_result",
          "data": {
            "text/plain": [
              "'Eraser'"
            ],
            "application/vnd.google.colaboratory.intrinsic+json": {
              "type": "string"
            }
          },
          "metadata": {},
          "execution_count": 111
        }
      ]
    },
    {
      "cell_type": "code",
      "source": [
        "dictionary2['A']"
      ],
      "metadata": {
        "colab": {
          "base_uri": "https://localhost:8080/"
        },
        "id": "g7RevKDnNLqk",
        "outputId": "26ae5675-b932-41dc-985b-e5fc2195a272"
      },
      "execution_count": 112,
      "outputs": [
        {
          "output_type": "execute_result",
          "data": {
            "text/plain": [
              "1"
            ]
          },
          "metadata": {},
          "execution_count": 112
        }
      ]
    },
    {
      "cell_type": "code",
      "source": [
        "dictionary2[3]"
      ],
      "metadata": {
        "colab": {
          "base_uri": "https://localhost:8080/",
          "height": 36
        },
        "id": "amZItMrHNMFo",
        "outputId": "0eaa1c34-072d-448d-ce25-c6215b9d5355"
      },
      "execution_count": 113,
      "outputs": [
        {
          "output_type": "execute_result",
          "data": {
            "text/plain": [
              "'Chemistry book'"
            ],
            "application/vnd.google.colaboratory.intrinsic+json": {
              "type": "string"
            }
          },
          "metadata": {},
          "execution_count": 113
        }
      ]
    },
    {
      "cell_type": "code",
      "source": [
        "dictionary2[4]"
      ],
      "metadata": {
        "colab": {
          "base_uri": "https://localhost:8080/",
          "height": 36
        },
        "id": "p08zRD_4NMVU",
        "outputId": "90502009-2e7a-450f-cd41-ab2eaab24fab"
      },
      "execution_count": 114,
      "outputs": [
        {
          "output_type": "execute_result",
          "data": {
            "text/plain": [
              "'Arithmetic book'"
            ],
            "application/vnd.google.colaboratory.intrinsic+json": {
              "type": "string"
            }
          },
          "metadata": {},
          "execution_count": 114
        }
      ]
    },
    {
      "cell_type": "markdown",
      "source": [
        "#### Removing"
      ],
      "metadata": {
        "id": "VaEKmvuwN_ce"
      }
    },
    {
      "cell_type": "code",
      "source": [
        "del dictionary2['A']"
      ],
      "metadata": {
        "id": "SjH_DsuZNMcC"
      },
      "execution_count": 115,
      "outputs": []
    },
    {
      "cell_type": "code",
      "source": [
        "dictionary2"
      ],
      "metadata": {
        "colab": {
          "base_uri": "https://localhost:8080/"
        },
        "id": "RTovGyBuNM1V",
        "outputId": "e21ca340-c375-4141-9d42-6e63df1987ad"
      },
      "execution_count": 116,
      "outputs": [
        {
          "output_type": "execute_result",
          "data": {
            "text/plain": [
              "{1: 'Pen',\n",
              " 10: 'Pencil',\n",
              " 20: 'Notebook',\n",
              " 3: 'Chemistry book',\n",
              " 4: 'Arithmetic book',\n",
              " 'e': 'Eraser'}"
            ]
          },
          "metadata": {},
          "execution_count": 116
        }
      ]
    },
    {
      "cell_type": "markdown",
      "source": [
        "#### **Dictionaries are mutable**, which means their keys and values can be edited after the dictionary is created."
      ],
      "metadata": {
        "id": "qECj3g_FOS3H"
      }
    },
    {
      "cell_type": "code",
      "source": [
        "dictionary2.pop('e')"
      ],
      "metadata": {
        "colab": {
          "base_uri": "https://localhost:8080/",
          "height": 36
        },
        "id": "kzafZcKgNNjs",
        "outputId": "2e9af631-b46f-4d4b-a46a-11dc6703c08b"
      },
      "execution_count": 117,
      "outputs": [
        {
          "output_type": "execute_result",
          "data": {
            "text/plain": [
              "'Eraser'"
            ],
            "application/vnd.google.colaboratory.intrinsic+json": {
              "type": "string"
            }
          },
          "metadata": {},
          "execution_count": 117
        }
      ]
    },
    {
      "cell_type": "code",
      "source": [
        "dictionary2"
      ],
      "metadata": {
        "colab": {
          "base_uri": "https://localhost:8080/"
        },
        "id": "kN_A-dDnNNpI",
        "outputId": "2b721d35-046e-4235-e99c-4f15ef9666a4"
      },
      "execution_count": 118,
      "outputs": [
        {
          "output_type": "execute_result",
          "data": {
            "text/plain": [
              "{1: 'Pen',\n",
              " 10: 'Pencil',\n",
              " 20: 'Notebook',\n",
              " 3: 'Chemistry book',\n",
              " 4: 'Arithmetic book'}"
            ]
          },
          "metadata": {},
          "execution_count": 118
        }
      ]
    },
    {
      "cell_type": "code",
      "source": [
        "dictionary2['e'] = 'Eraser'"
      ],
      "metadata": {
        "id": "zdX9GVdyNNr2"
      },
      "execution_count": 119,
      "outputs": []
    },
    {
      "cell_type": "code",
      "source": [
        "dictionary2"
      ],
      "metadata": {
        "colab": {
          "base_uri": "https://localhost:8080/"
        },
        "id": "T06p469rNNws",
        "outputId": "d61eeec1-102e-46cb-f8cb-00586035bde8"
      },
      "execution_count": 120,
      "outputs": [
        {
          "output_type": "execute_result",
          "data": {
            "text/plain": [
              "{1: 'Pen',\n",
              " 10: 'Pencil',\n",
              " 20: 'Notebook',\n",
              " 3: 'Chemistry book',\n",
              " 4: 'Arithmetic book',\n",
              " 'e': 'Eraser'}"
            ]
          },
          "metadata": {},
          "execution_count": 120
        }
      ]
    },
    {
      "cell_type": "code",
      "source": [
        "dictionary2[5] = dictionary2.pop('e')"
      ],
      "metadata": {
        "id": "VlUjjLDGNN4T"
      },
      "execution_count": 121,
      "outputs": []
    },
    {
      "cell_type": "code",
      "source": [
        "dictionary2"
      ],
      "metadata": {
        "colab": {
          "base_uri": "https://localhost:8080/"
        },
        "id": "DXpGJVBFNN7F",
        "outputId": "634d93f9-73b0-4ad8-9fdf-8a77815e992d"
      },
      "execution_count": 122,
      "outputs": [
        {
          "output_type": "execute_result",
          "data": {
            "text/plain": [
              "{1: 'Pen',\n",
              " 10: 'Pencil',\n",
              " 20: 'Notebook',\n",
              " 3: 'Chemistry book',\n",
              " 4: 'Arithmetic book',\n",
              " 5: 'Eraser'}"
            ]
          },
          "metadata": {},
          "execution_count": 122
        }
      ]
    },
    {
      "cell_type": "code",
      "source": [
        "dictionary2.keys()"
      ],
      "metadata": {
        "colab": {
          "base_uri": "https://localhost:8080/"
        },
        "id": "_kQ4MD_LPLKl",
        "outputId": "9d33e24d-557c-4e03-a778-56986111e2b8"
      },
      "execution_count": 123,
      "outputs": [
        {
          "output_type": "execute_result",
          "data": {
            "text/plain": [
              "dict_keys([1, 10, 20, 3, 4, 5])"
            ]
          },
          "metadata": {},
          "execution_count": 123
        }
      ]
    },
    {
      "cell_type": "code",
      "source": [
        "dictionary2.values()"
      ],
      "metadata": {
        "colab": {
          "base_uri": "https://localhost:8080/"
        },
        "id": "APQbY4jIPLH-",
        "outputId": "8195fcc2-a1c7-46d0-9cf4-0d9153a51cf0"
      },
      "execution_count": 124,
      "outputs": [
        {
          "output_type": "execute_result",
          "data": {
            "text/plain": [
              "dict_values(['Pen', 'Pencil', 'Notebook', 'Chemistry book', 'Arithmetic book', 'Eraser'])"
            ]
          },
          "metadata": {},
          "execution_count": 124
        }
      ]
    },
    {
      "cell_type": "code",
      "source": [
        "dictionary2.items()"
      ],
      "metadata": {
        "colab": {
          "base_uri": "https://localhost:8080/"
        },
        "id": "KxkBirk9PprW",
        "outputId": "e63b6f03-7d92-485d-9755-0d72f8189fc0"
      },
      "execution_count": 125,
      "outputs": [
        {
          "output_type": "execute_result",
          "data": {
            "text/plain": [
              "dict_items([(1, 'Pen'), (10, 'Pencil'), (20, 'Notebook'), (3, 'Chemistry book'), (4, 'Arithmetic book'), (5, 'Eraser')])"
            ]
          },
          "metadata": {},
          "execution_count": 125
        }
      ]
    },
    {
      "cell_type": "markdown",
      "source": [
        "#### To list"
      ],
      "metadata": {
        "id": "p_0vzps2Pooj"
      }
    },
    {
      "cell_type": "code",
      "source": [
        "listOfKeys = list(dictionary2.keys())\n",
        "listOfKeys"
      ],
      "metadata": {
        "colab": {
          "base_uri": "https://localhost:8080/"
        },
        "id": "Kwo7KRBAPLFY",
        "outputId": "4031d7c0-81d1-4526-b472-ce6359d2c9ee"
      },
      "execution_count": 126,
      "outputs": [
        {
          "output_type": "execute_result",
          "data": {
            "text/plain": [
              "[1, 10, 20, 3, 4, 5]"
            ]
          },
          "metadata": {},
          "execution_count": 126
        }
      ]
    },
    {
      "cell_type": "code",
      "source": [
        "tupleOfitems = tuple(dictionary2.items())\n",
        "tupleOfitems"
      ],
      "metadata": {
        "colab": {
          "base_uri": "https://localhost:8080/"
        },
        "id": "xDJCsvMIPLCz",
        "outputId": "e16f07ca-742d-4995-eadb-cf8b89e5dcca"
      },
      "execution_count": 127,
      "outputs": [
        {
          "output_type": "execute_result",
          "data": {
            "text/plain": [
              "((1, 'Pen'),\n",
              " (10, 'Pencil'),\n",
              " (20, 'Notebook'),\n",
              " (3, 'Chemistry book'),\n",
              " (4, 'Arithmetic book'),\n",
              " (5, 'Eraser'))"
            ]
          },
          "metadata": {},
          "execution_count": 127
        }
      ]
    },
    {
      "cell_type": "markdown",
      "source": [
        "#### To string"
      ],
      "metadata": {
        "id": "tNVMFnJ8QCv-"
      }
    },
    {
      "cell_type": "code",
      "source": [
        "dictToString = str(dictionary2)\n",
        "dictToString"
      ],
      "metadata": {
        "colab": {
          "base_uri": "https://localhost:8080/",
          "height": 36
        },
        "id": "a2NlN-fRPLAa",
        "outputId": "b784b81e-d0b7-4ee8-f777-f8e9acbcbf0a"
      },
      "execution_count": 128,
      "outputs": [
        {
          "output_type": "execute_result",
          "data": {
            "text/plain": [
              "\"{1: 'Pen', 10: 'Pencil', 20: 'Notebook', 3: 'Chemistry book', 4: 'Arithmetic book', 5: 'Eraser'}\""
            ],
            "application/vnd.google.colaboratory.intrinsic+json": {
              "type": "string"
            }
          },
          "metadata": {},
          "execution_count": 128
        }
      ]
    },
    {
      "cell_type": "markdown",
      "source": [
        "#### From list"
      ],
      "metadata": {
        "id": "hrKHisynQmsU"
      }
    },
    {
      "cell_type": "code",
      "source": [
        "l1 = [['a',1],['b',2],['c',3]]\n",
        "\n",
        "dictFromList = dict(l1)\n",
        "dictFromList"
      ],
      "metadata": {
        "colab": {
          "base_uri": "https://localhost:8080/"
        },
        "id": "i5W2wxz5PK91",
        "outputId": "193ae830-66d8-45ee-84bc-256fb3028152"
      },
      "execution_count": 129,
      "outputs": [
        {
          "output_type": "execute_result",
          "data": {
            "text/plain": [
              "{'a': 1, 'b': 2, 'c': 3}"
            ]
          },
          "metadata": {},
          "execution_count": 129
        }
      ]
    },
    {
      "cell_type": "markdown",
      "source": [
        "#### From Tuple"
      ],
      "metadata": {
        "id": "brPNBMtHQ-ls"
      }
    },
    {
      "cell_type": "code",
      "source": [
        "t1 = (('a',1),('b',2),('c',3))\n",
        "\n",
        "dictFromList = dict(l1)\n",
        "dictFromList"
      ],
      "metadata": {
        "colab": {
          "base_uri": "https://localhost:8080/"
        },
        "id": "f5b9sCKTPK7f",
        "outputId": "c6ab199c-1d7b-41e5-9ce6-55cb02f372a8"
      },
      "execution_count": 130,
      "outputs": [
        {
          "output_type": "execute_result",
          "data": {
            "text/plain": [
              "{'a': 1, 'b': 2, 'c': 3}"
            ]
          },
          "metadata": {},
          "execution_count": 130
        }
      ]
    },
    {
      "cell_type": "markdown",
      "source": [
        "#### From string"
      ],
      "metadata": {
        "id": "TF_8t9xgRXMl"
      }
    },
    {
      "cell_type": "code",
      "source": [
        "string1 = \"a:1,b:2,c:3\"\n",
        "\n",
        "pairs = string1.split(',')\n",
        "pairs"
      ],
      "metadata": {
        "colab": {
          "base_uri": "https://localhost:8080/"
        },
        "id": "8YbAw3L-PK43",
        "outputId": "cdac25c7-210a-434a-b0f5-bfe98bb6ecf7"
      },
      "execution_count": 131,
      "outputs": [
        {
          "output_type": "execute_result",
          "data": {
            "text/plain": [
              "['a:1', 'b:2', 'c:3']"
            ]
          },
          "metadata": {},
          "execution_count": 131
        }
      ]
    },
    {
      "cell_type": "code",
      "source": [
        "emptyDict = {}\n",
        "for pair in pairs:\n",
        "    key, value = pair.split(':')\n",
        "    print('The key is :',key)\n",
        "    print('The value is :',value)\n",
        "    print('\\n')\n",
        "    emptyDict[key] = int(value)"
      ],
      "metadata": {
        "colab": {
          "base_uri": "https://localhost:8080/"
        },
        "id": "kBQYqZbTPKyo",
        "outputId": "97684cd5-94d6-4b1b-e7ee-4e3cdb4059a2"
      },
      "execution_count": 132,
      "outputs": [
        {
          "output_type": "stream",
          "name": "stdout",
          "text": [
            "The key is : a\n",
            "The value is : 1\n",
            "\n",
            "\n",
            "The key is : b\n",
            "The value is : 2\n",
            "\n",
            "\n",
            "The key is : c\n",
            "The value is : 3\n",
            "\n",
            "\n"
          ]
        }
      ]
    },
    {
      "cell_type": "code",
      "source": [
        "emptyDict"
      ],
      "metadata": {
        "colab": {
          "base_uri": "https://localhost:8080/"
        },
        "id": "7yFNhZrbSTEp",
        "outputId": "d344583f-308b-4bea-e94d-6b6dacb19b92"
      },
      "execution_count": 133,
      "outputs": [
        {
          "output_type": "execute_result",
          "data": {
            "text/plain": [
              "{'a': 1, 'b': 2, 'c': 3}"
            ]
          },
          "metadata": {},
          "execution_count": 133
        }
      ]
    },
    {
      "cell_type": "markdown",
      "source": [
        "# Looping"
      ],
      "metadata": {
        "id": "-vB-cba81opl"
      }
    },
    {
      "cell_type": "markdown",
      "source": [
        "### For Loop"
      ],
      "metadata": {
        "id": "-414dnNBW1i1"
      }
    },
    {
      "cell_type": "code",
      "source": [
        "for(i = 0; i<=5 ; i++){\n",
        "    printf(\"Welcome everyone.\")\n",
        "}"
      ],
      "metadata": {
        "id": "hvA2EUOX0K4Z",
        "colab": {
          "base_uri": "https://localhost:8080/",
          "height": 141
        },
        "outputId": "5c8b2b7c-5f7d-4993-b362-7b398c4c56a9"
      },
      "execution_count": 134,
      "outputs": [
        {
          "output_type": "error",
          "ename": "SyntaxError",
          "evalue": "invalid syntax. Maybe you meant '==' or ':=' instead of '='? (<ipython-input-134-f1975f4634fd>, line 1)",
          "traceback": [
            "\u001b[0;36m  File \u001b[0;32m\"<ipython-input-134-f1975f4634fd>\"\u001b[0;36m, line \u001b[0;32m1\u001b[0m\n\u001b[0;31m    for(i = 0; i<=5 ; i++){\u001b[0m\n\u001b[0m        ^\u001b[0m\n\u001b[0;31mSyntaxError\u001b[0m\u001b[0;31m:\u001b[0m invalid syntax. Maybe you meant '==' or ':=' instead of '='?\n"
          ]
        }
      ]
    },
    {
      "cell_type": "code",
      "source": [
        "for numbers in range (0,5):\n",
        "  print(numbers)"
      ],
      "metadata": {
        "colab": {
          "base_uri": "https://localhost:8080/"
        },
        "id": "FnQTk4BR3bek",
        "outputId": "c8d001d2-0d93-4b2b-c8e1-61d5ade54167"
      },
      "execution_count": 135,
      "outputs": [
        {
          "output_type": "stream",
          "name": "stdout",
          "text": [
            "0\n",
            "1\n",
            "2\n",
            "3\n",
            "4\n"
          ]
        }
      ]
    },
    {
      "cell_type": "code",
      "source": [
        "for numbers in range (5):\n",
        "  print(numbers)"
      ],
      "metadata": {
        "colab": {
          "base_uri": "https://localhost:8080/"
        },
        "id": "MHEk5bAA8BbJ",
        "outputId": "3cf9ab8c-7416-46c6-dba8-32fca6f0e82b"
      },
      "execution_count": 136,
      "outputs": [
        {
          "output_type": "stream",
          "name": "stdout",
          "text": [
            "0\n",
            "1\n",
            "2\n",
            "3\n",
            "4\n"
          ]
        }
      ]
    },
    {
      "cell_type": "markdown",
      "source": [
        "####**range()** generates a sequence a number."
      ],
      "metadata": {
        "id": "bIX-ipB14S3c"
      }
    },
    {
      "cell_type": "code",
      "source": [
        "for numbers in range (0,5,2):\n",
        "  print(numbers)"
      ],
      "metadata": {
        "colab": {
          "base_uri": "https://localhost:8080/"
        },
        "id": "PuwNdPWh3-Gc",
        "outputId": "53841b0b-bdc0-45c7-954e-f0a73fcf5f18"
      },
      "execution_count": 137,
      "outputs": [
        {
          "output_type": "stream",
          "name": "stdout",
          "text": [
            "0\n",
            "2\n",
            "4\n"
          ]
        }
      ]
    },
    {
      "cell_type": "markdown",
      "source": [
        "####In Python, a sequence and a list are related but not exactly the same.####\n",
        "\n",
        "#### - **Sequence:** It's a general term used to describe an ordered collection of items where you can access elements by their positions. Sequences can include various types like lists, tuples, strings, etc. They all maintain an order and allow indexing and slicing.####\n",
        "\n",
        "####- **List:** A list is a specific type of sequence in Python. It's mutable, meaning you can add, remove, or modify elements after the list is created. Lists are denoted by square brackets **[ ]** and can hold elements of different data types.####\n",
        "\n"
      ],
      "metadata": {
        "id": "q4TKONlm4n_p"
      }
    },
    {
      "cell_type": "markdown",
      "source": [
        "####**range()** returns a sequence called a \"**range object.**\""
      ],
      "metadata": {
        "id": "vgwhJnss5Ua6"
      }
    },
    {
      "cell_type": "markdown",
      "source": [
        "#### A **range object** represents an immutable sequence of numbers and is designed to generate a **sequence of integers**.####\n",
        "\n",
        "#### It behaves like a sequence in that it allows iteration over the numbers it represents and supports **indexing** and slicing, but it doesn't store all the numbers in memory at once. Instead, it generates them as they are needed, making it memory efficient. ####"
      ],
      "metadata": {
        "id": "3TXGY7JP5rZX"
      }
    },
    {
      "cell_type": "markdown",
      "source": [
        "#### - **Indexing** : Accessing specific elements by their index within the range sequence. ####\n",
        "\n",
        "#### - **Slicing** : Obtaining a subset of the sequence by specifying start, end, and step size within square brackets. ####"
      ],
      "metadata": {
        "id": "PwpzuL5Z65-p"
      }
    },
    {
      "cell_type": "markdown",
      "source": [
        "### List as a sequence."
      ],
      "metadata": {
        "id": "zvpLr32z5D7z"
      }
    },
    {
      "cell_type": "code",
      "source": [
        "rangeOfNum = range(5,15)\n",
        "rangeOfNum"
      ],
      "metadata": {
        "colab": {
          "base_uri": "https://localhost:8080/"
        },
        "id": "gkgCjL6f5Dhg",
        "outputId": "e51149e8-eaec-49e9-9811-0b581a39ccd2"
      },
      "execution_count": 138,
      "outputs": [
        {
          "output_type": "execute_result",
          "data": {
            "text/plain": [
              "range(5, 15)"
            ]
          },
          "metadata": {},
          "execution_count": 138
        }
      ]
    },
    {
      "cell_type": "code",
      "source": [
        "rangeOfNum[3]"
      ],
      "metadata": {
        "colab": {
          "base_uri": "https://localhost:8080/"
        },
        "id": "MCvJEQf44BMy",
        "outputId": "effc9d08-87b9-4fe4-f7ab-00d3cf2d10f1"
      },
      "execution_count": 139,
      "outputs": [
        {
          "output_type": "execute_result",
          "data": {
            "text/plain": [
              "8"
            ]
          },
          "metadata": {},
          "execution_count": 139
        }
      ]
    },
    {
      "cell_type": "code",
      "source": [
        "rangeOfNum[10]"
      ],
      "metadata": {
        "id": "GihU_kK47bzS",
        "colab": {
          "base_uri": "https://localhost:8080/",
          "height": 176
        },
        "outputId": "718d5824-651c-4829-9d2e-7348197d7be6"
      },
      "execution_count": 140,
      "outputs": [
        {
          "output_type": "error",
          "ename": "IndexError",
          "evalue": "range object index out of range",
          "traceback": [
            "\u001b[0;31m---------------------------------------------------------------------------\u001b[0m",
            "\u001b[0;31mIndexError\u001b[0m                                Traceback (most recent call last)",
            "\u001b[0;32m<ipython-input-140-f410e69fd878>\u001b[0m in \u001b[0;36m<cell line: 1>\u001b[0;34m()\u001b[0m\n\u001b[0;32m----> 1\u001b[0;31m \u001b[0mrangeOfNum\u001b[0m\u001b[0;34m[\u001b[0m\u001b[0;36m10\u001b[0m\u001b[0;34m]\u001b[0m\u001b[0;34m\u001b[0m\u001b[0;34m\u001b[0m\u001b[0m\n\u001b[0m",
            "\u001b[0;31mIndexError\u001b[0m: range object index out of range"
          ]
        }
      ]
    },
    {
      "cell_type": "code",
      "source": [
        "rangeOfNum[0 : 8]"
      ],
      "metadata": {
        "colab": {
          "base_uri": "https://localhost:8080/"
        },
        "id": "PyBV7Bs57XXq",
        "outputId": "812c0c47-2c09-4453-9d9b-339944263450"
      },
      "execution_count": 141,
      "outputs": [
        {
          "output_type": "execute_result",
          "data": {
            "text/plain": [
              "range(5, 13)"
            ]
          },
          "metadata": {},
          "execution_count": 141
        }
      ]
    },
    {
      "cell_type": "code",
      "source": [
        "listOfNum = list(rangeOfNum[0 : 8])\n",
        "\n",
        "listOfNum"
      ],
      "metadata": {
        "colab": {
          "base_uri": "https://localhost:8080/"
        },
        "id": "RmYlxpA47v_P",
        "outputId": "217c503a-43be-436a-bcfa-e303db5a0c3d"
      },
      "execution_count": 142,
      "outputs": [
        {
          "output_type": "execute_result",
          "data": {
            "text/plain": [
              "[5, 6, 7, 8, 9, 10, 11, 12]"
            ]
          },
          "metadata": {},
          "execution_count": 142
        }
      ]
    },
    {
      "cell_type": "code",
      "source": [
        "iterationNum = 1\n",
        "for elements in listOfNum:\n",
        "    print(f'Iteration {iterationNum}')\n",
        "    print(elements)\n",
        "    iterationNum = iterationNum + 1\n",
        "    print()"
      ],
      "metadata": {
        "colab": {
          "base_uri": "https://localhost:8080/"
        },
        "id": "O9Z0ldUpTfUT",
        "outputId": "b9bc3df7-564e-4d3f-85a1-87dd8ae73152"
      },
      "execution_count": 143,
      "outputs": [
        {
          "output_type": "stream",
          "name": "stdout",
          "text": [
            "Iteration 1\n",
            "5\n",
            "\n",
            "Iteration 2\n",
            "6\n",
            "\n",
            "Iteration 3\n",
            "7\n",
            "\n",
            "Iteration 4\n",
            "8\n",
            "\n",
            "Iteration 5\n",
            "9\n",
            "\n",
            "Iteration 6\n",
            "10\n",
            "\n",
            "Iteration 7\n",
            "11\n",
            "\n",
            "Iteration 8\n",
            "12\n",
            "\n"
          ]
        }
      ]
    },
    {
      "cell_type": "markdown",
      "source": [
        "### List of string as a sequence"
      ],
      "metadata": {
        "id": "WRxdeon_VQZH"
      }
    },
    {
      "cell_type": "code",
      "source": [
        "listOfString = ['Hattori','Kenechi','Yumeko']\n",
        "listOfString"
      ],
      "metadata": {
        "colab": {
          "base_uri": "https://localhost:8080/"
        },
        "id": "BEqkh8pQTqwo",
        "outputId": "bdbdc3e4-adc3-42f3-9a65-f287d501eada"
      },
      "execution_count": 144,
      "outputs": [
        {
          "output_type": "execute_result",
          "data": {
            "text/plain": [
              "['Hattori', 'Kenechi', 'Yumeko']"
            ]
          },
          "metadata": {},
          "execution_count": 144
        }
      ]
    },
    {
      "cell_type": "code",
      "source": [
        "iterationConstant = 1\n",
        "for elements in listOfString:\n",
        "    print(f'Iteration {iterationConstant}')\n",
        "    print(elements)\n",
        "    iterationConstant = iterationConstant + 1\n",
        "    print()"
      ],
      "metadata": {
        "colab": {
          "base_uri": "https://localhost:8080/"
        },
        "id": "G-_HkK2hUa0h",
        "outputId": "102f9d65-9fbb-47c8-fc46-8c90768b2bfd"
      },
      "execution_count": 145,
      "outputs": [
        {
          "output_type": "stream",
          "name": "stdout",
          "text": [
            "Iteration 1\n",
            "Hattori\n",
            "\n",
            "Iteration 2\n",
            "Kenechi\n",
            "\n",
            "Iteration 3\n",
            "Yumeko\n",
            "\n"
          ]
        }
      ]
    },
    {
      "cell_type": "markdown",
      "source": [
        "### String as a sequence"
      ],
      "metadata": {
        "id": "j9ya9u9PVVc7"
      }
    },
    {
      "cell_type": "code",
      "source": [
        "String1= \"Hello\"\n",
        "\n",
        "constant = 1\n",
        "for characters in String1:\n",
        "    print(f'Iteration {constant}')\n",
        "    print(characters)\n",
        "    constant = constant + 1\n",
        "    print()\n"
      ],
      "metadata": {
        "colab": {
          "base_uri": "https://localhost:8080/"
        },
        "id": "iUi-qKUiUzfF",
        "outputId": "834ab3f9-3298-4a9f-8acc-142de8aa0c9f"
      },
      "execution_count": 146,
      "outputs": [
        {
          "output_type": "stream",
          "name": "stdout",
          "text": [
            "Iteration 1\n",
            "H\n",
            "\n",
            "Iteration 2\n",
            "e\n",
            "\n",
            "Iteration 3\n",
            "l\n",
            "\n",
            "Iteration 4\n",
            "l\n",
            "\n",
            "Iteration 5\n",
            "o\n",
            "\n"
          ]
        }
      ]
    },
    {
      "cell_type": "markdown",
      "source": [
        "### Dictionary as a sequence"
      ],
      "metadata": {
        "id": "oJKmWXamVYRp"
      }
    },
    {
      "cell_type": "code",
      "source": [
        "dictionary1 = {'a': 1, 'b': 2, 'c': 3}\n",
        "c = 1\n",
        "for keys,values in dictionary1.items():\n",
        "    print(f'Iteration {c}')\n",
        "    print('Key : {} \\t Value : {}'.format(keys,values))\n",
        "    c = c + 1\n",
        "    print()"
      ],
      "metadata": {
        "colab": {
          "base_uri": "https://localhost:8080/"
        },
        "id": "LDjPNuEbU95Q",
        "outputId": "9dbcf1fa-ddd0-4afe-90a1-8910a99b19f8"
      },
      "execution_count": 147,
      "outputs": [
        {
          "output_type": "stream",
          "name": "stdout",
          "text": [
            "Iteration 1\n",
            "Key : a \t Value : 1\n",
            "\n",
            "Iteration 2\n",
            "Key : b \t Value : 2\n",
            "\n",
            "Iteration 3\n",
            "Key : c \t Value : 3\n",
            "\n"
          ]
        }
      ]
    },
    {
      "cell_type": "markdown",
      "source": [
        "### While Loop"
      ],
      "metadata": {
        "id": "VvHpYjR_W7Zz"
      }
    },
    {
      "cell_type": "code",
      "source": [
        "count = 0\n",
        "while count <= 10:\n",
        "    print(count)\n",
        "    count += 2\n"
      ],
      "metadata": {
        "colab": {
          "base_uri": "https://localhost:8080/"
        },
        "id": "bzt_41i8ViNC",
        "outputId": "6e186f85-789f-4c8b-9a6c-46d4bc517c73"
      },
      "execution_count": 148,
      "outputs": [
        {
          "output_type": "stream",
          "name": "stdout",
          "text": [
            "0\n",
            "2\n",
            "4\n",
            "6\n",
            "8\n",
            "10\n"
          ]
        }
      ]
    },
    {
      "cell_type": "markdown",
      "source": [
        "### Nested Loop"
      ],
      "metadata": {
        "id": "vXoJtA9XXZog"
      }
    },
    {
      "cell_type": "code",
      "source": [
        "for i in range(3):    # 0,1,2\n",
        "    print()\n",
        "    print('I')\n",
        "    print(i)\n",
        "\n",
        "    for j in range(2): # 0,1\n",
        "        print('J')\n",
        "        print(j)\n"
      ],
      "metadata": {
        "colab": {
          "base_uri": "https://localhost:8080/"
        },
        "id": "qcI4WOUwXGxf",
        "outputId": "b2447d3e-b4a5-47ea-960d-5e35faf99951"
      },
      "execution_count": 149,
      "outputs": [
        {
          "output_type": "stream",
          "name": "stdout",
          "text": [
            "\n",
            "I\n",
            "0\n",
            "J\n",
            "0\n",
            "J\n",
            "1\n",
            "\n",
            "I\n",
            "1\n",
            "J\n",
            "0\n",
            "J\n",
            "1\n",
            "\n",
            "I\n",
            "2\n",
            "J\n",
            "0\n",
            "J\n",
            "1\n"
          ]
        }
      ]
    },
    {
      "cell_type": "markdown",
      "source": [
        "### Loop control statements ###"
      ],
      "metadata": {
        "id": "3eNCwo35YGPd"
      }
    },
    {
      "cell_type": "code",
      "source": [
        "for i in range(5):\n",
        "    if i == 2:\n",
        "        continue\n",
        "    if i == 4:\n",
        "        break\n",
        "    print(f'Value of variable i is : {i}')"
      ],
      "metadata": {
        "colab": {
          "base_uri": "https://localhost:8080/"
        },
        "id": "yG0K9g-YXjjH",
        "outputId": "a0a46d24-623d-47e8-d8b2-16e0a98c57e6"
      },
      "execution_count": 150,
      "outputs": [
        {
          "output_type": "stream",
          "name": "stdout",
          "text": [
            "Value of variable i is : 0\n",
            "Value of variable i is : 1\n",
            "Value of variable i is : 3\n"
          ]
        }
      ]
    },
    {
      "cell_type": "markdown",
      "source": [
        "#### Order of statements can be significant in many cases."
      ],
      "metadata": {
        "id": "0ic0PQY6Yirp"
      }
    },
    {
      "cell_type": "code",
      "source": [
        "for i in range(5):\n",
        "    print(f'Value of variable i is : {i}')\n",
        "    if i == 2:\n",
        "        continue\n",
        "    if i == 4:\n",
        "        break\n"
      ],
      "metadata": {
        "colab": {
          "base_uri": "https://localhost:8080/"
        },
        "id": "nPW0VLgKYayt",
        "outputId": "1ee4ac09-0d02-4ddf-e91f-b186f351e865"
      },
      "execution_count": 151,
      "outputs": [
        {
          "output_type": "stream",
          "name": "stdout",
          "text": [
            "Value of variable i is : 0\n",
            "Value of variable i is : 1\n",
            "Value of variable i is : 2\n",
            "Value of variable i is : 3\n",
            "Value of variable i is : 4\n"
          ]
        }
      ]
    },
    {
      "cell_type": "markdown",
      "source": [
        "### Simulating do-while"
      ],
      "metadata": {
        "id": "l4turzkCZN7I"
      }
    },
    {
      "cell_type": "code",
      "source": [
        "count = 0\n",
        "\n",
        "while True:\n",
        "    print(count)\n",
        "    count += 1\n",
        "    if count >= 5:\n",
        "        break\n"
      ],
      "metadata": {
        "colab": {
          "base_uri": "https://localhost:8080/"
        },
        "id": "19CjIvyyYU6U",
        "outputId": "6a32dfa9-18a9-403c-fdac-8d67e9b03bea"
      },
      "execution_count": 152,
      "outputs": [
        {
          "output_type": "stream",
          "name": "stdout",
          "text": [
            "0\n",
            "1\n",
            "2\n",
            "3\n",
            "4\n"
          ]
        }
      ]
    },
    {
      "cell_type": "markdown",
      "source": [
        "### Function"
      ],
      "metadata": {
        "id": "KqBkaJt1pozx"
      }
    },
    {
      "cell_type": "code",
      "source": [
        "def circumferenceOfCircle(r):\n",
        "    circumference = 2 * (22/7) * r\n",
        "    print ('The circumference of circle is {}.'.format(circumference))\n"
      ],
      "metadata": {
        "id": "ogXBXufupqd6"
      },
      "execution_count": 153,
      "outputs": []
    },
    {
      "cell_type": "code",
      "source": [
        "circumferenceOfCircle(4)"
      ],
      "metadata": {
        "colab": {
          "base_uri": "https://localhost:8080/"
        },
        "id": "xK85nl_qqBxT",
        "outputId": "590381a2-ec89-43ec-f0fe-3e89530ade0f"
      },
      "execution_count": 154,
      "outputs": [
        {
          "output_type": "stream",
          "name": "stdout",
          "text": [
            "The circumference of circle is 25.142857142857142.\n"
          ]
        }
      ]
    },
    {
      "cell_type": "code",
      "source": [
        "circumferenceOfCircle(5)"
      ],
      "metadata": {
        "colab": {
          "base_uri": "https://localhost:8080/"
        },
        "id": "ZDwMRQrNqDih",
        "outputId": "1665f75c-0a0d-41c1-f90c-ee5331eca3e0"
      },
      "execution_count": 155,
      "outputs": [
        {
          "output_type": "stream",
          "name": "stdout",
          "text": [
            "The circumference of circle is 31.428571428571427.\n"
          ]
        }
      ]
    },
    {
      "cell_type": "code",
      "source": [
        "circumferenceOfCircle(6)"
      ],
      "metadata": {
        "colab": {
          "base_uri": "https://localhost:8080/"
        },
        "id": "lTTDMthQqEnI",
        "outputId": "1a0012dc-7d9c-4f2a-d21a-9337ceca72a9"
      },
      "execution_count": 156,
      "outputs": [
        {
          "output_type": "stream",
          "name": "stdout",
          "text": [
            "The circumference of circle is 37.714285714285715.\n"
          ]
        }
      ]
    },
    {
      "cell_type": "code",
      "source": [],
      "metadata": {
        "id": "ZDVPUL3nVNH0"
      },
      "execution_count": 156,
      "outputs": []
    }
  ]
}