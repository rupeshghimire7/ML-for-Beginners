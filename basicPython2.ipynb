{
  "nbformat": 4,
  "nbformat_minor": 0,
  "metadata": {
    "colab": {
      "provenance": []
    },
    "kernelspec": {
      "name": "python3",
      "display_name": "Python 3"
    },
    "language_info": {
      "name": "python"
    }
  },
  "cells": [
    {
      "cell_type": "markdown",
      "source": [
        "#### Formatted string literals (also called f-strings for short)\n"
      ],
      "metadata": {
        "id": "zDlid2UvZIN5"
      }
    },
    {
      "cell_type": "code",
      "source": [
        "import datetime"
      ],
      "metadata": {
        "id": "ECs7lB3LZLMw"
      },
      "execution_count": 1,
      "outputs": []
    },
    {
      "cell_type": "markdown",
      "source": [
        "The strftime(\"%A\") function is used to format a date or time into string that represents the day of the week.\n",
        "\n",
        " %A is a directive used within 'strftime()' function to represent the full name of the day of the week.\n",
        "\n",
        " A directive refers to string pattern on how to interpret and display certain data."
      ],
      "metadata": {
        "id": "pc9wLfb5ZSuy"
      }
    },
    {
      "cell_type": "code",
      "execution_count": 2,
      "metadata": {
        "colab": {
          "base_uri": "https://localhost:8080/"
        },
        "id": "-NRQfQQuY6kO",
        "outputId": "1de995c8-e4f6-433f-cdff-7420e9e89624"
      },
      "outputs": [
        {
          "output_type": "stream",
          "name": "stdout",
          "text": [
            "Current date and time:\n",
            "2024-01-18 02:11:20.815368\n"
          ]
        }
      ],
      "source": [
        "dateAndTime = datetime.datetime.now()\n",
        "print('Current date and time:')\n",
        "print(dateAndTime)"
      ]
    },
    {
      "cell_type": "code",
      "source": [
        "year = dateAndTime.year\n",
        "day = dateAndTime.strftime(\"%A\")"
      ],
      "metadata": {
        "id": "njchQg60bKVj"
      },
      "execution_count": 3,
      "outputs": []
    },
    {
      "cell_type": "code",
      "source": [
        "print(f'Year : {year}\\nDay : {day}')"
      ],
      "metadata": {
        "colab": {
          "base_uri": "https://localhost:8080/"
        },
        "id": "yGM8fYpebAFE",
        "outputId": "1ff03482-9189-488b-d89f-19588b05b477"
      },
      "execution_count": 4,
      "outputs": [
        {
          "output_type": "stream",
          "name": "stdout",
          "text": [
            "Year : 2024\n",
            "Day : Thursday\n"
          ]
        }
      ]
    },
    {
      "cell_type": "code",
      "source": [
        "month = dateAndTime.strftime(\"%B\")\n",
        "print('Month :',month)"
      ],
      "metadata": {
        "colab": {
          "base_uri": "https://localhost:8080/"
        },
        "id": "hjNgY0S_a_-B",
        "outputId": "73012589-442a-4db0-d7fd-d29a603fd368"
      },
      "execution_count": 5,
      "outputs": [
        {
          "output_type": "stream",
          "name": "stdout",
          "text": [
            "Month : January\n"
          ]
        }
      ]
    },
    {
      "cell_type": "code",
      "source": [
        "Year = dateAndTime.strftime(\"%Y\")\n",
        "print('Year :',Year)"
      ],
      "metadata": {
        "colab": {
          "base_uri": "https://localhost:8080/"
        },
        "id": "gWo4JWu3a_4V",
        "outputId": "0e95b9af-64e1-447c-b9e9-bfc4a1074cd8"
      },
      "execution_count": 6,
      "outputs": [
        {
          "output_type": "stream",
          "name": "stdout",
          "text": [
            "Year : 2024\n"
          ]
        }
      ]
    },
    {
      "cell_type": "code",
      "source": [
        "hour = dateAndTime.strftime(\"%H\")\n",
        "print('Hour :',hour)"
      ],
      "metadata": {
        "colab": {
          "base_uri": "https://localhost:8080/"
        },
        "id": "EJ2BjYD_a_zY",
        "outputId": "76c7c077-3bbc-4177-c9cd-2c3a9ef29d40"
      },
      "execution_count": 7,
      "outputs": [
        {
          "output_type": "stream",
          "name": "stdout",
          "text": [
            "Hour : 02\n"
          ]
        }
      ]
    },
    {
      "cell_type": "code",
      "source": [
        "minute = dateAndTime.strftime(\"%M\")\n",
        "print('Minute :',minute)"
      ],
      "metadata": {
        "colab": {
          "base_uri": "https://localhost:8080/"
        },
        "id": "e5zv7TSAa_us",
        "outputId": "770affef-b416-44e8-d824-bc862087a2e4"
      },
      "execution_count": 8,
      "outputs": [
        {
          "output_type": "stream",
          "name": "stdout",
          "text": [
            "Minute : 11\n"
          ]
        }
      ]
    },
    {
      "cell_type": "markdown",
      "source": [
        "#### Checking datatype"
      ],
      "metadata": {
        "id": "e5BhEnlIa64q"
      }
    },
    {
      "cell_type": "code",
      "source": [
        "varInt = 10\n",
        "varFloat = 3.14\n",
        "varString = \"String data\"\n",
        "varList = [100,200,300]\n",
        "varDict = {'intValue': 1, 'floatNumber': 1.1}\n",
        "varBool = True\n",
        "varTuple = (1,2,3,'Start')"
      ],
      "metadata": {
        "id": "J8aJeassZ-FV"
      },
      "execution_count": 9,
      "outputs": []
    },
    {
      "cell_type": "code",
      "source": [
        "print (F'The datatype of varInt variable is {type(varInt)}')"
      ],
      "metadata": {
        "colab": {
          "base_uri": "https://localhost:8080/"
        },
        "id": "KsOZXy2NayWw",
        "outputId": "ff2afb5b-36e2-4931-c783-f8ced61903ad"
      },
      "execution_count": 10,
      "outputs": [
        {
          "output_type": "stream",
          "name": "stdout",
          "text": [
            "The datatype of varInt variable is <class 'int'>\n"
          ]
        }
      ]
    },
    {
      "cell_type": "code",
      "source": [
        "print (f'The datatype of varFloat variable is {type(varFloat)}')"
      ],
      "metadata": {
        "colab": {
          "base_uri": "https://localhost:8080/"
        },
        "id": "ok_hjSIZard3",
        "outputId": "76a23abe-14a0-4d73-fcc3-3eded6a32d07"
      },
      "execution_count": 11,
      "outputs": [
        {
          "output_type": "stream",
          "name": "stdout",
          "text": [
            "The datatype of varFloat variable is <class 'float'>\n"
          ]
        }
      ]
    },
    {
      "cell_type": "code",
      "source": [
        "print (F'The datatype of varString variable is {type(varString)}')"
      ],
      "metadata": {
        "colab": {
          "base_uri": "https://localhost:8080/"
        },
        "id": "bgRC8sIRarXI",
        "outputId": "f274ece9-0afb-49e0-8531-b32157f65934"
      },
      "execution_count": 12,
      "outputs": [
        {
          "output_type": "stream",
          "name": "stdout",
          "text": [
            "The datatype of varString variable is <class 'str'>\n"
          ]
        }
      ]
    },
    {
      "cell_type": "code",
      "source": [
        "print (F'The datatype of varList variable is {type(varList)}')"
      ],
      "metadata": {
        "colab": {
          "base_uri": "https://localhost:8080/"
        },
        "id": "SQp1xm7uarPz",
        "outputId": "2cf7235a-6536-413a-bab7-1eb5832be75e"
      },
      "execution_count": 13,
      "outputs": [
        {
          "output_type": "stream",
          "name": "stdout",
          "text": [
            "The datatype of varList variable is <class 'list'>\n"
          ]
        }
      ]
    },
    {
      "cell_type": "code",
      "source": [
        "print (F'The datatype of varDict variable is {type(varDict)}')"
      ],
      "metadata": {
        "colab": {
          "base_uri": "https://localhost:8080/"
        },
        "id": "TH-3llg7arD3",
        "outputId": "06839f94-ce2d-48d9-c21a-dbd6a8fe2dca"
      },
      "execution_count": 14,
      "outputs": [
        {
          "output_type": "stream",
          "name": "stdout",
          "text": [
            "The datatype of varDict variable is <class 'dict'>\n"
          ]
        }
      ]
    },
    {
      "cell_type": "code",
      "source": [
        "print (F'The datatype of varBool variable is {type(varBool)}')"
      ],
      "metadata": {
        "colab": {
          "base_uri": "https://localhost:8080/"
        },
        "id": "DgRea9Ogaq5r",
        "outputId": "dcb6186f-be09-455a-84a9-f9de992dca57"
      },
      "execution_count": 15,
      "outputs": [
        {
          "output_type": "stream",
          "name": "stdout",
          "text": [
            "The datatype of varBool variable is <class 'bool'>\n"
          ]
        }
      ]
    },
    {
      "cell_type": "code",
      "source": [
        "print (F'The datatype of varBool variable is {type(varTuple)}')"
      ],
      "metadata": {
        "colab": {
          "base_uri": "https://localhost:8080/"
        },
        "id": "iQAO5ZLrap-2",
        "outputId": "d1805959-2d8b-4bc4-bb14-46d023298ae7"
      },
      "execution_count": 16,
      "outputs": [
        {
          "output_type": "stream",
          "name": "stdout",
          "text": [
            "The datatype of varBool variable is <class 'tuple'>\n"
          ]
        }
      ]
    },
    {
      "cell_type": "code",
      "source": [
        "print(varTuple[0])"
      ],
      "metadata": {
        "colab": {
          "base_uri": "https://localhost:8080/"
        },
        "id": "DpP0i98Daf6U",
        "outputId": "4700e989-fa32-467d-87b0-072dc27a1571"
      },
      "execution_count": 17,
      "outputs": [
        {
          "output_type": "stream",
          "name": "stdout",
          "text": [
            "1\n"
          ]
        }
      ]
    },
    {
      "cell_type": "code",
      "source": [
        "print(type(varTuple[1]))"
      ],
      "metadata": {
        "colab": {
          "base_uri": "https://localhost:8080/"
        },
        "id": "QAGcnQBLaf1Y",
        "outputId": "b13b09cf-dc81-4017-dca7-df573bdd1b6a"
      },
      "execution_count": 18,
      "outputs": [
        {
          "output_type": "stream",
          "name": "stdout",
          "text": [
            "<class 'int'>\n"
          ]
        }
      ]
    },
    {
      "cell_type": "code",
      "source": [
        "print(varTuple[2])"
      ],
      "metadata": {
        "colab": {
          "base_uri": "https://localhost:8080/"
        },
        "id": "RQzraJpNafyP",
        "outputId": "d6342897-e969-4416-c7a7-8fac6be273a9"
      },
      "execution_count": 19,
      "outputs": [
        {
          "output_type": "stream",
          "name": "stdout",
          "text": [
            "3\n"
          ]
        }
      ]
    },
    {
      "cell_type": "code",
      "source": [
        "print(type(varTuple[3]))"
      ],
      "metadata": {
        "colab": {
          "base_uri": "https://localhost:8080/"
        },
        "id": "u3W6mEP1afvI",
        "outputId": "eca5732d-cf6a-4253-f154-3da35852a06e"
      },
      "execution_count": 20,
      "outputs": [
        {
          "output_type": "stream",
          "name": "stdout",
          "text": [
            "<class 'str'>\n"
          ]
        }
      ]
    },
    {
      "cell_type": "code",
      "source": [
        "print(varTuple[0:2])"
      ],
      "metadata": {
        "colab": {
          "base_uri": "https://localhost:8080/"
        },
        "id": "xTIy5ISSaa3-",
        "outputId": "30240d6c-9664-41da-f6b2-8015b8546bdc"
      },
      "execution_count": 21,
      "outputs": [
        {
          "output_type": "stream",
          "name": "stdout",
          "text": [
            "(1, 2)\n"
          ]
        }
      ]
    },
    {
      "cell_type": "code",
      "source": [
        "print(varList[0])"
      ],
      "metadata": {
        "colab": {
          "base_uri": "https://localhost:8080/"
        },
        "id": "PdKfg9izaax-",
        "outputId": "8efc32e7-9a85-4742-dcd5-4d6b50a21c5d"
      },
      "execution_count": 22,
      "outputs": [
        {
          "output_type": "stream",
          "name": "stdout",
          "text": [
            "100\n"
          ]
        }
      ]
    },
    {
      "cell_type": "code",
      "source": [
        "print(type(varList[1]))"
      ],
      "metadata": {
        "colab": {
          "base_uri": "https://localhost:8080/"
        },
        "id": "Kh9kcKPVaatD",
        "outputId": "40318f6d-6420-4df8-a5d0-88d1fd00c1b3"
      },
      "execution_count": 23,
      "outputs": [
        {
          "output_type": "stream",
          "name": "stdout",
          "text": [
            "<class 'int'>\n"
          ]
        }
      ]
    },
    {
      "cell_type": "code",
      "source": [
        "print(varList[2])"
      ],
      "metadata": {
        "colab": {
          "base_uri": "https://localhost:8080/"
        },
        "id": "LmTChvUwaaoF",
        "outputId": "22f0995b-46a0-4b3d-d966-8e3c3044c206"
      },
      "execution_count": 24,
      "outputs": [
        {
          "output_type": "stream",
          "name": "stdout",
          "text": [
            "300\n"
          ]
        }
      ]
    },
    {
      "cell_type": "code",
      "source": [
        "print(varList[0:])"
      ],
      "metadata": {
        "colab": {
          "base_uri": "https://localhost:8080/"
        },
        "id": "otDd5HUQaYBr",
        "outputId": "3bc235f8-9b6e-4b94-a3e5-4a32d3e632d2"
      },
      "execution_count": 25,
      "outputs": [
        {
          "output_type": "stream",
          "name": "stdout",
          "text": [
            "[100, 200, 300]\n"
          ]
        }
      ]
    },
    {
      "cell_type": "code",
      "source": [
        "print (F'The datatype of year is {type(year)}')\n",
        "print (F'The datatype of Year is {type(Year)}')"
      ],
      "metadata": {
        "colab": {
          "base_uri": "https://localhost:8080/"
        },
        "id": "wZ2CydONaUpz",
        "outputId": "5e4ea3d6-3c03-4060-d878-eb59a588446a"
      },
      "execution_count": 26,
      "outputs": [
        {
          "output_type": "stream",
          "name": "stdout",
          "text": [
            "The datatype of year is <class 'int'>\n",
            "The datatype of Year is <class 'str'>\n"
          ]
        }
      ]
    },
    {
      "cell_type": "markdown",
      "source": [
        "#### Creating table"
      ],
      "metadata": {
        "id": "QK4lPhrtZ1f6"
      }
    },
    {
      "cell_type": "code",
      "source": [
        "table = {'Year': year, 'Hour': int(hour), 'Minute': int(minute)}\n",
        "print (F'The datatype of table variable is {type(table)}')"
      ],
      "metadata": {
        "colab": {
          "base_uri": "https://localhost:8080/"
        },
        "id": "C5HOVAbvZtaf",
        "outputId": "3c4cd58b-80ea-47cf-ebc9-50dddc5216ab"
      },
      "execution_count": 27,
      "outputs": [
        {
          "output_type": "stream",
          "name": "stdout",
          "text": [
            "The datatype of table variable is <class 'dict'>\n"
          ]
        }
      ]
    },
    {
      "cell_type": "code",
      "source": [
        "print ('The datatype of table.items() is {}'.format(type(table.items())))"
      ],
      "metadata": {
        "colab": {
          "base_uri": "https://localhost:8080/"
        },
        "id": "UsNtSRyCaMtg",
        "outputId": "71bfd300-6e0c-4fb6-dbe2-0112d33ab997"
      },
      "execution_count": 28,
      "outputs": [
        {
          "output_type": "stream",
          "name": "stdout",
          "text": [
            "The datatype of table.items() is <class 'dict_items'>\n"
          ]
        }
      ]
    },
    {
      "cell_type": "code",
      "source": [
        "for interval,value in table.items():\n",
        "    print(f'{interval:10}-{value:10d}')     # Passing an integer after ':' will cause that field to be minimum number of characters wide.\n"
      ],
      "metadata": {
        "colab": {
          "base_uri": "https://localhost:8080/"
        },
        "id": "vA3yst5WaPut",
        "outputId": "45b9c4f6-3b2b-4295-812e-80e59285df14"
      },
      "execution_count": 29,
      "outputs": [
        {
          "output_type": "stream",
          "name": "stdout",
          "text": [
            "Year      -      2024\n",
            "Hour      -         2\n",
            "Minute    -        11\n"
          ]
        }
      ]
    },
    {
      "cell_type": "markdown",
      "source": [
        "#### Output Formatting"
      ],
      "metadata": {
        "id": "qgKCX5o_ZpPb"
      }
    },
    {
      "cell_type": "code",
      "source": [
        "a = 'Python';  b = 'programming'\n",
        "print('{} is incredibly versatile {} language.'.format(a,b))"
      ],
      "metadata": {
        "colab": {
          "base_uri": "https://localhost:8080/"
        },
        "id": "4ycY-OmOZl01",
        "outputId": "810319c4-f63b-4dfd-865b-d7c54f0312e2"
      },
      "execution_count": 30,
      "outputs": [
        {
          "output_type": "stream",
          "name": "stdout",
          "text": [
            "Python is incredibly versatile programming language.\n"
          ]
        }
      ]
    },
    {
      "cell_type": "code",
      "source": [
        "print('We will be {1} in {0}.'.format(a,b))\n"
      ],
      "metadata": {
        "colab": {
          "base_uri": "https://localhost:8080/"
        },
        "id": "nI_tPfUPaDvD",
        "outputId": "9d8e9748-b0ec-42ed-e1f1-33af7a6699e1"
      },
      "execution_count": 31,
      "outputs": [
        {
          "output_type": "stream",
          "name": "stdout",
          "text": [
            "We will be programming in Python.\n"
          ]
        }
      ]
    },
    {
      "cell_type": "code",
      "source": [
        "print('We will be {place1} machine learning {place2}.'.format(place1 = 'learning',place2 = 'concepts'))\n"
      ],
      "metadata": {
        "colab": {
          "base_uri": "https://localhost:8080/"
        },
        "id": "WXkIPFXGaDnv",
        "outputId": "0e6d4510-0d57-419d-a78f-9c5cb41a8d45"
      },
      "execution_count": 32,
      "outputs": [
        {
          "output_type": "stream",
          "name": "stdout",
          "text": [
            "We will be learning machine learning concepts.\n"
          ]
        }
      ]
    },
    {
      "cell_type": "code",
      "source": [
        "message = input('Enter a departing message\\t')\n",
        "print('Eveyone please be seated.',message)\n"
      ],
      "metadata": {
        "colab": {
          "base_uri": "https://localhost:8080/"
        },
        "id": "TmcnQ4qCaDhA",
        "outputId": "7872d23c-244b-401d-9b4b-3e38ffbdfeaa"
      },
      "execution_count": 33,
      "outputs": [
        {
          "output_type": "stream",
          "name": "stdout",
          "text": [
            "Enter a departing message\tThank You\n",
            "Eveyone please be seated. Thank You\n"
          ]
        }
      ]
    }
  ]
}