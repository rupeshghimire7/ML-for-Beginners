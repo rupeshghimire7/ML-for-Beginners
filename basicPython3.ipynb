{
  "nbformat": 4,
  "nbformat_minor": 0,
  "metadata": {
    "colab": {
      "provenance": []
    },
    "kernelspec": {
      "name": "python3",
      "display_name": "Python 3"
    },
    "language_info": {
      "name": "python"
    }
  },
  "cells": [
    {
      "cell_type": "markdown",
      "source": [
        "# Function\n"
      ],
      "metadata": {
        "id": "v_5tpL74hGQM"
      }
    },
    {
      "cell_type": "markdown",
      "source": [
        "#### Function Definition\n",
        "\n",
        "\n",
        "\n",
        "\n"
      ],
      "metadata": {
        "id": "jHILnkNQA2lG"
      }
    },
    {
      "cell_type": "markdown",
      "source": [
        "#### Function Call"
      ],
      "metadata": {
        "id": "ECSJnuP0BC4T"
      }
    },
    {
      "cell_type": "markdown",
      "source": [
        "---"
      ],
      "metadata": {
        "id": "_fDJ6qvqBI_c"
      }
    },
    {
      "cell_type": "markdown",
      "source": [
        "##### A function is a block of code which only runs when it is called."
      ],
      "metadata": {
        "id": "_gW4FDI7APCd"
      }
    },
    {
      "cell_type": "markdown",
      "source": [
        "---"
      ],
      "metadata": {
        "id": "l2cWa5FWBV59"
      }
    },
    {
      "cell_type": "markdown",
      "source": [
        "#####A parameter is the variable listed inside the parentheses in the function definition. An argument is the value that are sent to the function when it is called."
      ],
      "metadata": {
        "id": "9NtP4vb8BRzN"
      }
    },
    {
      "cell_type": "markdown",
      "source": [
        "---"
      ],
      "metadata": {
        "id": "2fcYSJHzBWyu"
      }
    },
    {
      "cell_type": "markdown",
      "source": [
        "#### Known arguments"
      ],
      "metadata": {
        "id": "4-6s-hKlhDKC"
      }
    },
    {
      "cell_type": "code",
      "execution_count": 1,
      "metadata": {
        "id": "9VaaV54CcZC5"
      },
      "outputs": [],
      "source": [
        "def knownArgument(author):\n",
        "    print(f'The writer of the manga is {author}.')"
      ]
    },
    {
      "cell_type": "code",
      "source": [
        "knownArgument(\"Ginsama\")"
      ],
      "metadata": {
        "id": "bHv3a0Mbg6Yl",
        "colab": {
          "base_uri": "https://localhost:8080/"
        },
        "outputId": "b6977664-1b5b-43da-aaaf-576d72046dab"
      },
      "execution_count": 2,
      "outputs": [
        {
          "output_type": "stream",
          "name": "stdout",
          "text": [
            "The writer of the manga is Ginsama.\n"
          ]
        }
      ]
    },
    {
      "cell_type": "markdown",
      "source": [
        "#####  A function is a block of code that performs a specific task, while a function call is an expression that invokes a function and executes the code in the function."
      ],
      "metadata": {
        "id": "G03nHXltAul6"
      }
    },
    {
      "cell_type": "markdown",
      "source": [
        "#### Unknown arguments\n"
      ],
      "metadata": {
        "id": "QFViAyRLg7EE"
      }
    },
    {
      "cell_type": "markdown",
      "source": [
        "##### If the number of arguments that will be passed into the function, asterisk (*) is added before parameter name in function definition.\n"
      ],
      "metadata": {
        "id": "DDuMOrSpg65H"
      }
    },
    {
      "cell_type": "markdown",
      "source": [
        "##### The function will receive tuple of arguments and it will access the items accordingly.\n"
      ],
      "metadata": {
        "id": "ir3D2pdLg3u0"
      }
    },
    {
      "cell_type": "code",
      "source": [
        "def arbitraryArguments(*contributors):\n",
        "    print(contributors)\n",
        "    print('The most significant contributor is '+ contributors[0]+'.')"
      ],
      "metadata": {
        "id": "FalrSVDag2G4"
      },
      "execution_count": 3,
      "outputs": []
    },
    {
      "cell_type": "code",
      "source": [
        "arbitraryArguments('Gojo Satoru','Uchiha Madara')"
      ],
      "metadata": {
        "id": "hD55sxt3g0jZ",
        "colab": {
          "base_uri": "https://localhost:8080/"
        },
        "outputId": "c8bd6fcf-91e4-47a7-8285-18f676a0fa57"
      },
      "execution_count": 4,
      "outputs": [
        {
          "output_type": "stream",
          "name": "stdout",
          "text": [
            "('Gojo Satour', 'Uchiha Madara')\n",
            "The most significant contributor is Gojo Satour.\n"
          ]
        }
      ]
    },
    {
      "cell_type": "markdown",
      "source": [
        "#### Keyword arguments\n"
      ],
      "metadata": {
        "id": "X0utdFTpgxmX"
      }
    },
    {
      "cell_type": "code",
      "source": [
        "def keywordArguments(antagonist, writer, protagonist):\n",
        "    print('The writer is '+writer+', the protagonist is '+protagonist+' and the antagonist is '+antagonist+'.')"
      ],
      "metadata": {
        "id": "5-kAi5njgvV-"
      },
      "execution_count": 5,
      "outputs": []
    },
    {
      "cell_type": "code",
      "source": [
        "keywordArguments(protagonist='Shanks',antagonist='Imu',writer='Oda' )"
      ],
      "metadata": {
        "id": "O9kSbw9WgYvS",
        "colab": {
          "base_uri": "https://localhost:8080/"
        },
        "outputId": "900e3905-39d0-4477-be80-71395f0834b8"
      },
      "execution_count": 6,
      "outputs": [
        {
          "output_type": "stream",
          "name": "stdout",
          "text": [
            "The writer is Oda, the protagonist is Shanks and the antagonist is Imu.\n"
          ]
        }
      ]
    },
    {
      "cell_type": "markdown",
      "source": [
        "##### If the number of keyword arguments that will be passed into the function, ** is added before parameter name in function definition.\n"
      ],
      "metadata": {
        "id": "y2W7K4DqgZ0T"
      }
    },
    {
      "cell_type": "markdown",
      "source": [
        "#### Arbitrary keyword arguments\n"
      ],
      "metadata": {
        "id": "Pi1z_l7VgZxs"
      }
    },
    {
      "cell_type": "code",
      "source": [
        "def arbitraryKeywordArguments(**contributors):\n",
        "    print('The most significant contributor is '+ contributors['second']+'.')"
      ],
      "metadata": {
        "id": "YgXhYGqngVIX"
      },
      "execution_count": 7,
      "outputs": []
    },
    {
      "cell_type": "code",
      "source": [
        "arbitraryKeywordArguments(first = 'Gojo Satour', second = 'Uchiha Madara')"
      ],
      "metadata": {
        "id": "5SRlfJlbgTJx",
        "colab": {
          "base_uri": "https://localhost:8080/"
        },
        "outputId": "906d1d11-dc49-4da8-e291-814a3307973b"
      },
      "execution_count": 8,
      "outputs": [
        {
          "output_type": "stream",
          "name": "stdout",
          "text": [
            "The most significant contributor is Uchiha Madara.\n"
          ]
        }
      ]
    },
    {
      "cell_type": "markdown",
      "source": [
        "#### Default parameter\n"
      ],
      "metadata": {
        "id": "ymGboCuYgK8s"
      }
    },
    {
      "cell_type": "code",
      "source": [
        "def defaultParameters(antagonist, writer, protagonist=\"Ginsama\"):\n",
        "    print('The writer is '+writer+', the protagonist is '+protagonist+' and the antagonist is '+antagonist+'.')"
      ],
      "metadata": {
        "id": "R9Xi01eYgLZa"
      },
      "execution_count": 9,
      "outputs": []
    },
    {
      "cell_type": "code",
      "source": [
        "defaultParameters(protagonist='Shanks',antagonist='Imu',writer='Oda' )\n"
      ],
      "metadata": {
        "id": "I7Jc8fy0f_Rc",
        "colab": {
          "base_uri": "https://localhost:8080/"
        },
        "outputId": "590f7651-98db-4217-ad8c-ac700a5b9d59"
      },
      "execution_count": 10,
      "outputs": [
        {
          "output_type": "stream",
          "name": "stdout",
          "text": [
            "The writer is Oda, the protagonist is Shanks and the antagonist is Imu.\n"
          ]
        }
      ]
    },
    {
      "cell_type": "code",
      "source": [
        "defaultParameters(antagonist='Imu',writer='Oda')"
      ],
      "metadata": {
        "colab": {
          "base_uri": "https://localhost:8080/"
        },
        "id": "umWpRmq9fLAh",
        "outputId": "1a75f196-a20a-4072-def3-8592ea6ff7c4"
      },
      "execution_count": 11,
      "outputs": [
        {
          "output_type": "stream",
          "name": "stdout",
          "text": [
            "The writer is Oda, the protagonist is Ginsama and the antagonist is Imu.\n"
          ]
        }
      ]
    },
    {
      "cell_type": "markdown",
      "source": [
        "#### Use of Pass statement"
      ],
      "metadata": {
        "id": "_8_pvXcygCiS"
      }
    },
    {
      "cell_type": "markdown",
      "source": [
        "##### Function definitions cannot be empty. Todefine a function with no content  use pass statement.\n"
      ],
      "metadata": {
        "id": "NmbIgATXf_8I"
      }
    },
    {
      "cell_type": "code",
      "source": [
        "def noFunction():\n",
        "    pass"
      ],
      "metadata": {
        "id": "PqEiZfUmf-ld"
      },
      "execution_count": 12,
      "outputs": []
    },
    {
      "cell_type": "markdown",
      "source": [
        "#### Use of return statement"
      ],
      "metadata": {
        "id": "c-PlJ90pf578"
      }
    },
    {
      "cell_type": "code",
      "source": [
        "def addition(a,b):\n",
        "    x = a + b\n",
        "    return x"
      ],
      "metadata": {
        "id": "IP433nzsf3Xu"
      },
      "execution_count": 13,
      "outputs": []
    },
    {
      "cell_type": "code",
      "source": [
        "sum = addition(5,6)\n",
        "result = sum - 3\n",
        "print(f'The result is {result}.')"
      ],
      "metadata": {
        "id": "RuvayDE8f1J0",
        "colab": {
          "base_uri": "https://localhost:8080/"
        },
        "outputId": "1933be40-6ff0-45df-f283-a94b7907dc50"
      },
      "execution_count": 14,
      "outputs": [
        {
          "output_type": "stream",
          "name": "stdout",
          "text": [
            "The result is 8.\n"
          ]
        }
      ]
    },
    {
      "cell_type": "markdown",
      "source": [
        "#### Passing list as Argument\n"
      ],
      "metadata": {
        "id": "koyxGeTVfweG"
      }
    },
    {
      "cell_type": "code",
      "source": [
        "def display(numbers):\n",
        "    for number in numbers:\n",
        "        print (number)"
      ],
      "metadata": {
        "id": "fHcPUAAgfvWP"
      },
      "execution_count": 15,
      "outputs": []
    },
    {
      "cell_type": "code",
      "source": [
        "numbers = [10,100,1000]\n",
        "display(numbers)"
      ],
      "metadata": {
        "id": "bPatb302fAuR",
        "colab": {
          "base_uri": "https://localhost:8080/"
        },
        "outputId": "4adbbd40-5401-48ef-d73b-789a9db5b97c"
      },
      "execution_count": 16,
      "outputs": [
        {
          "output_type": "stream",
          "name": "stdout",
          "text": [
            "10\n",
            "100\n",
            "1000\n"
          ]
        }
      ]
    },
    {
      "cell_type": "markdown",
      "source": [
        "### Recursion function\n"
      ],
      "metadata": {
        "id": "ArRu7Z_Nevlt"
      }
    },
    {
      "cell_type": "markdown",
      "source": [
        "##### A recursion function calls itself. We need to be very careful with recursion as we can end up writting a function which never terminates, or one that uses excess memory or processor power.\n"
      ],
      "metadata": {
        "id": "TQOJAGwfe5MQ"
      }
    },
    {
      "cell_type": "code",
      "source": [
        "def factorial(num):\n",
        "    if num == 0 or num == 1:\n",
        "        return 1\n",
        "    else :\n",
        "        return num * factorial(num-1)"
      ],
      "metadata": {
        "id": "Tyj_x1G7evNo"
      },
      "execution_count": 17,
      "outputs": []
    },
    {
      "cell_type": "code",
      "source": [
        "factorialOfNum = factorial(10)\n",
        "print(f'The factorial of the number is {factorialOfNum}.')"
      ],
      "metadata": {
        "id": "PYbXqA7eeqc0",
        "colab": {
          "base_uri": "https://localhost:8080/"
        },
        "outputId": "50f2e806-7380-440a-95d2-70b9ea29fd38"
      },
      "execution_count": 18,
      "outputs": [
        {
          "output_type": "stream",
          "name": "stdout",
          "text": [
            "The factorial of the number is 3628800.\n"
          ]
        }
      ]
    },
    {
      "cell_type": "markdown",
      "source": [
        "### Lambda functions"
      ],
      "metadata": {
        "id": "owRMRre8ex1K"
      }
    },
    {
      "cell_type": "markdown",
      "source": [
        "##### Lambda functions are anonymous functions means it is without a name.\n"
      ],
      "metadata": {
        "id": "z1LY20YkelET"
      }
    },
    {
      "cell_type": "code",
      "source": [
        "message = input('Enter a message\\n')\n",
        "\n",
        "upperMessage = lambda string: string.upper()\n",
        "print(upperMessage)"
      ],
      "metadata": {
        "id": "Cib65A-yejMI",
        "colab": {
          "base_uri": "https://localhost:8080/"
        },
        "outputId": "d4b45a48-9626-46f2-c087-c363cfe5015b"
      },
      "execution_count": 19,
      "outputs": [
        {
          "output_type": "stream",
          "name": "stdout",
          "text": [
            "Enter a message\n",
            "Hello\n",
            "<function <lambda> at 0x7b0fa1479ab0>\n"
          ]
        }
      ]
    },
    {
      "cell_type": "markdown",
      "source": [
        "##### <function ...> indicates that it's a function object.\n"
      ],
      "metadata": {
        "id": "ONqirPHSIFwP"
      }
    },
    {
      "cell_type": "markdown",
      "source": [
        "##### lambda specifies that it's a lambda function\n"
      ],
      "metadata": {
        "id": "5GG48ak6IfFv"
      }
    },
    {
      "cell_type": "markdown",
      "source": [
        "#####The remaining part represents the memory address where the function is stored in the computer's memory."
      ],
      "metadata": {
        "id": "ElMaxU7xIhuh"
      }
    },
    {
      "cell_type": "code",
      "source": [
        "print(upperMessage(message))"
      ],
      "metadata": {
        "id": "y_3KbUaFHsxF",
        "colab": {
          "base_uri": "https://localhost:8080/"
        },
        "outputId": "62d596bf-232a-4088-fd44-88576c0aea45"
      },
      "execution_count": 20,
      "outputs": [
        {
          "output_type": "stream",
          "name": "stdout",
          "text": [
            "HELLO\n"
          ]
        }
      ]
    },
    {
      "cell_type": "markdown",
      "source": [
        "##### Lambda function can have any number of arguments but only one expression. This expression is evaluated and returned.\n"
      ],
      "metadata": {
        "id": "BRDMVIlveYNb"
      }
    },
    {
      "cell_type": "code",
      "source": [
        "multiplication = lambda num1, num2 : num1 * num2\n",
        "n1 = 2\n",
        "n2 = 10\n",
        "print('The product of {} and {} is {}.'.format(n1,n2,multiplication(n1,n2)))"
      ],
      "metadata": {
        "id": "th-F25QJeTT4",
        "colab": {
          "base_uri": "https://localhost:8080/"
        },
        "outputId": "cbce42f4-35ad-4f0c-de74-25555ace537d"
      },
      "execution_count": 21,
      "outputs": [
        {
          "output_type": "stream",
          "name": "stdout",
          "text": [
            "The product of 2 and 10 is 20.\n"
          ]
        }
      ]
    },
    {
      "cell_type": "markdown",
      "source": [
        "####List comprehension\n"
      ],
      "metadata": {
        "id": "TLJADvlxeRgC"
      }
    },
    {
      "cell_type": "markdown",
      "source": [
        "##### List comprehension is a concise(giving a lot of information clearly and in a few words; brief but comprehensive.) way of creating lists from the ones that already exist."
      ],
      "metadata": {
        "id": "mgYYXYRfCn5_"
      }
    },
    {
      "cell_type": "code",
      "source": [
        "list1 = [i for i in range(0,10)]\n",
        "print(list1)"
      ],
      "metadata": {
        "id": "8DZsk2V_ePrn",
        "colab": {
          "base_uri": "https://localhost:8080/"
        },
        "outputId": "d44a6058-7748-48c8-b1ae-c77bccdc38f3"
      },
      "execution_count": 22,
      "outputs": [
        {
          "output_type": "stream",
          "name": "stdout",
          "text": [
            "[0, 1, 2, 3, 4, 5, 6, 7, 8, 9]\n"
          ]
        }
      ]
    },
    {
      "cell_type": "code",
      "source": [
        "evenList = [i for i in range(10) if i % 2 == 0]\n",
        "print(evenList)"
      ],
      "metadata": {
        "id": "2oBs_Xp-eOy7",
        "colab": {
          "base_uri": "https://localhost:8080/"
        },
        "outputId": "3401cde0-0f9b-405b-dea3-90293e751935"
      },
      "execution_count": 23,
      "outputs": [
        {
          "output_type": "stream",
          "name": "stdout",
          "text": [
            "[0, 2, 4, 6, 8]\n"
          ]
        }
      ]
    },
    {
      "cell_type": "markdown",
      "source": [
        "#### Lambda function and list comprehension\n"
      ],
      "metadata": {
        "id": "LfAJ5dqaeIkt"
      }
    },
    {
      "cell_type": "markdown",
      "source": [
        "####Method - 1"
      ],
      "metadata": {
        "id": "mvwRyyOrHI8i"
      }
    },
    {
      "cell_type": "code",
      "source": [
        "valueList = [(lambda value=i : value + 2)  (i) for  i in range(1,10)]"
      ],
      "metadata": {
        "id": "9g7J6wZseFD-"
      },
      "execution_count": 24,
      "outputs": []
    },
    {
      "cell_type": "code",
      "source": [
        "print(valueList)"
      ],
      "metadata": {
        "id": "LDHZQQdXGiMU",
        "colab": {
          "base_uri": "https://localhost:8080/"
        },
        "outputId": "e0b2575e-33c8-4ef6-bc18-c9065d5daa6a"
      },
      "execution_count": 25,
      "outputs": [
        {
          "output_type": "stream",
          "name": "stdout",
          "text": [
            "[3, 4, 5, 6, 7, 8, 9, 10, 11]\n"
          ]
        }
      ]
    },
    {
      "cell_type": "code",
      "source": [
        "for value in valueList:\n",
        "    print(value)"
      ],
      "metadata": {
        "id": "4q04LdxrGhjc",
        "colab": {
          "base_uri": "https://localhost:8080/"
        },
        "outputId": "f2a0b6bb-03d9-49d6-9418-21ed8defa12c"
      },
      "execution_count": 26,
      "outputs": [
        {
          "output_type": "stream",
          "name": "stdout",
          "text": [
            "3\n",
            "4\n",
            "5\n",
            "6\n",
            "7\n",
            "8\n",
            "9\n",
            "10\n",
            "11\n"
          ]
        }
      ]
    },
    {
      "cell_type": "markdown",
      "source": [
        "#### Method - 2"
      ],
      "metadata": {
        "id": "6JRAXaMzHNAq"
      }
    },
    {
      "cell_type": "code",
      "source": [
        "valueList = [lambda value=i : value + 2 for  i in range(1,10)]"
      ],
      "metadata": {
        "id": "ncNQDsKrHTr9"
      },
      "execution_count": 27,
      "outputs": []
    },
    {
      "cell_type": "code",
      "source": [
        "print(valueList)"
      ],
      "metadata": {
        "id": "MlkrOAi_HYnk",
        "colab": {
          "base_uri": "https://localhost:8080/"
        },
        "outputId": "e838bd51-608b-471d-d26e-b4e72c76a5a8"
      },
      "execution_count": 28,
      "outputs": [
        {
          "output_type": "stream",
          "name": "stdout",
          "text": [
            "[<function <listcomp>.<lambda> at 0x7b0fa05fe320>, <function <listcomp>.<lambda> at 0x7b0fa05fe8c0>, <function <listcomp>.<lambda> at 0x7b0fa05fe4d0>, <function <listcomp>.<lambda> at 0x7b0fa05fe680>, <function <listcomp>.<lambda> at 0x7b0fa05fef80>, <function <listcomp>.<lambda> at 0x7b0fa05ff640>, <function <listcomp>.<lambda> at 0x7b0fa05feef0>, <function <listcomp>.<lambda> at 0x7b0fa05ff2e0>, <function <listcomp>.<lambda> at 0x7b0fa05ff250>]\n"
          ]
        }
      ]
    },
    {
      "cell_type": "code",
      "source": [
        "for value in valueList:\n",
        "    print(value)"
      ],
      "metadata": {
        "id": "oG2yrrEmHaCe",
        "colab": {
          "base_uri": "https://localhost:8080/"
        },
        "outputId": "31af6469-f20f-4999-e485-7296e837e60f"
      },
      "execution_count": 29,
      "outputs": [
        {
          "output_type": "stream",
          "name": "stdout",
          "text": [
            "<function <listcomp>.<lambda> at 0x7b0fa05fe320>\n",
            "<function <listcomp>.<lambda> at 0x7b0fa05fe8c0>\n",
            "<function <listcomp>.<lambda> at 0x7b0fa05fe4d0>\n",
            "<function <listcomp>.<lambda> at 0x7b0fa05fe680>\n",
            "<function <listcomp>.<lambda> at 0x7b0fa05fef80>\n",
            "<function <listcomp>.<lambda> at 0x7b0fa05ff640>\n",
            "<function <listcomp>.<lambda> at 0x7b0fa05feef0>\n",
            "<function <listcomp>.<lambda> at 0x7b0fa05ff2e0>\n",
            "<function <listcomp>.<lambda> at 0x7b0fa05ff250>\n"
          ]
        }
      ]
    },
    {
      "cell_type": "code",
      "source": [
        "for value in valueList:\n",
        "    print(value())"
      ],
      "metadata": {
        "colab": {
          "base_uri": "https://localhost:8080/"
        },
        "id": "lPLY2RobloPD",
        "outputId": "e5ca8bfe-1cbb-40e0-f503-a49b3cc916ef"
      },
      "execution_count": 30,
      "outputs": [
        {
          "output_type": "stream",
          "name": "stdout",
          "text": [
            "3\n",
            "4\n",
            "5\n",
            "6\n",
            "7\n",
            "8\n",
            "9\n",
            "10\n",
            "11\n"
          ]
        }
      ]
    },
    {
      "cell_type": "code",
      "source": [
        "minValue = lambda num1, num2 : num1 if num1 < num2 else num2\n",
        "print ('The minimum value is',minValue(n1, n2),'.')"
      ],
      "metadata": {
        "id": "z9SrJMPmeDqJ",
        "colab": {
          "base_uri": "https://localhost:8080/"
        },
        "outputId": "cd134384-3eeb-4039-f035-316cd813cab8"
      },
      "execution_count": 31,
      "outputs": [
        {
          "output_type": "stream",
          "name": "stdout",
          "text": [
            "The minimum value is 2 .\n"
          ]
        }
      ]
    }
  ]
}