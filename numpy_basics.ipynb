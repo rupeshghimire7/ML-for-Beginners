{
  "nbformat": 4,
  "nbformat_minor": 0,
  "metadata": {
    "colab": {
      "provenance": []
    },
    "kernelspec": {
      "name": "python3",
      "display_name": "Python 3"
    },
    "language_info": {
      "name": "python"
    }
  },
  "cells": [
    {
      "cell_type": "markdown",
      "source": [
        "# Arrays in Numpy"
      ],
      "metadata": {
        "id": "kwgAaMwhkwIv"
      }
    },
    {
      "cell_type": "markdown",
      "source": [
        "Array in Numpy is a table of elements (usually numbers), all of the same type, indexed by a tuple of positive integers"
      ],
      "metadata": {
        "id": "kXGIJjyCk3uj"
      }
    },
    {
      "cell_type": "markdown",
      "source": [
        " An array class in Numpy is called as **ndarray**."
      ],
      "metadata": {
        "id": "Q-TnNEbtlAgE"
      }
    },
    {
      "cell_type": "markdown",
      "source": [
        "---"
      ],
      "metadata": {
        "id": "Xv1BYLA7lQx8"
      }
    },
    {
      "cell_type": "code",
      "source": [
        "import numpy as np"
      ],
      "metadata": {
        "id": "1SJeYcwGlSp_"
      },
      "execution_count": 1,
      "outputs": []
    },
    {
      "cell_type": "markdown",
      "source": [
        "---"
      ],
      "metadata": {
        "id": "aOQJG5YHlRZA"
      }
    },
    {
      "cell_type": "markdown",
      "source": [
        "## Creating Numpy Array"
      ],
      "metadata": {
        "id": "EOY1T8KLlKnb"
      }
    },
    {
      "cell_type": "markdown",
      "source": [
        "##### In Numpy, number of dimensions of the array is called **rank of the array**."
      ],
      "metadata": {
        "id": "Gl8PlXlulpSg"
      }
    },
    {
      "cell_type": "markdown",
      "source": [
        "---"
      ],
      "metadata": {
        "id": "utaXTfgrnjii"
      }
    },
    {
      "cell_type": "markdown",
      "source": [
        "### np.array"
      ],
      "metadata": {
        "id": "9hVs8ep5WVin"
      }
    },
    {
      "cell_type": "markdown",
      "source": [
        "#### Rank 1 Array"
      ],
      "metadata": {
        "id": "zxl1rJxfl6Nm"
      }
    },
    {
      "cell_type": "code",
      "source": [
        "rank1Array = np.array([10,20,30])\n",
        "rank1Array"
      ],
      "metadata": {
        "colab": {
          "base_uri": "https://localhost:8080/"
        },
        "id": "jgEY3A52lAMb",
        "outputId": "f7b0ee77-5d5d-45c3-bdf1-491cfb52e6b2"
      },
      "execution_count": 2,
      "outputs": [
        {
          "output_type": "execute_result",
          "data": {
            "text/plain": [
              "array([10, 20, 30])"
            ]
          },
          "metadata": {},
          "execution_count": 2
        }
      ]
    },
    {
      "cell_type": "code",
      "source": [
        "type(rank1Array)"
      ],
      "metadata": {
        "colab": {
          "base_uri": "https://localhost:8080/"
        },
        "id": "NQH2Q4DamW8V",
        "outputId": "7150fa33-93ec-464c-a179-034b50b2100f"
      },
      "execution_count": 3,
      "outputs": [
        {
          "output_type": "execute_result",
          "data": {
            "text/plain": [
              "numpy.ndarray"
            ]
          },
          "metadata": {},
          "execution_count": 3
        }
      ]
    },
    {
      "cell_type": "code",
      "source": [
        "print('The dimension of array is : ',rank1Array.ndim)"
      ],
      "metadata": {
        "colab": {
          "base_uri": "https://localhost:8080/"
        },
        "id": "7RmntykVopZF",
        "outputId": "da56fba7-1094-497e-cd1a-e3ca2572f99b"
      },
      "execution_count": 4,
      "outputs": [
        {
          "output_type": "stream",
          "name": "stdout",
          "text": [
            "The dimension of array is :  1\n"
          ]
        }
      ]
    },
    {
      "cell_type": "markdown",
      "source": [
        "---"
      ],
      "metadata": {
        "id": "2W-ypBm4nk7s"
      }
    },
    {
      "cell_type": "markdown",
      "source": [
        "#### Rank 2 Array"
      ],
      "metadata": {
        "id": "F1fKJkD2l_z6"
      }
    },
    {
      "cell_type": "code",
      "execution_count": 5,
      "metadata": {
        "colab": {
          "base_uri": "https://localhost:8080/"
        },
        "id": "qOJ9jnaLiZLK",
        "outputId": "440d69b6-c7ad-42aa-8470-00f50e915cb9"
      },
      "outputs": [
        {
          "output_type": "execute_result",
          "data": {
            "text/plain": [
              "array([[ 10,  20,  30],\n",
              "       [ 50,  60,  70],\n",
              "       [ 80,  90, 100]])"
            ]
          },
          "metadata": {},
          "execution_count": 5
        }
      ],
      "source": [
        "rank2Array = np.array([[10,20,30],\n",
        "                       [50,60,70],\n",
        "                       [80,90,100]])\n",
        "rank2Array"
      ]
    },
    {
      "cell_type": "code",
      "source": [
        "type(rank2Array)"
      ],
      "metadata": {
        "colab": {
          "base_uri": "https://localhost:8080/"
        },
        "id": "yJxExFObne_R",
        "outputId": "142c9b26-0588-48f6-b3b9-5b9386217e94"
      },
      "execution_count": 6,
      "outputs": [
        {
          "output_type": "execute_result",
          "data": {
            "text/plain": [
              "numpy.ndarray"
            ]
          },
          "metadata": {},
          "execution_count": 6
        }
      ]
    },
    {
      "cell_type": "code",
      "source": [
        "print('The dimension of array is : ',rank2Array.ndim)"
      ],
      "metadata": {
        "colab": {
          "base_uri": "https://localhost:8080/"
        },
        "id": "TL-EXZJ3o6FQ",
        "outputId": "d455e0bf-62ea-458c-e126-77dcd8015db6"
      },
      "execution_count": 7,
      "outputs": [
        {
          "output_type": "stream",
          "name": "stdout",
          "text": [
            "The dimension of array is :  2\n"
          ]
        }
      ]
    },
    {
      "cell_type": "markdown",
      "source": [
        "---"
      ],
      "metadata": {
        "id": "jaZVKXINnnWI"
      }
    },
    {
      "cell_type": "markdown",
      "source": [
        "#### Rank 3 Array"
      ],
      "metadata": {
        "id": "TT0nz3HcmD-D"
      }
    },
    {
      "cell_type": "code",
      "source": [
        "rank3Array = np.array([[[10.,20],[30,40]],\n",
        "                      [[40,50],[60,70]],\n",
        "                       [[80,90],[100,110]]])\n",
        "rank3Array"
      ],
      "metadata": {
        "colab": {
          "base_uri": "https://localhost:8080/"
        },
        "id": "oKM5zRMImFMx",
        "outputId": "f9ad1084-8ee0-4b1f-d9ce-80987d0f9e06"
      },
      "execution_count": 8,
      "outputs": [
        {
          "output_type": "execute_result",
          "data": {
            "text/plain": [
              "array([[[ 10.,  20.],\n",
              "        [ 30.,  40.]],\n",
              "\n",
              "       [[ 40.,  50.],\n",
              "        [ 60.,  70.]],\n",
              "\n",
              "       [[ 80.,  90.],\n",
              "        [100., 110.]]])"
            ]
          },
          "metadata": {},
          "execution_count": 8
        }
      ]
    },
    {
      "cell_type": "markdown",
      "source": [
        "**Axis 0**: This is the first dimension and often represents different samples or instances in the data.\n",
        "\n",
        "**Axis 1**: The second dimension, often denoting features or attributes for each sample.\n",
        "\n",
        "**Axis 2**: The third dimension, when dealing with a 3D array, represents additional structure or depth in the data."
      ],
      "metadata": {
        "id": "Xh7T3frDGX1g"
      }
    },
    {
      "cell_type": "code",
      "source": [
        "type(rank3Array)"
      ],
      "metadata": {
        "colab": {
          "base_uri": "https://localhost:8080/"
        },
        "id": "yc9MfAHKpGGN",
        "outputId": "3729590c-e9c8-44f2-bfea-2e2da2d481b8"
      },
      "execution_count": 9,
      "outputs": [
        {
          "output_type": "execute_result",
          "data": {
            "text/plain": [
              "numpy.ndarray"
            ]
          },
          "metadata": {},
          "execution_count": 9
        }
      ]
    },
    {
      "cell_type": "code",
      "source": [
        "print('The dimension of array is : ',rank3Array.ndim)"
      ],
      "metadata": {
        "colab": {
          "base_uri": "https://localhost:8080/"
        },
        "id": "7eaS9gvWo7Mk",
        "outputId": "5556a0e3-2372-4de8-b44a-49daf18d9b3e"
      },
      "execution_count": 10,
      "outputs": [
        {
          "output_type": "stream",
          "name": "stdout",
          "text": [
            "The dimension of array is :  3\n"
          ]
        }
      ]
    },
    {
      "cell_type": "markdown",
      "source": [
        "---"
      ],
      "metadata": {
        "id": "hUd6VxIooWUi"
      }
    },
    {
      "cell_type": "markdown",
      "source": [
        "#### Boolean array"
      ],
      "metadata": {
        "id": "vHy7z5fsi889"
      }
    },
    {
      "cell_type": "code",
      "source": [
        "boolArray1 = np.array([True, False, False, True])\n",
        "boolArray1"
      ],
      "metadata": {
        "colab": {
          "base_uri": "https://localhost:8080/"
        },
        "id": "RKPl0Fr0i4tW",
        "outputId": "336b4055-4a8a-49f4-e7a2-82a73ef03ac4"
      },
      "execution_count": 11,
      "outputs": [
        {
          "output_type": "execute_result",
          "data": {
            "text/plain": [
              "array([ True, False, False,  True])"
            ]
          },
          "metadata": {},
          "execution_count": 11
        }
      ]
    },
    {
      "cell_type": "code",
      "source": [
        "boolArray1.dtype"
      ],
      "metadata": {
        "colab": {
          "base_uri": "https://localhost:8080/"
        },
        "id": "SZzqCLRyjPZ3",
        "outputId": "e5519517-bf1b-42be-9217-0bd873234f89"
      },
      "execution_count": 12,
      "outputs": [
        {
          "output_type": "execute_result",
          "data": {
            "text/plain": [
              "dtype('bool')"
            ]
          },
          "metadata": {},
          "execution_count": 12
        }
      ]
    },
    {
      "cell_type": "markdown",
      "source": [
        "---"
      ],
      "metadata": {
        "id": "-coRuusri398"
      }
    },
    {
      "cell_type": "markdown",
      "source": [
        "### np.random.choice"
      ],
      "metadata": {
        "id": "WrKfkxO-jY5q"
      }
    },
    {
      "cell_type": "code",
      "source": [
        "boolArray2 = np.random.choice([True, False], size=4)\n",
        "boolArray2"
      ],
      "metadata": {
        "colab": {
          "base_uri": "https://localhost:8080/"
        },
        "id": "LyN29sJBjYP_",
        "outputId": "7c2b1d23-32a0-4c03-d3b4-cad22d1ec1fc"
      },
      "execution_count": 13,
      "outputs": [
        {
          "output_type": "execute_result",
          "data": {
            "text/plain": [
              "array([False, False, False, False])"
            ]
          },
          "metadata": {},
          "execution_count": 13
        }
      ]
    },
    {
      "cell_type": "markdown",
      "source": [
        "With the help of **choice()** method, we can get the random samples of one dimensional array and return the random samples of numpy array."
      ],
      "metadata": {
        "id": "TH5CiiVcEllS"
      }
    },
    {
      "cell_type": "markdown",
      "source": [
        "---"
      ],
      "metadata": {
        "id": "Z1Jx_d3kj6Xf"
      }
    },
    {
      "cell_type": "markdown",
      "source": [
        "### Boolean array based on condition"
      ],
      "metadata": {
        "id": "_x1KANI0j2Oz"
      }
    },
    {
      "cell_type": "code",
      "source": [
        "Narray = np.array([1, 2, 3, 4, 5])\n",
        "result = Narray > 2"
      ],
      "metadata": {
        "id": "wbUcJn9_j7LU"
      },
      "execution_count": 14,
      "outputs": []
    },
    {
      "cell_type": "code",
      "source": [
        "print(result)\n",
        "print(type(result))\n",
        "print(result.dtype)"
      ],
      "metadata": {
        "colab": {
          "base_uri": "https://localhost:8080/"
        },
        "id": "P6GsJPTQj7H7",
        "outputId": "e67b6df9-4e69-4dd6-b21a-8881a39a970a"
      },
      "execution_count": 15,
      "outputs": [
        {
          "output_type": "stream",
          "name": "stdout",
          "text": [
            "[False False  True  True  True]\n",
            "<class 'numpy.ndarray'>\n",
            "bool\n"
          ]
        }
      ]
    },
    {
      "cell_type": "markdown",
      "source": [
        "---"
      ],
      "metadata": {
        "id": "AEskfAjtjWu_"
      }
    },
    {
      "cell_type": "markdown",
      "source": [
        "### np.random.randint"
      ],
      "metadata": {
        "id": "YvGkuCWCWbNE"
      }
    },
    {
      "cell_type": "markdown",
      "source": [
        "#### Generating random integer array"
      ],
      "metadata": {
        "id": "3XXK90i2XKM7"
      }
    },
    {
      "cell_type": "code",
      "source": [
        " # Creating 1D array of 9 random integers between  0 (inclusive) and 50 (exclusive)\n",
        "intArray = np.random.randint(0,50,9)\n",
        "\n",
        "print(intArray)\n",
        "print(type(intArray))"
      ],
      "metadata": {
        "colab": {
          "base_uri": "https://localhost:8080/"
        },
        "id": "rOOrrBEwWfux",
        "outputId": "203b70c5-48be-495b-bab7-8a07773f6b7c"
      },
      "execution_count": 16,
      "outputs": [
        {
          "output_type": "stream",
          "name": "stdout",
          "text": [
            "[10 18  4  0 48 24  1 33  9]\n",
            "<class 'numpy.ndarray'>\n"
          ]
        }
      ]
    },
    {
      "cell_type": "code",
      "source": [
        " # Creating array of given shape between 0 and 50\n",
        "shapeArray = np.random.randint(1, 9, (3, 2, 6))\n",
        "shapeArray"
      ],
      "metadata": {
        "colab": {
          "base_uri": "https://localhost:8080/"
        },
        "id": "xhKlEpYwZhyQ",
        "outputId": "5ce32ec3-a931-456a-a512-304c54374d4a"
      },
      "execution_count": 17,
      "outputs": [
        {
          "output_type": "execute_result",
          "data": {
            "text/plain": [
              "array([[[5, 4, 8, 6, 4, 3],\n",
              "        [4, 2, 7, 8, 6, 5]],\n",
              "\n",
              "       [[6, 3, 7, 7, 2, 5],\n",
              "        [4, 3, 6, 8, 1, 7]],\n",
              "\n",
              "       [[1, 3, 4, 4, 3, 6],\n",
              "        [1, 7, 4, 7, 5, 2]]])"
            ]
          },
          "metadata": {},
          "execution_count": 17
        }
      ]
    },
    {
      "cell_type": "markdown",
      "source": [
        "---"
      ],
      "metadata": {
        "id": "IW3-EGTMZfAK"
      }
    },
    {
      "cell_type": "markdown",
      "source": [
        "### np.random.random"
      ],
      "metadata": {
        "id": "B6_FhoE4ilSM"
      }
    },
    {
      "cell_type": "markdown",
      "source": [
        "#### Generating random float array"
      ],
      "metadata": {
        "id": "xoBJvOEYXOIe"
      }
    },
    {
      "cell_type": "code",
      "source": [
        "floatArray = np.random.random(5)\n",
        "# Generating an array of 5 random floats between 0 and 1.\n",
        "print(floatArray)\n",
        "print(type(floatArray))"
      ],
      "metadata": {
        "colab": {
          "base_uri": "https://localhost:8080/"
        },
        "id": "p3cVtLcRXWh8",
        "outputId": "2e5c68f1-1ced-4304-b4e3-bab227135f00"
      },
      "execution_count": 18,
      "outputs": [
        {
          "output_type": "stream",
          "name": "stdout",
          "text": [
            "[0.18151647 0.21674823 0.22677751 0.25111554 0.24470029]\n",
            "<class 'numpy.ndarray'>\n"
          ]
        }
      ]
    },
    {
      "cell_type": "markdown",
      "source": [
        "---"
      ],
      "metadata": {
        "id": "eBOt9x9UZeFS"
      }
    },
    {
      "cell_type": "markdown",
      "source": [
        "### np.random.normal"
      ],
      "metadata": {
        "id": "xhy4OW4SipSk"
      }
    },
    {
      "cell_type": "markdown",
      "source": [
        "#### Generating array of numbers from normal distribution"
      ],
      "metadata": {
        "id": "Z7FxcXfoYoJ-"
      }
    },
    {
      "cell_type": "code",
      "source": [
        "NormalArray = np.random.normal(0, 10, 5)\n",
        "# Generating an array of 5 random numbers from normal distribution.\n",
        "\n",
        "NormalArray"
      ],
      "metadata": {
        "colab": {
          "base_uri": "https://localhost:8080/"
        },
        "id": "wnLPCZmdYnw_",
        "outputId": "055fa95d-25a5-42af-84cc-1ad9660f70c7"
      },
      "execution_count": 19,
      "outputs": [
        {
          "output_type": "execute_result",
          "data": {
            "text/plain": [
              "array([-4.33128128e+00,  1.69146892e+00, -7.71596620e+00,  4.35993511e-03,\n",
              "        1.02884737e+01])"
            ]
          },
          "metadata": {},
          "execution_count": 19
        }
      ]
    },
    {
      "cell_type": "markdown",
      "source": [
        "In the above code **np.random.normal**(**0**, **10**, 5):\n",
        "\n",
        "- 0 is the mean (center) of the distribution. In this case, the mean is 0.\n",
        "- 10 is the standard deviation, which determines the spread of the distribution"
      ],
      "metadata": {
        "id": "TQzMZXOYFxgK"
      }
    },
    {
      "cell_type": "markdown",
      "source": [
        "---"
      ],
      "metadata": {
        "id": "L4_orBs0ZdDU"
      }
    },
    {
      "cell_type": "markdown",
      "source": [
        "## Shape of Numpy Array"
      ],
      "metadata": {
        "id": "lu8NVIemkbXF"
      }
    },
    {
      "cell_type": "code",
      "source": [
        "NumpArray1 = np.array([[10,20,30],\n",
        "                    [50,60,70],\n",
        "                    [80,90,100],\n",
        "                    [11,22,33]])\n",
        "print('The shape of array is : ',NumpArray1.shape)"
      ],
      "metadata": {
        "colab": {
          "base_uri": "https://localhost:8080/"
        },
        "id": "JkTUNIiakbNt",
        "outputId": "e079a6d8-e150-45cd-b0fb-8af14a1b6f74"
      },
      "execution_count": 20,
      "outputs": [
        {
          "output_type": "stream",
          "name": "stdout",
          "text": [
            "The shape of array is :  (4, 3)\n"
          ]
        }
      ]
    },
    {
      "cell_type": "markdown",
      "source": [
        "---"
      ],
      "metadata": {
        "id": "eYxE56sol1Aj"
      }
    },
    {
      "cell_type": "markdown",
      "source": [
        "## Size of Numpy Array"
      ],
      "metadata": {
        "id": "s2RL5gaWl2Rj"
      }
    },
    {
      "cell_type": "code",
      "source": [
        "NumpArray2 = np.array([[10,20,30],\n",
        "                    [50,60,70],\n",
        "                    [80,90,100],\n",
        "                    [11,22,33]])\n",
        "print('The size of array is : ',NumpArray1.size)"
      ],
      "metadata": {
        "colab": {
          "base_uri": "https://localhost:8080/"
        },
        "id": "RAzXIF2gkbJj",
        "outputId": "79512a9f-b2b9-4e7a-f5a8-5db848f630b0"
      },
      "execution_count": 21,
      "outputs": [
        {
          "output_type": "stream",
          "name": "stdout",
          "text": [
            "The size of array is :  12\n"
          ]
        }
      ]
    },
    {
      "cell_type": "markdown",
      "source": [
        "---"
      ],
      "metadata": {
        "id": "k-btEPwtl_n8"
      }
    },
    {
      "cell_type": "markdown",
      "source": [
        "### Conversion of Numpy Array"
      ],
      "metadata": {
        "id": "rYkekrtumE2S"
      }
    },
    {
      "cell_type": "code",
      "source": [
        "NumpArray3 = np.arange(1, 12, 2)\n",
        "print(NumpArray3)\n",
        "print(type(NumpArray3))\n",
        "print(NumpArray3.shape)"
      ],
      "metadata": {
        "colab": {
          "base_uri": "https://localhost:8080/"
        },
        "id": "qsbZVFSnkbGs",
        "outputId": "98c71694-1092-4e03-caf2-9ce034edcc71"
      },
      "execution_count": 22,
      "outputs": [
        {
          "output_type": "stream",
          "name": "stdout",
          "text": [
            "[ 1  3  5  7  9 11]\n",
            "<class 'numpy.ndarray'>\n",
            "(6,)\n"
          ]
        }
      ]
    },
    {
      "cell_type": "markdown",
      "source": [
        "##### **np.arange(start,end,step size)** generates numpy array such that the array include 'start' but 'stop' is exclusive. Step size is the difference between consecutive numbers in the array"
      ],
      "metadata": {
        "id": "l-gvrjkCoQNf"
      }
    },
    {
      "cell_type": "code",
      "source": [
        "reshapedArr3_1 = NumpArray3.reshape(2, 3)\n",
        "print(reshapedArr3_1)\n",
        "print(reshapedArr3_1.shape)"
      ],
      "metadata": {
        "colab": {
          "base_uri": "https://localhost:8080/"
        },
        "id": "R3VjLA3WkbBf",
        "outputId": "f2a4673e-3c81-4043-8d2b-3d30da77258e"
      },
      "execution_count": 23,
      "outputs": [
        {
          "output_type": "stream",
          "name": "stdout",
          "text": [
            "[[ 1  3  5]\n",
            " [ 7  9 11]]\n",
            "(2, 3)\n"
          ]
        }
      ]
    },
    {
      "cell_type": "code",
      "source": [
        "reshapedArr3_2 = NumpArray3.reshape(3, 2)\n",
        "print(reshapedArr3_2)\n",
        "print(reshapedArr3_2.shape)"
      ],
      "metadata": {
        "colab": {
          "base_uri": "https://localhost:8080/"
        },
        "id": "-EuUB_wWka-X",
        "outputId": "629b14c7-dc72-41ef-fb22-a10814b15e89"
      },
      "execution_count": 24,
      "outputs": [
        {
          "output_type": "stream",
          "name": "stdout",
          "text": [
            "[[ 1  3]\n",
            " [ 5  7]\n",
            " [ 9 11]]\n",
            "(3, 2)\n"
          ]
        }
      ]
    },
    {
      "cell_type": "markdown",
      "source": [
        "---"
      ],
      "metadata": {
        "id": "jPa5oRg9kZ_e"
      }
    },
    {
      "cell_type": "markdown",
      "source": [
        "## Indexing in Numpy"
      ],
      "metadata": {
        "id": "q-KBl474pcny"
      }
    },
    {
      "cell_type": "code",
      "source": [
        "# Rank 2 numpy array\n",
        "nArray1 = np.array([[10,20,30],\n",
        "                    [50,60,70],\n",
        "                    [80,90,100]])"
      ],
      "metadata": {
        "id": "5pZCgWBLqihv"
      },
      "execution_count": 25,
      "outputs": []
    },
    {
      "cell_type": "code",
      "source": [
        "# Accessing 70\n",
        "nArray1[(1,2)]\n",
        "# (rowNumber, columnNumber)\n",
        "# Index starts from 0."
      ],
      "metadata": {
        "colab": {
          "base_uri": "https://localhost:8080/"
        },
        "id": "csIqac7JqxNR",
        "outputId": "3c188b1d-a822-4148-a003-9325651bb9a7"
      },
      "execution_count": 26,
      "outputs": [
        {
          "output_type": "execute_result",
          "data": {
            "text/plain": [
              "70"
            ]
          },
          "metadata": {},
          "execution_count": 26
        }
      ]
    },
    {
      "cell_type": "code",
      "source": [
        "# Rank 3 numpy array\n",
        "nArray2 = np.array([[[10,20],[30,40]],\n",
        "                      [[40,50],[60,70]],\n",
        "                       [[80,90],[100,110]]])"
      ],
      "metadata": {
        "id": "SKcKvUjRrY_f"
      },
      "execution_count": 27,
      "outputs": []
    },
    {
      "cell_type": "code",
      "source": [
        "# Accessing 100\n",
        "nArray2[(2,1,0)]"
      ],
      "metadata": {
        "colab": {
          "base_uri": "https://localhost:8080/"
        },
        "id": "1CxVG9SdrjA2",
        "outputId": "a8d02f8f-cc83-45dd-f9d2-cd9a97cf0ecc"
      },
      "execution_count": 28,
      "outputs": [
        {
          "output_type": "execute_result",
          "data": {
            "text/plain": [
              "100"
            ]
          },
          "metadata": {},
          "execution_count": 28
        }
      ]
    },
    {
      "cell_type": "markdown",
      "source": [
        "---"
      ],
      "metadata": {
        "id": "0qnzhg5nsvyD"
      }
    },
    {
      "cell_type": "markdown",
      "source": [
        "## Slicing in Numpy"
      ],
      "metadata": {
        "id": "blmNC9V_sxZK"
      }
    },
    {
      "cell_type": "code",
      "source": [
        "# Rank 2 numpy array\n",
        "nArray3 = np.array([[10,20,30],\n",
        "                    [50,60,70],\n",
        "                    [80,90,100]])"
      ],
      "metadata": {
        "id": "GjYqzpNFs5jC"
      },
      "execution_count": 29,
      "outputs": []
    },
    {
      "cell_type": "code",
      "source": [
        "# Accessing [10,30]\n",
        "          # [50,70]\n",
        "\n",
        "\n",
        "nArray3[:2 , ::2]\n",
        "# (rowNumber, columnNumber)\n",
        "# Index starts from 0."
      ],
      "metadata": {
        "colab": {
          "base_uri": "https://localhost:8080/"
        },
        "id": "SVedlQd8s5QS",
        "outputId": "c307f553-28a7-42b5-ad52-7e5169c7255c"
      },
      "execution_count": 30,
      "outputs": [
        {
          "output_type": "execute_result",
          "data": {
            "text/plain": [
              "array([[10, 30],\n",
              "       [50, 70]])"
            ]
          },
          "metadata": {},
          "execution_count": 30
        }
      ]
    },
    {
      "cell_type": "markdown",
      "source": [
        "In the above code **nArray3**[**:2** , **::2**]\n",
        "\n",
        "**:2** in the first position indicates that you're selecting rows up to, but not including, index 2 (from the start of the array).\n",
        "\n",
        "**::2** in the second position indicates that you're selecting columns with a step size of 2. This means you'll select every other element along the columns starting from the beginning."
      ],
      "metadata": {
        "id": "VVAOXoPtIhm-"
      }
    },
    {
      "cell_type": "code",
      "source": [
        "# Rank 2 numpy array\n",
        "nArray4 = np.array([[10,20,30],\n",
        "                    [50,60,70],\n",
        "                    [80,90,100],\n",
        "                    [11,22,33]])"
      ],
      "metadata": {
        "id": "t5EsIkEHwzwq"
      },
      "execution_count": 31,
      "outputs": []
    },
    {
      "cell_type": "code",
      "source": [
        "# Accessing [10,30]\n",
        "          # [11,33]\n",
        "\n",
        "nArray4[::3 , ::2]\n",
        "\n",
        "# 3 and 2 represents step size."
      ],
      "metadata": {
        "colab": {
          "base_uri": "https://localhost:8080/"
        },
        "id": "CcgIFOW3w0tW",
        "outputId": "bfb52106-25dc-4fba-b8e6-8a0571cca15a"
      },
      "execution_count": 32,
      "outputs": [
        {
          "output_type": "execute_result",
          "data": {
            "text/plain": [
              "array([[10, 30],\n",
              "       [11, 33]])"
            ]
          },
          "metadata": {},
          "execution_count": 32
        }
      ]
    },
    {
      "cell_type": "code",
      "source": [
        "# Rank 3 numpy array\n",
        "nArray5 = np.array([[[10,20],[30,40]],\n",
        "                      [[40,50],[60,70]],\n",
        "                       [[80,90],[100,110]]])"
      ],
      "metadata": {
        "id": "HygTPgZos5OL"
      },
      "execution_count": 33,
      "outputs": []
    },
    {
      "cell_type": "code",
      "source": [
        "# Accessing 100\n",
        "nArray5[(2,1,0)]"
      ],
      "metadata": {
        "colab": {
          "base_uri": "https://localhost:8080/"
        },
        "id": "6gHUoqEYs5Lk",
        "outputId": "dea21f7f-6d48-4e1a-c024-e953233f985e"
      },
      "execution_count": 34,
      "outputs": [
        {
          "output_type": "execute_result",
          "data": {
            "text/plain": [
              "100"
            ]
          },
          "metadata": {},
          "execution_count": 34
        }
      ]
    },
    {
      "cell_type": "code",
      "source": [
        "# Rank 2 numpy array\n",
        "nArray6 = np.array([[10,20,30,11,44,77],\n",
        "                    [50,60,70,22,55,88],\n",
        "                    [80,90,100,33,66,99],\n",
        "                    [1,2,3,4,5,6]])"
      ],
      "metadata": {
        "id": "S-T3AvVQtrwp"
      },
      "execution_count": 35,
      "outputs": []
    },
    {
      "cell_type": "code",
      "source": [
        "# Accessing [10,30,11,77]\n",
        "          # [50,70,22,88]\n",
        "          # [1,3,4,6]\n",
        "\n",
        "nArray6[[0, 1, 3]][:, [0, 2, 3, 5]]"
      ],
      "metadata": {
        "colab": {
          "base_uri": "https://localhost:8080/"
        },
        "id": "lVS_QLVItrtx",
        "outputId": "ed45d327-f702-4d93-941a-1b2acbade4d9"
      },
      "execution_count": 36,
      "outputs": [
        {
          "output_type": "execute_result",
          "data": {
            "text/plain": [
              "array([[10, 30, 11, 77],\n",
              "       [50, 70, 22, 88],\n",
              "       [ 1,  3,  4,  6]])"
            ]
          },
          "metadata": {},
          "execution_count": 36
        }
      ]
    },
    {
      "cell_type": "markdown",
      "source": [
        "---"
      ],
      "metadata": {
        "id": "H1NFWzRyzbQY"
      }
    },
    {
      "cell_type": "markdown",
      "source": [
        "## Data types in Numpy"
      ],
      "metadata": {
        "id": "JV45YbWCzrc7"
      }
    },
    {
      "cell_type": "code",
      "source": [
        "nArray7 = np.array([10, 20])\n",
        "print('The datatype of numpy array is : ')\n",
        "print(nArray7.dtype)"
      ],
      "metadata": {
        "colab": {
          "base_uri": "https://localhost:8080/"
        },
        "id": "dj3YVdTX0iZs",
        "outputId": "5eba2304-14e3-42f7-8f90-368f48ae6884"
      },
      "execution_count": 37,
      "outputs": [
        {
          "output_type": "stream",
          "name": "stdout",
          "text": [
            "The datatype of numpy array is : \n",
            "int64\n"
          ]
        }
      ]
    },
    {
      "cell_type": "code",
      "source": [
        "nArray7 = np.array([1.0, 2.0])\n",
        "print('The datatype of numpy array is : ')\n",
        "print(nArray7.dtype)"
      ],
      "metadata": {
        "colab": {
          "base_uri": "https://localhost:8080/"
        },
        "id": "LrKYIyz40sR9",
        "outputId": "357e5a2e-907c-40e1-83eb-8d6da2e07ebc"
      },
      "execution_count": 38,
      "outputs": [
        {
          "output_type": "stream",
          "name": "stdout",
          "text": [
            "The datatype of numpy array is : \n",
            "float64\n"
          ]
        }
      ]
    },
    {
      "cell_type": "code",
      "source": [
        "nArray8 = np.array([1, 2], dtype = np.float64)\n",
        "print(nArray8.dtype)"
      ],
      "metadata": {
        "colab": {
          "base_uri": "https://localhost:8080/"
        },
        "id": "irs9Wr7koBf6",
        "outputId": "45997cdf-8931-4c5b-fc63-48478caca025"
      },
      "execution_count": 39,
      "outputs": [
        {
          "output_type": "stream",
          "name": "stdout",
          "text": [
            "float64\n"
          ]
        }
      ]
    },
    {
      "cell_type": "code",
      "source": [
        "nArray8"
      ],
      "metadata": {
        "colab": {
          "base_uri": "https://localhost:8080/"
        },
        "id": "XHRijtu405KL",
        "outputId": "510da7ae-1871-4974-8e0b-7b38fad60148"
      },
      "execution_count": 40,
      "outputs": [
        {
          "output_type": "execute_result",
          "data": {
            "text/plain": [
              "array([1., 2.])"
            ]
          },
          "metadata": {},
          "execution_count": 40
        }
      ]
    },
    {
      "cell_type": "markdown",
      "source": [
        "**int64** and **float64** are specific data types provided by NumPy to represent integers and floating-point numbers respectively, but with a **specific size** (in this case, **64 bits** or **8 bytes**)."
      ],
      "metadata": {
        "id": "x5iYMwfAKBRR"
      }
    },
    {
      "cell_type": "markdown",
      "source": [
        "In **Python**, **int** and **float** can **vary in size** based on the platform and are typically of fixed precision.\n",
        "**NumPy's** **int64** and **float64** provide specific precision.\n"
      ],
      "metadata": {
        "id": "QfFy0deSKJyU"
      }
    },
    {
      "cell_type": "markdown",
      "source": [
        "---"
      ],
      "metadata": {
        "id": "XkzFbV9I1MVP"
      }
    },
    {
      "cell_type": "markdown",
      "source": [
        "## Searching in Numpy"
      ],
      "metadata": {
        "id": "N9awNSGvMone"
      }
    },
    {
      "cell_type": "markdown",
      "source": [
        "### np.where"
      ],
      "metadata": {
        "id": "D2QBKIkRUPpJ"
      }
    },
    {
      "cell_type": "code",
      "source": [
        "nArray9 = np.array([10,20,30,40,50,60])"
      ],
      "metadata": {
        "id": "n2EcSrDTN4F2"
      },
      "execution_count": 41,
      "outputs": []
    },
    {
      "cell_type": "code",
      "source": [
        "index9 = np.where(nArray9 == 40)\n",
        "index9"
      ],
      "metadata": {
        "colab": {
          "base_uri": "https://localhost:8080/"
        },
        "id": "mkKiHzJrN-t2",
        "outputId": "cb503f35-5151-4086-bb26-a69a62a4b9da"
      },
      "execution_count": 42,
      "outputs": [
        {
          "output_type": "execute_result",
          "data": {
            "text/plain": [
              "(array([3]),)"
            ]
          },
          "metadata": {},
          "execution_count": 42
        }
      ]
    },
    {
      "cell_type": "markdown",
      "source": [
        "This is a **tuple with one element**. That single element is a **NumPy array**."
      ],
      "metadata": {
        "id": "8A2j1E3QPSHT"
      }
    },
    {
      "cell_type": "markdown",
      "source": [
        "Inside the tuple, there's a NumPy array with one element, which is 3."
      ],
      "metadata": {
        "id": "ZumGOzUZPoHf"
      }
    },
    {
      "cell_type": "code",
      "source": [
        "index9[0]"
      ],
      "metadata": {
        "colab": {
          "base_uri": "https://localhost:8080/"
        },
        "id": "ChR7wm3ARZsS",
        "outputId": "7d972a8f-0a03-425b-c35b-4b1615de9e77"
      },
      "execution_count": 43,
      "outputs": [
        {
          "output_type": "execute_result",
          "data": {
            "text/plain": [
              "array([3])"
            ]
          },
          "metadata": {},
          "execution_count": 43
        }
      ]
    },
    {
      "cell_type": "code",
      "source": [
        "index9[0].dtype"
      ],
      "metadata": {
        "colab": {
          "base_uri": "https://localhost:8080/"
        },
        "id": "pKvk6Z29OQI3",
        "outputId": "28d18d01-55f3-4cd7-caf4-38d8ed317c96"
      },
      "execution_count": 44,
      "outputs": [
        {
          "output_type": "execute_result",
          "data": {
            "text/plain": [
              "dtype('int64')"
            ]
          },
          "metadata": {},
          "execution_count": 44
        }
      ]
    },
    {
      "cell_type": "markdown",
      "source": [
        "---"
      ],
      "metadata": {
        "id": "i1eqKLotP8X_"
      }
    },
    {
      "cell_type": "code",
      "source": [
        "nArray10 = np.array([[10,20,30,11,44,77],\n",
        "                    [50,60,70,22,55,88],\n",
        "                    [80,90,100,33,66,99],\n",
        "                    [1,2,3,4,5,6]])"
      ],
      "metadata": {
        "id": "MQYCOmBmM1pq"
      },
      "execution_count": 45,
      "outputs": []
    },
    {
      "cell_type": "code",
      "source": [
        "index10 = np.where(nArray10 == 33)\n",
        "index10"
      ],
      "metadata": {
        "colab": {
          "base_uri": "https://localhost:8080/"
        },
        "id": "FNntjXn-07b3",
        "outputId": "fc5e912c-b565-400e-ce39-266d361a9107"
      },
      "execution_count": 46,
      "outputs": [
        {
          "output_type": "execute_result",
          "data": {
            "text/plain": [
              "(array([2]), array([3]))"
            ]
          },
          "metadata": {},
          "execution_count": 46
        }
      ]
    },
    {
      "cell_type": "markdown",
      "source": [
        "####np.where returns a tuple of arrays (which are **instances of ndarray**). These arrays are NumPy arrays (**ndarray objects**) that contain the indices where the specified condition is met in the input array."
      ],
      "metadata": {
        "id": "nxd1YLKlTEMC"
      }
    },
    {
      "cell_type": "markdown",
      "source": [
        "---"
      ],
      "metadata": {
        "id": "eQM8xReOP9i-"
      }
    },
    {
      "cell_type": "code",
      "source": [
        "nArray11 = np.array([[10,20,33,11,44,77],\n",
        "                    [50,60,70,22,55,88],\n",
        "                    [80,90,100,33,66,99],\n",
        "                    [1,2,3,4,5,6]])"
      ],
      "metadata": {
        "id": "omsf0ie8QKZ9"
      },
      "execution_count": 47,
      "outputs": []
    },
    {
      "cell_type": "code",
      "source": [
        "index11 = np.where(nArray11 == 33)\n",
        "index11"
      ],
      "metadata": {
        "colab": {
          "base_uri": "https://localhost:8080/"
        },
        "id": "cDVqrs-jNSYW",
        "outputId": "b3d7d75f-da66-4e0e-dcf3-84e2e8b872c8"
      },
      "execution_count": 48,
      "outputs": [
        {
          "output_type": "execute_result",
          "data": {
            "text/plain": [
              "(array([0, 2]), array([2, 3]))"
            ]
          },
          "metadata": {},
          "execution_count": 48
        }
      ]
    },
    {
      "cell_type": "markdown",
      "source": [
        "Variable **index11** is an iterable with the index of our searched value as the first element."
      ],
      "metadata": {
        "id": "NTmlUTYTNwnF"
      }
    },
    {
      "cell_type": "code",
      "source": [
        "for numbers in index11[0] :\n",
        "    print(numbers)"
      ],
      "metadata": {
        "colab": {
          "base_uri": "https://localhost:8080/"
        },
        "id": "sl1yyBtYRfcu",
        "outputId": "09c901f8-4876-479a-8fb3-91eceff4eac4"
      },
      "execution_count": 49,
      "outputs": [
        {
          "output_type": "stream",
          "name": "stdout",
          "text": [
            "0\n",
            "2\n"
          ]
        }
      ]
    },
    {
      "cell_type": "code",
      "source": [
        "index11[1].dtype"
      ],
      "metadata": {
        "colab": {
          "base_uri": "https://localhost:8080/"
        },
        "id": "1C39WjipRCPp",
        "outputId": "e05a81cb-1f65-4f37-ecca-0ac73cd82d8b"
      },
      "execution_count": 50,
      "outputs": [
        {
          "output_type": "execute_result",
          "data": {
            "text/plain": [
              "dtype('int64')"
            ]
          },
          "metadata": {},
          "execution_count": 50
        }
      ]
    },
    {
      "cell_type": "markdown",
      "source": [
        "##### The exact shape and number of arrays in the tuple returned by **np.where** depends on the dimensionality and the number of conditions applied to the input array."
      ],
      "metadata": {
        "id": "6albS199QwhA"
      }
    },
    {
      "cell_type": "markdown",
      "source": [
        "---"
      ],
      "metadata": {
        "id": "QTNomfpjQ_20"
      }
    },
    {
      "cell_type": "markdown",
      "source": [
        "## Statistical operations"
      ],
      "metadata": {
        "id": "AWPgkhCeUUKm"
      }
    },
    {
      "cell_type": "markdown",
      "source": [
        " ### Calculating Mean, Median, and Standard Deviation"
      ],
      "metadata": {
        "id": "PoEh9m9kbqwV"
      }
    },
    {
      "cell_type": "markdown",
      "source": [
        "#### Mean"
      ],
      "metadata": {
        "id": "Bc3V8haVcMxy"
      }
    },
    {
      "cell_type": "code",
      "source": [
        "array1 = np.random.randint(0, 10, 5)\n",
        "array1"
      ],
      "metadata": {
        "colab": {
          "base_uri": "https://localhost:8080/"
        },
        "id": "Ml2v1yQ_cPLr",
        "outputId": "da72371f-ff7d-4308-9469-aa7b2d6121e5"
      },
      "execution_count": 51,
      "outputs": [
        {
          "output_type": "execute_result",
          "data": {
            "text/plain": [
              "array([7, 2, 4, 1, 6])"
            ]
          },
          "metadata": {},
          "execution_count": 51
        }
      ]
    },
    {
      "cell_type": "code",
      "source": [
        "meanValue1 = np.mean(array1)\n",
        "print('The mean of array is : ', meanValue1)"
      ],
      "metadata": {
        "colab": {
          "base_uri": "https://localhost:8080/"
        },
        "id": "zmCWePdJccjW",
        "outputId": "1fcabe29-aeac-4ee7-f0de-a7bf12b7d322"
      },
      "execution_count": 52,
      "outputs": [
        {
          "output_type": "stream",
          "name": "stdout",
          "text": [
            "The mean of array is :  4.0\n"
          ]
        }
      ]
    },
    {
      "cell_type": "markdown",
      "source": [
        "---"
      ],
      "metadata": {
        "id": "YQKB9TM4dcC2"
      }
    },
    {
      "cell_type": "code",
      "source": [
        "np.random.seed(11)\n",
        "array2 = np.random.randint(0, 10, 5)\n",
        "array2"
      ],
      "metadata": {
        "colab": {
          "base_uri": "https://localhost:8080/"
        },
        "id": "s_94UsPKddPh",
        "outputId": "a857c039-d918-418d-8909-49de6d649830"
      },
      "execution_count": 53,
      "outputs": [
        {
          "output_type": "execute_result",
          "data": {
            "text/plain": [
              "array([9, 0, 1, 7, 1])"
            ]
          },
          "metadata": {},
          "execution_count": 53
        }
      ]
    },
    {
      "cell_type": "code",
      "source": [
        "meanValue2 = np.mean(array2)\n",
        "print('The mean of array is : ', meanValue2)"
      ],
      "metadata": {
        "colab": {
          "base_uri": "https://localhost:8080/"
        },
        "id": "MyzsB2pjddHt",
        "outputId": "857d9734-6e1c-4766-90fd-629994f67cd1"
      },
      "execution_count": 54,
      "outputs": [
        {
          "output_type": "stream",
          "name": "stdout",
          "text": [
            "The mean of array is :  3.6\n"
          ]
        }
      ]
    },
    {
      "cell_type": "markdown",
      "source": [
        "##### np.random.seed() is used to set the seed for the NumPy random number generator. It initializes the random number generator, allowing you to **produce reproducible results**. **When you set the seed to a specific value, the sequence of random numbers generated will be the same every time you run your code**.\n",
        "\n"
      ],
      "metadata": {
        "id": "1pZj5FwZe2tf"
      }
    },
    {
      "cell_type": "code",
      "source": [
        "np.random.seed(11)\n",
        "array2_1 = np.random.randint(0, 10, 5)\n",
        "array2_1"
      ],
      "metadata": {
        "colab": {
          "base_uri": "https://localhost:8080/"
        },
        "id": "X-9uWsRUeqdL",
        "outputId": "1a27f6c1-7d90-4db1-dca5-79d5e064cb3c"
      },
      "execution_count": 55,
      "outputs": [
        {
          "output_type": "execute_result",
          "data": {
            "text/plain": [
              "array([9, 0, 1, 7, 1])"
            ]
          },
          "metadata": {},
          "execution_count": 55
        }
      ]
    },
    {
      "cell_type": "markdown",
      "source": [
        "---"
      ],
      "metadata": {
        "id": "oUusX85hdG3_"
      }
    },
    {
      "cell_type": "code",
      "source": [
        "array3 = np.random.randint(0, 10, (2,2))\n",
        "array3"
      ],
      "metadata": {
        "colab": {
          "base_uri": "https://localhost:8080/"
        },
        "id": "6hvQCDhyc2J1",
        "outputId": "9d54f5f7-9e66-4cfe-c7aa-2f334df1611a"
      },
      "execution_count": 56,
      "outputs": [
        {
          "output_type": "execute_result",
          "data": {
            "text/plain": [
              "array([[7, 2],\n",
              "       [8, 0]])"
            ]
          },
          "metadata": {},
          "execution_count": 56
        }
      ]
    },
    {
      "cell_type": "code",
      "source": [
        "meanValue3 = np.mean(array3)\n",
        "print('The mean of array is : ', meanValue3)"
      ],
      "metadata": {
        "colab": {
          "base_uri": "https://localhost:8080/"
        },
        "id": "RqHPd7GzdOvd",
        "outputId": "f2c85c1d-5c6b-4a7d-b991-5a496a8673fe"
      },
      "execution_count": 57,
      "outputs": [
        {
          "output_type": "stream",
          "name": "stdout",
          "text": [
            "The mean of array is :  4.25\n"
          ]
        }
      ]
    },
    {
      "cell_type": "markdown",
      "source": [
        "#### Median"
      ],
      "metadata": {
        "id": "mcTKQA25ficR"
      }
    },
    {
      "cell_type": "code",
      "source": [
        "array4 = np.random.randint(0, 10,5)\n",
        "array4"
      ],
      "metadata": {
        "colab": {
          "base_uri": "https://localhost:8080/"
        },
        "id": "jqHH2ZSNgBRm",
        "outputId": "13259835-ce41-477a-9e94-7ebf6c68719e"
      },
      "execution_count": 58,
      "outputs": [
        {
          "output_type": "execute_result",
          "data": {
            "text/plain": [
              "array([0, 4, 2, 1, 5])"
            ]
          },
          "metadata": {},
          "execution_count": 58
        }
      ]
    },
    {
      "cell_type": "code",
      "source": [
        "medianValue4 = np.median(array4)\n",
        "print('The median of array is : ', medianValue4)"
      ],
      "metadata": {
        "colab": {
          "base_uri": "https://localhost:8080/"
        },
        "id": "U6mXRuP5gBNt",
        "outputId": "9c2a5818-7d6f-4d15-bc67-e9e9d1ed7c37"
      },
      "execution_count": 59,
      "outputs": [
        {
          "output_type": "stream",
          "name": "stdout",
          "text": [
            "The median of array is :  2.0\n"
          ]
        }
      ]
    },
    {
      "cell_type": "markdown",
      "source": [
        "---"
      ],
      "metadata": {
        "id": "oTdOO37qgANG"
      }
    },
    {
      "cell_type": "code",
      "source": [
        "array5 = np.random.randint(0, 10, (2,2))\n",
        "array5"
      ],
      "metadata": {
        "colab": {
          "base_uri": "https://localhost:8080/"
        },
        "id": "sTHjyBrcfuDN",
        "outputId": "9cba2f50-775d-4432-ce8f-554a35c80ce7"
      },
      "execution_count": 60,
      "outputs": [
        {
          "output_type": "execute_result",
          "data": {
            "text/plain": [
              "array([[5, 7],\n",
              "       [4, 1]])"
            ]
          },
          "metadata": {},
          "execution_count": 60
        }
      ]
    },
    {
      "cell_type": "code",
      "source": [
        "medianValue5 = np.median(array5)\n",
        "print('The median of array is : ', medianValue5)"
      ],
      "metadata": {
        "colab": {
          "base_uri": "https://localhost:8080/"
        },
        "id": "FpHM3PAmfuAF",
        "outputId": "fe28b4f1-3464-402f-ae39-5ed5c54102f4"
      },
      "execution_count": 61,
      "outputs": [
        {
          "output_type": "stream",
          "name": "stdout",
          "text": [
            "The median of array is :  4.5\n"
          ]
        }
      ]
    },
    {
      "cell_type": "markdown",
      "source": [
        "---"
      ],
      "metadata": {
        "id": "NjYX3uqVdH__"
      }
    },
    {
      "cell_type": "markdown",
      "source": [
        "#### Standard deviation"
      ],
      "metadata": {
        "id": "tQvzTEejgOBd"
      }
    },
    {
      "cell_type": "code",
      "source": [
        "array6 = np.random.randint(0, 10,5)\n",
        "array6"
      ],
      "metadata": {
        "colab": {
          "base_uri": "https://localhost:8080/"
        },
        "id": "K7P0Y924gQwK",
        "outputId": "fce3cc7b-7c58-48e7-f5eb-7df99bd46cc5"
      },
      "execution_count": 62,
      "outputs": [
        {
          "output_type": "execute_result",
          "data": {
            "text/plain": [
              "array([8, 8, 1, 3, 6])"
            ]
          },
          "metadata": {},
          "execution_count": 62
        }
      ]
    },
    {
      "cell_type": "code",
      "source": [
        "sdValue6 = np.std(array6)\n",
        "print('The standard deviation of array is : ', sdValue6)"
      ],
      "metadata": {
        "colab": {
          "base_uri": "https://localhost:8080/"
        },
        "id": "rxImeC6lgQtD",
        "outputId": "dd08b7b8-923a-4fcd-f9c1-1995f5138564"
      },
      "execution_count": 63,
      "outputs": [
        {
          "output_type": "stream",
          "name": "stdout",
          "text": [
            "The standard deviation of array is :  2.785677655436824\n"
          ]
        }
      ]
    },
    {
      "cell_type": "markdown",
      "source": [
        "---"
      ],
      "metadata": {
        "id": "NW_87yT9gjpf"
      }
    },
    {
      "cell_type": "markdown",
      "source": [
        "### Finding Min, Max, and Sum"
      ],
      "metadata": {
        "id": "zUAfOuSfbtp-"
      }
    },
    {
      "cell_type": "code",
      "source": [
        "array7 = np.array([5, 10, 15, 20, 25, -10])\n",
        "array7"
      ],
      "metadata": {
        "colab": {
          "base_uri": "https://localhost:8080/"
        },
        "id": "ijIjgSHMgsS_",
        "outputId": "eae0bb81-585d-4db2-fb8b-2afdf2326c26"
      },
      "execution_count": 64,
      "outputs": [
        {
          "output_type": "execute_result",
          "data": {
            "text/plain": [
              "array([  5,  10,  15,  20,  25, -10])"
            ]
          },
          "metadata": {},
          "execution_count": 64
        }
      ]
    },
    {
      "cell_type": "code",
      "source": [
        "minValue = np.min(array7)\n",
        "maxValue = np.max(array7)\n",
        "totalSum = np.sum(array7)"
      ],
      "metadata": {
        "id": "6TjMr1QZhO9_"
      },
      "execution_count": 65,
      "outputs": []
    },
    {
      "cell_type": "code",
      "source": [
        "print('The minimum value is : ', minValue)\n",
        "print('The maximum value is : ', maxValue)\n",
        "print('The total sum is : ', totalSum)"
      ],
      "metadata": {
        "colab": {
          "base_uri": "https://localhost:8080/"
        },
        "id": "49poSGvQbShI",
        "outputId": "c5a8b835-51c8-48d4-c88c-3410d3f02bd8"
      },
      "execution_count": 66,
      "outputs": [
        {
          "output_type": "stream",
          "name": "stdout",
          "text": [
            "The minimum value is :  -10\n",
            "The maximum value is :  25\n",
            "The total sum is :  65\n"
          ]
        }
      ]
    },
    {
      "cell_type": "markdown",
      "source": [
        "---"
      ],
      "metadata": {
        "id": "jVzcvpn6hrpT"
      }
    },
    {
      "cell_type": "markdown",
      "source": [
        "## Sorting Numpy Array"
      ],
      "metadata": {
        "id": "PZDKrEyJqu_a"
      }
    },
    {
      "cell_type": "code",
      "source": [
        "array8 = np.array([3, 1, 6, 5, 4])\n",
        "sortedArray8 = np.sort(array8)"
      ],
      "metadata": {
        "id": "C9Hq-QWZhr3t"
      },
      "execution_count": 67,
      "outputs": []
    },
    {
      "cell_type": "code",
      "source": [
        "print('The unsorted array is : ')\n",
        "print(array8)\n",
        "print('The sorted array is : ')\n",
        "print(sortedArray8)"
      ],
      "metadata": {
        "colab": {
          "base_uri": "https://localhost:8080/"
        },
        "id": "gArqGix0rj6S",
        "outputId": "2cfe7f95-3493-42d7-9deb-982baa4fcb29"
      },
      "execution_count": 68,
      "outputs": [
        {
          "output_type": "stream",
          "name": "stdout",
          "text": [
            "The unsorted array is : \n",
            "[3 1 6 5 4]\n",
            "The sorted array is : \n",
            "[1 3 4 5 6]\n"
          ]
        }
      ]
    },
    {
      "cell_type": "code",
      "source": [
        "# Sorting in descending order\n",
        "DecSortedArray8 = np.sort(array8)[::-1]"
      ],
      "metadata": {
        "id": "6LlI5CPXqG-I"
      },
      "execution_count": 69,
      "outputs": []
    },
    {
      "cell_type": "markdown",
      "source": [
        "**[::-1]**: It a slice notation used to reverse the sorted array obtained from **np.sort(array8)**"
      ],
      "metadata": {
        "id": "Rjb69rb9sUW8"
      }
    },
    {
      "cell_type": "markdown",
      "source": [
        "**The step value, indicating how many elements to move forward for each step. When set to -1, it reverses the sequence.**\n"
      ],
      "metadata": {
        "id": "FqRPqBbXtbil"
      }
    },
    {
      "cell_type": "code",
      "source": [
        "print('The sorted array in descending order is : ')\n",
        "DecSortedArray8"
      ],
      "metadata": {
        "colab": {
          "base_uri": "https://localhost:8080/"
        },
        "id": "YTNCkc94r6vv",
        "outputId": "e979c394-9fde-4edd-cc13-e3f87b874389"
      },
      "execution_count": 70,
      "outputs": [
        {
          "output_type": "stream",
          "name": "stdout",
          "text": [
            "The sorted array in descending order is : \n"
          ]
        },
        {
          "output_type": "execute_result",
          "data": {
            "text/plain": [
              "array([6, 5, 4, 3, 1])"
            ]
          },
          "metadata": {},
          "execution_count": 70
        }
      ]
    },
    {
      "cell_type": "markdown",
      "source": [
        "---"
      ],
      "metadata": {
        "id": "TcwkGQHIvNLE"
      }
    },
    {
      "cell_type": "markdown",
      "source": [
        "## Deleting elements from Numpy Array"
      ],
      "metadata": {
        "id": "NuzD9Uuaq_od"
      }
    },
    {
      "cell_type": "code",
      "source": [
        "array9 = np.array([1, 2, 3, 4, 5])\n",
        "array9"
      ],
      "metadata": {
        "colab": {
          "base_uri": "https://localhost:8080/"
        },
        "id": "iqzKaKpGuyIr",
        "outputId": "9d528ece-02c9-4d0a-f54c-da972318e307"
      },
      "execution_count": 71,
      "outputs": [
        {
          "output_type": "execute_result",
          "data": {
            "text/plain": [
              "array([1, 2, 3, 4, 5])"
            ]
          },
          "metadata": {},
          "execution_count": 71
        }
      ]
    },
    {
      "cell_type": "code",
      "source": [
        "newArray9 = np.delete(array9, 2)   # 2 is an index\n",
        "newArray9"
      ],
      "metadata": {
        "colab": {
          "base_uri": "https://localhost:8080/"
        },
        "id": "vIgt-TXgux_j",
        "outputId": "d32c7f41-e8c1-4c3f-9358-b20485959d78"
      },
      "execution_count": 72,
      "outputs": [
        {
          "output_type": "execute_result",
          "data": {
            "text/plain": [
              "array([1, 2, 4, 5])"
            ]
          },
          "metadata": {},
          "execution_count": 72
        }
      ]
    },
    {
      "cell_type": "markdown",
      "source": [
        "---"
      ],
      "metadata": {
        "id": "5Md2DRn2vMbI"
      }
    },
    {
      "cell_type": "code",
      "source": [
        "array10 = np.array([[1, 2, 3, 4, 5],\n",
        "                  [10,20,30,40,50],\n",
        "                  [11,22,33,44,55]])\n",
        "array10"
      ],
      "metadata": {
        "colab": {
          "base_uri": "https://localhost:8080/"
        },
        "id": "c-01tQrSqG5K",
        "outputId": "68240cdf-faf9-4083-8836-675adb8a94a2"
      },
      "execution_count": 73,
      "outputs": [
        {
          "output_type": "execute_result",
          "data": {
            "text/plain": [
              "array([[ 1,  2,  3,  4,  5],\n",
              "       [10, 20, 30, 40, 50],\n",
              "       [11, 22, 33, 44, 55]])"
            ]
          },
          "metadata": {},
          "execution_count": 73
        }
      ]
    },
    {
      "cell_type": "code",
      "source": [
        "array10.shape"
      ],
      "metadata": {
        "colab": {
          "base_uri": "https://localhost:8080/"
        },
        "id": "6adCaqFhu9yy",
        "outputId": "798c4dec-a2ef-444d-9711-7ddb4b887884"
      },
      "execution_count": 74,
      "outputs": [
        {
          "output_type": "execute_result",
          "data": {
            "text/plain": [
              "(3, 5)"
            ]
          },
          "metadata": {},
          "execution_count": 74
        }
      ]
    },
    {
      "cell_type": "code",
      "source": [
        "newArray10 = np.delete(array10, 1,axis = 1)\n",
        "newArray10"
      ],
      "metadata": {
        "colab": {
          "base_uri": "https://localhost:8080/"
        },
        "id": "KIHjLQTGt969",
        "outputId": "b214497b-7be1-4851-d514-dc92c1e739da"
      },
      "execution_count": 75,
      "outputs": [
        {
          "output_type": "execute_result",
          "data": {
            "text/plain": [
              "array([[ 1,  3,  4,  5],\n",
              "       [10, 30, 40, 50],\n",
              "       [11, 33, 44, 55]])"
            ]
          },
          "metadata": {},
          "execution_count": 75
        }
      ]
    },
    {
      "cell_type": "markdown",
      "source": [
        "##### **np.delete**(array10, **1**,**axis = 1**) is used for deleting elements **at index 1**  along **axis 1 (columns).**"
      ],
      "metadata": {
        "id": "cjASNwjNxpXH"
      }
    },
    {
      "cell_type": "code",
      "source": [
        "newArray11 = np.delete(array10, 1,axis = 0)\n",
        "newArray11"
      ],
      "metadata": {
        "colab": {
          "base_uri": "https://localhost:8080/"
        },
        "id": "2mOgIebELthq",
        "outputId": "5f27ce07-9837-4571-cf62-31ca2e733667"
      },
      "execution_count": 76,
      "outputs": [
        {
          "output_type": "execute_result",
          "data": {
            "text/plain": [
              "array([[ 1,  2,  3,  4,  5],\n",
              "       [11, 22, 33, 44, 55]])"
            ]
          },
          "metadata": {},
          "execution_count": 76
        }
      ]
    },
    {
      "cell_type": "markdown",
      "source": [
        "---"
      ],
      "metadata": {
        "id": "u-fJBn4EL0-_"
      }
    }
  ]
}