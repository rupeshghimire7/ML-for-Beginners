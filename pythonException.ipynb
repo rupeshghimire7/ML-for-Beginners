{
  "nbformat": 4,
  "nbformat_minor": 0,
  "metadata": {
    "colab": {
      "provenance": []
    },
    "kernelspec": {
      "name": "python3",
      "display_name": "Python 3"
    },
    "language_info": {
      "name": "python"
    }
  },
  "cells": [
    {
      "cell_type": "markdown",
      "source": [
        "# Exception handling"
      ],
      "metadata": {
        "id": "zZnIgGtirHh7"
      }
    },
    {
      "cell_type": "markdown",
      "source": [
        "##### Exceptions are raised when a program is syntactically correct, but the code results in an error.\n"
      ],
      "metadata": {
        "id": "M4MQmWVMrLJJ"
      }
    },
    {
      "cell_type": "markdown",
      "source": [
        "##### Exception is the base class for all the exceptions in Python.\n"
      ],
      "metadata": {
        "id": "s-hwWauRrOnA"
      }
    },
    {
      "cell_type": "markdown",
      "source": [
        "### Handling TypeError\n"
      ],
      "metadata": {
        "id": "iGUVmS8HrWR3"
      }
    },
    {
      "cell_type": "markdown",
      "source": [
        "##### TypeError :This exception is raised when an operation is applied to an object of the wrong type.\n"
      ],
      "metadata": {
        "id": "U1EMfvZnrXqa"
      }
    },
    {
      "cell_type": "code",
      "source": [
        "var1 = 30\n",
        "var2 = 'Sadhaharu'"
      ],
      "metadata": {
        "id": "p1bQsjU_rg13"
      },
      "execution_count": 1,
      "outputs": []
    },
    {
      "cell_type": "code",
      "source": [
        "try :\n",
        "    sum = var1 + var2\n",
        "    print(f'The sum of {var1} and {var2} is {sum}')\n",
        "    # Instead of using print statement inside try block we can use else statement as used in the following code cell.\n",
        "\n",
        "except TypeError:\n",
        "    # except: only can be used for catching an exception.\n",
        "    print('Type error has occured.')\n",
        "\n",
        "print('TypeError checking is completed.')\n",
        "# Instead of using print statement here we can put the code that are always executed in finally block as used in following code cell."
      ],
      "metadata": {
        "colab": {
          "base_uri": "https://localhost:8080/"
        },
        "id": "GE79EYX8rf8d",
        "outputId": "e8176dc2-7cf8-4949-9eea-153eb3481e05"
      },
      "execution_count": 2,
      "outputs": [
        {
          "output_type": "stream",
          "name": "stdout",
          "text": [
            "Type error has occured.\n",
            "TypeError checking is completed.\n"
          ]
        }
      ]
    },
    {
      "cell_type": "code",
      "source": [
        "try :\n",
        "    sum = var1 + var2\n",
        "\n",
        "except TypeError :\n",
        "    print('Type error has occured.')\n",
        "\n",
        "else :\n",
        "    print(f'The sum of {var1} and {var2} is {sum}')\n",
        "\n",
        "print('TypeError checking is completed.')"
      ],
      "metadata": {
        "colab": {
          "base_uri": "https://localhost:8080/"
        },
        "id": "Ao6mZD89uz5R",
        "outputId": "81baf0f8-f7df-47e3-f9b0-d1900c6a9247"
      },
      "execution_count": 3,
      "outputs": [
        {
          "output_type": "stream",
          "name": "stdout",
          "text": [
            "Type error has occured.\n",
            "TypeError checking is completed.\n"
          ]
        }
      ]
    },
    {
      "cell_type": "code",
      "source": [
        "try :\n",
        "    sum = var1 + var2\n",
        "\n",
        "except TypeError :\n",
        "    print('Type error has occured.')\n",
        "\n",
        "finally:\n",
        "    print('Error has been checked.\\n')"
      ],
      "metadata": {
        "colab": {
          "base_uri": "https://localhost:8080/"
        },
        "id": "VDPdEbqcut3k",
        "outputId": "2d3b7157-3938-4cf0-b02a-3f44c191d51a"
      },
      "execution_count": 4,
      "outputs": [
        {
          "output_type": "stream",
          "name": "stdout",
          "text": [
            "Type error has occured.\n",
            "Error has been checked.\n",
            "\n"
          ]
        }
      ]
    },
    {
      "cell_type": "code",
      "source": [
        "try :\n",
        "    sum = var1 + var2\n",
        "\n",
        "except TypeError :\n",
        "    print('Type error has occured.')\n",
        "\n",
        "else :\n",
        "    print(f'The sum of {var1} and {var2} is {sum}')\n",
        "\n",
        "finally:\n",
        "    print('Error has been checked.\\n')"
      ],
      "metadata": {
        "colab": {
          "base_uri": "https://localhost:8080/"
        },
        "id": "GsCYjVjuuRU3",
        "outputId": "a87b4500-0d99-4060-9b67-48dccab6fefb"
      },
      "execution_count": 5,
      "outputs": [
        {
          "output_type": "stream",
          "name": "stdout",
          "text": [
            "Type error has occured.\n",
            "Error has been checked.\n",
            "\n"
          ]
        }
      ]
    },
    {
      "cell_type": "markdown",
      "source": [
        "### Multiple exceptions\n"
      ],
      "metadata": {
        "id": "Q6EPHyVPslwt"
      }
    },
    {
      "cell_type": "code",
      "source": [
        "def divide(num1, num2):\n",
        "    div = num1 / num2\n",
        "    print(f'The value of division of {num1} and {num2} is {div}.')"
      ],
      "metadata": {
        "id": "psRSLskysoMB"
      },
      "execution_count": 6,
      "outputs": []
    },
    {
      "cell_type": "code",
      "source": [
        "try :\n",
        "    divide(15, 5)\n",
        "#    divide(10,0)\n",
        "#    divide(10,2,1)\n",
        "#    divid(2,3)\n",
        "\n",
        "except ZeroDivisionError:\n",
        "    print('Division cannot be executed due to ZeroDivisionError.')\n",
        "\n",
        "except TypeError:\n",
        "    print('Division cannot be executed due to TypeError.')\n",
        "\n",
        "except NameError:\n",
        "    print('Division cannot be executed due to NameError.')\n",
        "\n",
        "print('The error check has been completed.')"
      ],
      "metadata": {
        "colab": {
          "base_uri": "https://localhost:8080/"
        },
        "id": "dMu0Zwvdsqck",
        "outputId": "26a0f9cf-588d-4825-db18-a17ff2e679d6"
      },
      "execution_count": 7,
      "outputs": [
        {
          "output_type": "stream",
          "name": "stdout",
          "text": [
            "The value of division of 15 and 5 is 3.0.\n",
            "The error check has been completed.\n"
          ]
        }
      ]
    },
    {
      "cell_type": "markdown",
      "source": [
        "### Raising exception\n"
      ],
      "metadata": {
        "id": "IqnBivFRs6gY"
      }
    },
    {
      "cell_type": "markdown",
      "source": [
        "##### The raise statement allows us to force a specific exception to occur.\n"
      ],
      "metadata": {
        "id": "OpLZ_He1s83Z"
      }
    },
    {
      "cell_type": "code",
      "execution_count": 8,
      "metadata": {
        "colab": {
          "base_uri": "https://localhost:8080/"
        },
        "id": "5VsupbFgq2Zr",
        "outputId": "c26a24ef-5f35-4d02-d303-9eb4abe7e59b"
      },
      "outputs": [
        {
          "output_type": "stream",
          "name": "stdout",
          "text": [
            "\n",
            "RAISING EXCEPTION\n",
            "ValueError has occured.\n"
          ]
        }
      ],
      "source": [
        "print('\\nRAISING EXCEPTION')\n",
        "\n",
        "try :\n",
        "    raise ValueError('ERROR OCCURED')\n",
        "except ValueError :\n",
        "    print('ValueError has occured.')"
      ]
    },
    {
      "cell_type": "code",
      "source": [
        "print('\\nRAISING EXCEPTION')\n",
        "\n",
        "try :\n",
        "    raise ValueError('ERROR OCCURED')\n",
        "except ValueError :\n",
        "    print('ValueError has occured.')\n",
        "    raise"
      ],
      "metadata": {
        "id": "2-oTyDXotDwx",
        "outputId": "50f0bba8-98d8-4d0a-f055-5dad3b608354",
        "colab": {
          "base_uri": "https://localhost:8080/",
          "height": 297
        }
      },
      "execution_count": 10,
      "outputs": [
        {
          "output_type": "stream",
          "name": "stdout",
          "text": [
            "\n",
            "RAISING EXCEPTION\n",
            "ValueError has occured.\n"
          ]
        },
        {
          "output_type": "error",
          "ename": "ValueError",
          "evalue": "ERROR OCCURED",
          "traceback": [
            "\u001b[0;31m---------------------------------------------------------------------------\u001b[0m",
            "\u001b[0;31mValueError\u001b[0m                                Traceback (most recent call last)",
            "\u001b[0;32m<ipython-input-10-92700c14e339>\u001b[0m in \u001b[0;36m<cell line: 3>\u001b[0;34m()\u001b[0m\n\u001b[1;32m      2\u001b[0m \u001b[0;34m\u001b[0m\u001b[0m\n\u001b[1;32m      3\u001b[0m \u001b[0;32mtry\u001b[0m \u001b[0;34m:\u001b[0m\u001b[0;34m\u001b[0m\u001b[0;34m\u001b[0m\u001b[0m\n\u001b[0;32m----> 4\u001b[0;31m     \u001b[0;32mraise\u001b[0m \u001b[0mValueError\u001b[0m\u001b[0;34m(\u001b[0m\u001b[0;34m'ERROR OCCURED'\u001b[0m\u001b[0;34m)\u001b[0m\u001b[0;34m\u001b[0m\u001b[0;34m\u001b[0m\u001b[0m\n\u001b[0m\u001b[1;32m      5\u001b[0m \u001b[0;32mexcept\u001b[0m \u001b[0mValueError\u001b[0m \u001b[0;34m:\u001b[0m\u001b[0;34m\u001b[0m\u001b[0;34m\u001b[0m\u001b[0m\n\u001b[1;32m      6\u001b[0m     \u001b[0mprint\u001b[0m\u001b[0;34m(\u001b[0m\u001b[0;34m'ValueError has occured.'\u001b[0m\u001b[0;34m)\u001b[0m\u001b[0;34m\u001b[0m\u001b[0;34m\u001b[0m\u001b[0m\n",
            "\u001b[0;31mValueError\u001b[0m: ERROR OCCURED"
          ]
        }
      ]
    },
    {
      "cell_type": "markdown",
      "source": [
        "##### This raise statement re-raises the same exception without specifying an exception.\n"
      ],
      "metadata": {
        "id": "M-OtfvvJtHyE"
      }
    },
    {
      "cell_type": "markdown",
      "source": [
        "##### When an exception is not handled further up in the code, the python interpreter displays the traceback information indicating specific type of exception and where it occured in the code."
      ],
      "metadata": {
        "id": "_khvr7ngtJP0"
      }
    },
    {
      "cell_type": "code",
      "source": [],
      "metadata": {
        "id": "pU4aJ8G7bdxt"
      },
      "execution_count": 10,
      "outputs": []
    }
  ]
}