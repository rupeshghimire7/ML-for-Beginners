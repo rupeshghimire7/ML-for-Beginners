{
  "nbformat": 4,
  "nbformat_minor": 0,
  "metadata": {
    "colab": {
      "provenance": []
    },
    "kernelspec": {
      "name": "python3",
      "display_name": "Python 3"
    },
    "language_info": {
      "name": "python"
    }
  },
  "cells": [
    {
      "cell_type": "markdown",
      "source": [
        "# EVERYTHING IN PYTHON IS AN OBJECT, EVEN FUNCTIONS."
      ],
      "metadata": {
        "id": "G_PLvCWZkawM"
      }
    },
    {
      "cell_type": "markdown",
      "source": [
        "# Nested Functions and closures\n"
      ],
      "metadata": {
        "id": "_fRr6ENCkiMe"
      }
    },
    {
      "cell_type": "markdown",
      "source": [
        "##### A function defined inside another function is called a nested function. Nested function can access variables of the enclosing scope.\n"
      ],
      "metadata": {
        "id": "CsV0SAlxkoYU"
      }
    },
    {
      "cell_type": "code",
      "source": [
        "def outerFunction1(msg):\n",
        "    print('This is outer function.')\n",
        "    print (msg+'This message is displayed from \"outerFunction1()\".')\n",
        "\n",
        "    def innerFunction1():\n",
        "        print('This is inner function.')\n",
        "        print (msg+'This message is displayed from \"innerFunction1()\".')\n",
        "        # Nested function accessing a non-local variable 'msg'.\n",
        "    innerFunction1()"
      ],
      "metadata": {
        "id": "FPv6Jh1pkaI4"
      },
      "execution_count": 1,
      "outputs": []
    },
    {
      "cell_type": "code",
      "source": [
        "outerFunction1('This is my message to you.')"
      ],
      "metadata": {
        "id": "ytRxwGIIkwAL",
        "colab": {
          "base_uri": "https://localhost:8080/"
        },
        "outputId": "f7ad75ef-ba5e-4a29-9d5e-388ea6c2ae9d"
      },
      "execution_count": 2,
      "outputs": [
        {
          "output_type": "stream",
          "name": "stdout",
          "text": [
            "This is outer function.\n",
            "This is my message to you.This message is displayed from \"outerFunction1()\".\n",
            "This is inner function.\n",
            "This is my message to you.This message is displayed from \"innerFunction1()\".\n"
          ]
        }
      ]
    },
    {
      "cell_type": "markdown",
      "source": [
        "#### Returing a function\n"
      ],
      "metadata": {
        "id": "FrwQlxv7lX-d"
      }
    },
    {
      "cell_type": "code",
      "source": [
        "def outerFunction2(msg):\n",
        "    print('This is outer function.')\n",
        "    print (msg+'This message is displayed from \"outerFunction2()\".')\n",
        "\n",
        "    def innerFunction2():\n",
        "        print('This is inner function.')\n",
        "        print (msg+'This message is displayed from \"innerFunction2()\".')\n",
        "\n",
        "    return innerFunction2"
      ],
      "metadata": {
        "id": "jjRXw-LLlXai"
      },
      "execution_count": 3,
      "outputs": []
    },
    {
      "cell_type": "code",
      "source": [
        "innerFunctionReturn = outerFunction2('This is my message to you.')"
      ],
      "metadata": {
        "id": "k0VLxW0Ylciq",
        "colab": {
          "base_uri": "https://localhost:8080/"
        },
        "outputId": "8db08062-4974-4674-9eb0-60c34b72768d"
      },
      "execution_count": 4,
      "outputs": [
        {
          "output_type": "stream",
          "name": "stdout",
          "text": [
            "This is outer function.\n",
            "This is my message to you.This message is displayed from \"outerFunction2()\".\n"
          ]
        }
      ]
    },
    {
      "cell_type": "code",
      "source": [
        "innerFunctionReturn"
      ],
      "metadata": {
        "colab": {
          "base_uri": "https://localhost:8080/"
        },
        "id": "R0b6bOMiv10a",
        "outputId": "2bce492f-f2c3-4f53-a544-b5ead33ab5d1"
      },
      "execution_count": 5,
      "outputs": [
        {
          "output_type": "execute_result",
          "data": {
            "text/plain": [
              "<function __main__.outerFunction2.<locals>.innerFunction2()>"
            ]
          },
          "metadata": {},
          "execution_count": 5
        }
      ]
    },
    {
      "cell_type": "code",
      "source": [
        "print('The innerFunction2 has been returned into innerFunctionReturn.')\n",
        "innerFunctionReturn()"
      ],
      "metadata": {
        "id": "20Ytku1uleOv",
        "colab": {
          "base_uri": "https://localhost:8080/"
        },
        "outputId": "c55b47ad-7355-4df3-d93a-6ebb0f9f6991"
      },
      "execution_count": 6,
      "outputs": [
        {
          "output_type": "stream",
          "name": "stdout",
          "text": [
            "The innerFunction2 has been returned into innerFunctionReturn.\n",
            "This is inner function.\n",
            "This is my message to you.This message is displayed from \"innerFunction2()\".\n"
          ]
        }
      ]
    },
    {
      "cell_type": "markdown",
      "source": [
        "##### This technique by which some data ('This is my message to you.') gets attached to the code is called closure in Python.\n"
      ],
      "metadata": {
        "id": "HM2iPmMNlmh9"
      }
    },
    {
      "cell_type": "markdown",
      "source": [
        "##### Deleting the outer object won't effect.This way we can return the whole functionality of nested function and bind it to a variable to use it further.\n"
      ],
      "metadata": {
        "id": "tU3-wicelyxP"
      }
    },
    {
      "cell_type": "markdown",
      "source": [
        "##### A closure is a nested function that captures and remembers the values from the enclosing (outer) scope, even after the outer function has finished executing."
      ],
      "metadata": {
        "id": "3onJArV4Nisy"
      }
    },
    {
      "cell_type": "markdown",
      "source": [
        "##### This method of binding data to a function without actually passing them as parameters is called closure.\n"
      ],
      "metadata": {
        "id": "I3gQ-DyBl1T-"
      }
    },
    {
      "cell_type": "code",
      "source": [
        "del outerFunction2\n",
        "# outerFunction2('This is my next message to you.')     # A closure is a function scope that remembers values in enclosing scope even if they are not present in memory.\n"
      ],
      "metadata": {
        "id": "eGwx8s5Dl4jY"
      },
      "execution_count": 7,
      "outputs": []
    },
    {
      "cell_type": "code",
      "source": [
        "outerFunction2('This is my next message to you.')"
      ],
      "metadata": {
        "colab": {
          "base_uri": "https://localhost:8080/",
          "height": 176
        },
        "id": "gQl7PMb0JPCf",
        "outputId": "2c31c1a2-a3a0-48b3-feab-db1a8d0f41e4"
      },
      "execution_count": 8,
      "outputs": [
        {
          "output_type": "error",
          "ename": "NameError",
          "evalue": "name 'outerFunction2' is not defined",
          "traceback": [
            "\u001b[0;31m---------------------------------------------------------------------------\u001b[0m",
            "\u001b[0;31mNameError\u001b[0m                                 Traceback (most recent call last)",
            "\u001b[0;32m<ipython-input-8-5f602d0497e6>\u001b[0m in \u001b[0;36m<cell line: 1>\u001b[0;34m()\u001b[0m\n\u001b[0;32m----> 1\u001b[0;31m \u001b[0mouterFunction2\u001b[0m\u001b[0;34m(\u001b[0m\u001b[0;34m'This is my next message to you.'\u001b[0m\u001b[0;34m)\u001b[0m\u001b[0;34m\u001b[0m\u001b[0;34m\u001b[0m\u001b[0m\n\u001b[0m",
            "\u001b[0;31mNameError\u001b[0m: name 'outerFunction2' is not defined"
          ]
        }
      ]
    },
    {
      "cell_type": "code",
      "source": [
        "print('The function \"outerFuntion2\" has been deleted.')\n",
        "print('\"innerFunctionReturn()\" has been invoked.')\n",
        "innerFunctionReturn()"
      ],
      "metadata": {
        "id": "cOP2MKgRMlOo",
        "colab": {
          "base_uri": "https://localhost:8080/"
        },
        "outputId": "eade7d0c-58b5-480d-a057-82f087af102f"
      },
      "execution_count": 9,
      "outputs": [
        {
          "output_type": "stream",
          "name": "stdout",
          "text": [
            "The function \"outerFuntion2\" has been deleted.\n",
            "\"innerFunctionReturn()\" has been invoked.\n",
            "This is inner function.\n",
            "This is my message to you.This message is displayed from \"innerFunction2()\".\n"
          ]
        }
      ]
    },
    {
      "cell_type": "markdown",
      "source": [
        "##### Closures are preferred way to avoid global variables.\n",
        "\n",
        "\n",
        "\n",
        "\n"
      ],
      "metadata": {
        "id": "cszYKvpql_6V"
      }
    },
    {
      "cell_type": "markdown",
      "source": [
        "##### When there are few methods to be implemented in a class closure can provide an alternate and more elegant solution.\n"
      ],
      "metadata": {
        "id": "P-c_WCnImDmP"
      }
    },
    {
      "cell_type": "markdown",
      "source": [
        "##### When number of attributes and methods get larger, better implement class.\n"
      ],
      "metadata": {
        "id": "OuAFaoplmFYE"
      }
    },
    {
      "cell_type": "markdown",
      "source": [
        "##### Attributes in Python are variables associated with an object and are used to store data related to the object.\n"
      ],
      "metadata": {
        "id": "o9zT1JyNmHcW"
      }
    },
    {
      "cell_type": "code",
      "source": [
        "def multiplierOf(num1):\n",
        "    def multiply(num2):\n",
        "        return num1 * num2\n",
        "    return multiply"
      ],
      "metadata": {
        "id": "6Bo7tM2xmB_J"
      },
      "execution_count": 10,
      "outputs": []
    },
    {
      "cell_type": "code",
      "source": [
        "multiplierOf5 = multiplierOf(5)"
      ],
      "metadata": {
        "id": "LXoN5o7UmJwx"
      },
      "execution_count": 11,
      "outputs": []
    },
    {
      "cell_type": "code",
      "source": [
        "multiplierOf10 = multiplierOf(10)"
      ],
      "metadata": {
        "id": "55za-x_tmLgw"
      },
      "execution_count": 12,
      "outputs": []
    },
    {
      "cell_type": "code",
      "source": [
        "multiply5N9 = multiplierOf5(9)"
      ],
      "metadata": {
        "id": "7yzRs9jvmMku"
      },
      "execution_count": 13,
      "outputs": []
    },
    {
      "cell_type": "code",
      "source": [
        "multiply10N8 = multiplierOf10(8)"
      ],
      "metadata": {
        "id": "Yx6HMvdNmNfl"
      },
      "execution_count": 14,
      "outputs": []
    },
    {
      "cell_type": "code",
      "source": [
        "print (f'The product of 5 and 9 is {multiply5N9}.')"
      ],
      "metadata": {
        "id": "KhI-DJkKmRa1",
        "colab": {
          "base_uri": "https://localhost:8080/"
        },
        "outputId": "9f37a75a-1e97-44da-e3be-da8e03af9241"
      },
      "execution_count": 15,
      "outputs": [
        {
          "output_type": "stream",
          "name": "stdout",
          "text": [
            "The product of 5 and 9 is 45.\n"
          ]
        }
      ]
    },
    {
      "cell_type": "code",
      "source": [
        "print (f'The product of 10 and 8 is {multiply10N8}.')"
      ],
      "metadata": {
        "id": "Iq_UXyJkmSTF",
        "colab": {
          "base_uri": "https://localhost:8080/"
        },
        "outputId": "99a7adff-2268-4aab-d423-2f479249281b"
      },
      "execution_count": 16,
      "outputs": [
        {
          "output_type": "stream",
          "name": "stdout",
          "text": [
            "The product of 10 and 8 is 80.\n"
          ]
        }
      ]
    },
    {
      "cell_type": "markdown",
      "source": [
        "##### All function object have a __closure__ attribute that returns a tuple of cell object if it is a closure fuction.\n"
      ],
      "metadata": {
        "id": "_pG-iGBRmVAz"
      }
    },
    {
      "cell_type": "code",
      "source": [
        "print(multiplierOf5.__closure__[0].cell_contents)"
      ],
      "metadata": {
        "id": "49svPLh-mW3j",
        "colab": {
          "base_uri": "https://localhost:8080/"
        },
        "outputId": "119c442f-5eea-45dc-8d27-7f54ef486c1b"
      },
      "execution_count": 17,
      "outputs": [
        {
          "output_type": "stream",
          "name": "stdout",
          "text": [
            "5\n"
          ]
        }
      ]
    },
    {
      "cell_type": "code",
      "source": [
        "print(multiplierOf10.__closure__[0].cell_contents)"
      ],
      "metadata": {
        "id": "DSNTkedUmYk5",
        "colab": {
          "base_uri": "https://localhost:8080/"
        },
        "outputId": "a499f1cd-4981-47da-c35b-138b91ded1c8"
      },
      "execution_count": 18,
      "outputs": [
        {
          "output_type": "stream",
          "name": "stdout",
          "text": [
            "10\n"
          ]
        }
      ]
    },
    {
      "cell_type": "code",
      "source": [
        "print(multiplierOf10.__closure__[0].cell_contents)"
      ],
      "metadata": {
        "id": "ZOgG1tf2OxjL",
        "colab": {
          "base_uri": "https://localhost:8080/"
        },
        "outputId": "78e4a03e-4d30-4b29-aacc-87566507c7e9"
      },
      "execution_count": 19,
      "outputs": [
        {
          "output_type": "stream",
          "name": "stdout",
          "text": [
            "10\n"
          ]
        }
      ]
    },
    {
      "cell_type": "markdown",
      "source": [
        "##### A cell object is essentially a container that holds a reference to a value. It's used in creating closures and can be accessed through the __closure__ attribute of a function object. You"
      ],
      "metadata": {
        "id": "hq4Dsq6UOytz"
      }
    },
    {
      "cell_type": "code",
      "source": [
        "'''\n",
        " Criteria for closure\n",
        " 1. There must be a nested function.\n",
        " 2. This nested function has to refer to a variable defined inside enclosing function.\n",
        " 3. The enclosing function must return the nested function.\n",
        "\n",
        "'''"
      ],
      "metadata": {
        "id": "-Nt1BJh9mbAG",
        "outputId": "0c4e6b7a-1864-4e03-a720-41a1ddd2a018",
        "colab": {
          "base_uri": "https://localhost:8080/",
          "height": 53
        }
      },
      "execution_count": 20,
      "outputs": [
        {
          "output_type": "execute_result",
          "data": {
            "text/plain": [
              "'\\n Criteria for closure\\n 1. There must be a nested function.\\n 2. This nested function has to refer to a variable defined inside enclosing function.\\n 3. The enclosing function must return the nested function.\\n\\n'"
            ],
            "application/vnd.google.colaboratory.intrinsic+json": {
              "type": "string"
            }
          },
          "metadata": {},
          "execution_count": 20
        }
      ]
    },
    {
      "cell_type": "markdown",
      "source": [
        "# Decorators"
      ],
      "metadata": {
        "id": "aqjAsic2meh_"
      }
    },
    {
      "cell_type": "markdown",
      "source": [
        "##### Python has feature called decorators to add functionality to the existing code.\n"
      ],
      "metadata": {
        "id": "yEx6sHYrmhqn"
      }
    },
    {
      "cell_type": "markdown",
      "source": [
        "##### This is also called metaprogramming as a part of the program tries to modify another part of the program at compile time.\n"
      ],
      "metadata": {
        "id": "QPZHaOIxmjzG"
      }
    },
    {
      "cell_type": "markdown",
      "source": [
        "##### Functions are callable as they can be called.Any object which implements the method __call__() is termed callable.\n"
      ],
      "metadata": {
        "id": "XZBUx__gmnEE"
      }
    },
    {
      "cell_type": "code",
      "source": [
        "def makeDecorated(func):\n",
        "    def inner():\n",
        "        print('The function got decorated.')\n",
        "        func()\n",
        "    return inner"
      ],
      "metadata": {
        "id": "LJER_x4vmmoe"
      },
      "execution_count": 21,
      "outputs": []
    },
    {
      "cell_type": "code",
      "source": [
        "def simpleFunction():\n",
        "    print('This is a simple function.')"
      ],
      "metadata": {
        "id": "E8L6TfD8mpml"
      },
      "execution_count": 22,
      "outputs": []
    },
    {
      "cell_type": "code",
      "source": [
        "decoratedFunction = makeDecorated(simpleFunction)"
      ],
      "metadata": {
        "id": "D6rplfojmru_"
      },
      "execution_count": 23,
      "outputs": []
    },
    {
      "cell_type": "code",
      "source": [
        "decoratedFunction()"
      ],
      "metadata": {
        "id": "UTjM0Xs-ms2H",
        "colab": {
          "base_uri": "https://localhost:8080/"
        },
        "outputId": "eba426f3-cf10-485c-f4cd-01ae7172f656"
      },
      "execution_count": 24,
      "outputs": [
        {
          "output_type": "stream",
          "name": "stdout",
          "text": [
            "The function got decorated.\n",
            "This is a simple function.\n"
          ]
        }
      ]
    },
    {
      "cell_type": "markdown",
      "source": [
        "##### Instead of passing the function to be decorated to the decorator function Python provides @<decorator_func>\n"
      ],
      "metadata": {
        "id": "HFovacPWmv4m"
      }
    },
    {
      "cell_type": "code",
      "source": [
        "@makeDecorated\n",
        "def simpleFunction():\n",
        "    print('This is a simple function.')\n",
        "\n",
        "simpleFunction()"
      ],
      "metadata": {
        "id": "vaMAwYAJmywM",
        "colab": {
          "base_uri": "https://localhost:8080/"
        },
        "outputId": "81abb2c6-52fa-4dbe-f2d5-484d2d9766b4"
      },
      "execution_count": 25,
      "outputs": [
        {
          "output_type": "stream",
          "name": "stdout",
          "text": [
            "The function got decorated.\n",
            "This is a simple function.\n"
          ]
        }
      ]
    },
    {
      "cell_type": "markdown",
      "source": [
        "#### Decorators with parameters\n"
      ],
      "metadata": {
        "id": "5sj6tdSYmygj"
      }
    },
    {
      "cell_type": "code",
      "source": [
        "def divideByZeroError(func):\n",
        "    def check(a,b):\n",
        "        print('The dividend is {} and divisor is {}.'.format(a,b))\n",
        "        if b==0:\n",
        "            print('The division cannot be carried out.')\n",
        "            return\n",
        "        return func(a,b)\n",
        "    return check"
      ],
      "metadata": {
        "id": "TAEXb_Vpm1yK"
      },
      "execution_count": 26,
      "outputs": []
    },
    {
      "cell_type": "code",
      "source": [
        "@divideByZeroError\n",
        "def divide(a,b):\n",
        "    return a/b"
      ],
      "metadata": {
        "id": "6ZX_Y8mqm3Wu"
      },
      "execution_count": 27,
      "outputs": []
    },
    {
      "cell_type": "code",
      "source": [
        "print('The result of division of 12 and 4 is {}'.format(divide(12,4)))"
      ],
      "metadata": {
        "id": "nn-NZo1sm5R2",
        "colab": {
          "base_uri": "https://localhost:8080/"
        },
        "outputId": "0a976ade-11cb-428c-c2fe-36eef13d16dc"
      },
      "execution_count": 28,
      "outputs": [
        {
          "output_type": "stream",
          "name": "stdout",
          "text": [
            "The dividend is 12 and divisor is 4.\n",
            "The result of division of 12 and 4 is 3.0\n"
          ]
        }
      ]
    },
    {
      "cell_type": "code",
      "source": [
        "print('The result of division of 12 and 0 is {}'.format(divide(12,0)))"
      ],
      "metadata": {
        "id": "PGv9Spfcm7ed",
        "colab": {
          "base_uri": "https://localhost:8080/"
        },
        "outputId": "45be741e-d123-4821-bd3f-e16fed18fe03"
      },
      "execution_count": 29,
      "outputs": [
        {
          "output_type": "stream",
          "name": "stdout",
          "text": [
            "The dividend is 12 and divisor is 0.\n",
            "The division cannot be carried out.\n",
            "The result of division of 12 and 0 is None\n"
          ]
        }
      ]
    },
    {
      "cell_type": "markdown",
      "source": [
        "#### Pipeling decorators\n"
      ],
      "metadata": {
        "id": "-lDL1yGjm-kn"
      }
    },
    {
      "cell_type": "code",
      "source": [
        "'''\n",
        "@decorator1\n",
        "@decorator2\n",
        "def function1(*args, **kwargs):\n",
        "    pass\n",
        "\n",
        "\n",
        "The above code is equivalent to the following code:\n",
        "\n",
        "decorator1(decorator2(function1))(*args, **kwargs)\n",
        "\n",
        "'''"
      ],
      "metadata": {
        "id": "3m9C7wTSm-PT",
        "outputId": "29133cfd-ea7e-4d23-8acc-ca22872fcac7",
        "colab": {
          "base_uri": "https://localhost:8080/",
          "height": 36
        }
      },
      "execution_count": 30,
      "outputs": [
        {
          "output_type": "execute_result",
          "data": {
            "text/plain": [
              "'\\n@decorator1\\n@decorator2\\ndef function1(*args, **kwargs):\\n    pass\\n\\n\\nThe above code is equivalent to the following code:\\n\\ndecorator1(decorator2(function1))(*args, **kwargs)\\n\\n'"
            ],
            "application/vnd.google.colaboratory.intrinsic+json": {
              "type": "string"
            }
          },
          "metadata": {},
          "execution_count": 30
        }
      ]
    },
    {
      "cell_type": "markdown",
      "source": [
        "### Memoization using decorators\n"
      ],
      "metadata": {
        "id": "vKDz_zw6nCzL"
      }
    },
    {
      "cell_type": "markdown",
      "source": [
        "##### The issue with recursion is that in the recursion tree, there can be chances that the sub-problem that is already solved is solved again, which adds to overhead.\n"
      ],
      "metadata": {
        "id": "453XgFnMnHs8"
      }
    },
    {
      "cell_type": "markdown",
      "source": [
        "##### Memoization is a technique of recording the intermediate results so that it can be used to avoid repeated calculations and speed up the programs.\n"
      ],
      "metadata": {
        "id": "NkLhDszsnHpD"
      }
    },
    {
      "cell_type": "markdown",
      "source": [
        "#### Without use of memoization\n"
      ],
      "metadata": {
        "id": "p19LqnsInHk6"
      }
    },
    {
      "cell_type": "code",
      "source": [
        "def factorial1(num):\n",
        "    if num == 0 | num ==1 :\n",
        "        return 1\n",
        "    else :\n",
        "        return num * factorial1(num-1)"
      ],
      "metadata": {
        "id": "Fi-q4-e9nHUQ"
      },
      "execution_count": 31,
      "outputs": []
    },
    {
      "cell_type": "code",
      "source": [
        "print('The factorial of 5 is {}.'.format(factorial1(5)))"
      ],
      "metadata": {
        "id": "tXVCRYXQnHNM",
        "colab": {
          "base_uri": "https://localhost:8080/"
        },
        "outputId": "93370eab-b020-4700-d183-ffe0e8140a1d"
      },
      "execution_count": 32,
      "outputs": [
        {
          "output_type": "stream",
          "name": "stdout",
          "text": [
            "The factorial of 5 is 120.\n"
          ]
        }
      ]
    },
    {
      "cell_type": "code",
      "source": [
        "print('The factorial of 5 is {}.'.format(factorial1(5)))\n",
        "# Same calculation is performed again."
      ],
      "metadata": {
        "id": "hMISiG6vnHFY",
        "colab": {
          "base_uri": "https://localhost:8080/"
        },
        "outputId": "2e3d77ae-3055-4fb2-9b7f-249d12a10ed4"
      },
      "execution_count": 33,
      "outputs": [
        {
          "output_type": "stream",
          "name": "stdout",
          "text": [
            "The factorial of 5 is 120.\n"
          ]
        }
      ]
    },
    {
      "cell_type": "markdown",
      "source": [
        "#### Optimizing using decorators"
      ],
      "metadata": {
        "id": "ztF9YJQrnWfw"
      }
    },
    {
      "cell_type": "code",
      "source": [
        "memory = {}\n",
        "\n",
        "def factorialMemory (func):\n",
        "    def innerFunction(num):\n",
        "        if num not in memory :\n",
        "            memory[num] = func(num)\n",
        "            print(f'The factorial of {num} is saved in memory.')\n",
        "        else :\n",
        "            print(f'Obtaining the factorial of {num} from memory.')\n",
        "        return memory[num]\n",
        "    return innerFunction\n",
        "\n"
      ],
      "metadata": {
        "id": "-oHCtl1QnChP"
      },
      "execution_count": 34,
      "outputs": []
    },
    {
      "cell_type": "code",
      "source": [
        "@factorialMemory\n",
        "def factorial2(num):\n",
        "    if num == 0 | num ==1 :\n",
        "        return 1\n",
        "    else :\n",
        "        return num * factorial2(num-1)"
      ],
      "metadata": {
        "id": "pzpTaQkUnbR_"
      },
      "execution_count": 35,
      "outputs": []
    },
    {
      "cell_type": "code",
      "source": [
        "print('The factorial of 5 is {}.'.format(factorial2(5)))"
      ],
      "metadata": {
        "id": "oYoYfNXHneeY",
        "colab": {
          "base_uri": "https://localhost:8080/"
        },
        "outputId": "76e995d0-20ef-4312-b9c4-bc65c66d1505"
      },
      "execution_count": 36,
      "outputs": [
        {
          "output_type": "stream",
          "name": "stdout",
          "text": [
            "The factorial of 1 is saved in memory.\n",
            "The factorial of 2 is saved in memory.\n",
            "The factorial of 3 is saved in memory.\n",
            "The factorial of 4 is saved in memory.\n",
            "The factorial of 5 is saved in memory.\n",
            "The factorial of 5 is 120.\n"
          ]
        }
      ]
    },
    {
      "cell_type": "code",
      "execution_count": 37,
      "metadata": {
        "id": "isjpeHx3kOlV",
        "colab": {
          "base_uri": "https://localhost:8080/"
        },
        "outputId": "93b48d81-21bf-4c18-82d5-8a8834b13310"
      },
      "outputs": [
        {
          "output_type": "stream",
          "name": "stdout",
          "text": [
            "Obtaining the factorial of 5 from memory.\n",
            "The factorial of 5 is 120.\n"
          ]
        }
      ],
      "source": [
        "print('The factorial of 5 is {}.'.format(factorial2(5)))\n",
        "# The value of this factorial is directly coming from memory.\n"
      ]
    },
    {
      "cell_type": "code",
      "source": [],
      "metadata": {
        "id": "Du1Fc7i6anmY"
      },
      "execution_count": null,
      "outputs": []
    }
  ]
}