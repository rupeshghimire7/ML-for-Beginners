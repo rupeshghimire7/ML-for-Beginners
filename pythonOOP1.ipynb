{
  "nbformat": 4,
  "nbformat_minor": 0,
  "metadata": {
    "colab": {
      "provenance": []
    },
    "kernelspec": {
      "name": "python3",
      "display_name": "Python 3"
    },
    "language_info": {
      "name": "python"
    }
  },
  "cells": [
    {
      "cell_type": "markdown",
      "source": [
        "# Class and Object"
      ],
      "metadata": {
        "id": "MnA5koFGaVXh"
      }
    },
    {
      "cell_type": "markdown",
      "source": [
        "##### A class contains the blueprints or the prototype from which the objects are being created.\n"
      ],
      "metadata": {
        "id": "2Iwow9kSaYe2"
      }
    },
    {
      "cell_type": "markdown",
      "source": [
        "##### The variables that belong to a class are attributes.\n"
      ],
      "metadata": {
        "id": "ExvddAYaacqq"
      }
    },
    {
      "cell_type": "markdown",
      "source": [
        "##### The object is an entity that has  state and behavior associated with it.\n"
      ],
      "metadata": {
        "id": "FnmZaoMAaegM"
      }
    },
    {
      "cell_type": "markdown",
      "source": [
        "##### State is represented by the attributes of an object. It also reflects the properties of an object.\n"
      ],
      "metadata": {
        "id": "_dBmaZMTag9N"
      }
    },
    {
      "cell_type": "markdown",
      "source": [
        "##### Behaviour is represented by the methods of an object. It also reflects the response of an object to other objects.\n"
      ],
      "metadata": {
        "id": "9bRE21NkaipF"
      }
    },
    {
      "cell_type": "markdown",
      "source": [
        "### Class creation"
      ],
      "metadata": {
        "id": "-xaYY_embLlb"
      }
    },
    {
      "cell_type": "code",
      "source": [
        "class Employees:\n",
        "    # Class attribute\n",
        "    company = \"Gin-chan's Odd Jobs\"        # Class attributes are shared by all instances of the class.\n",
        "\n",
        "    # Instance attribute\n",
        "    def __init__(self, name, age, department, position):   # The __init__ method run as soon as an object of a class is instantiated. It is used to perform initialization of an instance of the class. This method is called constructor.\n",
        "        self.name = name                                   # Constructors are generally used for instantiating objects. Constructors are used for assigning values to data members of class when an object is created.\n",
        "        self.age = age\n",
        "        self.department = department\n",
        "        self.position = position\n",
        "\n",
        "\n",
        "    def getDetail(self):\n",
        "        print(Employees.company) # Accessing class attribute within class method.\n",
        "        print('The name of employee is {}.'.format(self.name))\n",
        "        print('The age of employee is {}.'.format(self.age))\n",
        "        print('The employee works in {} department.'.format(self.department))\n",
        "        print('The employee is working as a {}.'.format(self.position))\n",
        "\n",
        "    def __str__(self):\n",
        "        return f'The object store details of {self.name}.'\n",
        "\n",
        "    def __del__(self):\n",
        "        print(f'The object of class \"Employees\"  has been destroyed.({self.name})')"
      ],
      "metadata": {
        "id": "4nokRlx8amvt"
      },
      "execution_count": 1,
      "outputs": []
    },
    {
      "cell_type": "markdown",
      "source": [
        " Methods like __init__ (constructor), __str__ (string representation), etc., known as **magic methods** or **special methods** are invoked implicitly when certain operations are performed on instances (single occurrence of something or example) of classes. They define behavior for the respective operations."
      ],
      "metadata": {
        "id": "vdFRMJS7R7YY"
      }
    },
    {
      "cell_type": "markdown",
      "source": [
        "Regular methods, on the other hand, need to be explicitly called on an object instance."
      ],
      "metadata": {
        "id": "DgrxGURLSPZC"
      }
    },
    {
      "cell_type": "markdown",
      "source": [
        "**self** is a convention used to refer to the instance of a class within the class itself. **self** essentially refers to the instance of the class itself. When a method is called on an instance of a class, Python automatically passes the instance as the first argument to the method."
      ],
      "metadata": {
        "id": "r4lmYZe6Szs6"
      }
    },
    {
      "cell_type": "markdown",
      "source": [
        "### Object instantiation\n"
      ],
      "metadata": {
        "id": "xSOdMSeGaxa7"
      }
    },
    {
      "cell_type": "code",
      "source": [
        "gintoki = Employees('Gintoki Sakata', 30, 'Research', 'CEO')"
      ],
      "metadata": {
        "id": "VX3rk7SEbT59"
      },
      "execution_count": 2,
      "outputs": []
    },
    {
      "cell_type": "code",
      "source": [
        "kagura = Employees('Kagura', 15, 'Finance', 'Manager')"
      ],
      "metadata": {
        "id": "jx1h006_bujE"
      },
      "execution_count": 3,
      "outputs": []
    },
    {
      "cell_type": "markdown",
      "source": [
        "##### ' __str__ ' method allows to customize how an object is represented as string. This method helps in informative representation of object as string.\n"
      ],
      "metadata": {
        "id": "1xg6xqV_buLX"
      }
    },
    {
      "cell_type": "code",
      "source": [
        "print('PRINTING STRING REPRESENTATION OF OBJECT:\\t',gintoki)"
      ],
      "metadata": {
        "colab": {
          "base_uri": "https://localhost:8080/"
        },
        "id": "RmoE27tMcFAt",
        "outputId": "8ecb3909-9812-4841-f9e9-8755451beda3"
      },
      "execution_count": 4,
      "outputs": [
        {
          "output_type": "stream",
          "name": "stdout",
          "text": [
            "PRINTING STRING REPRESENTATION OF OBJECT:\t The object store details of Gintoki Sakata.\n"
          ]
        }
      ]
    },
    {
      "cell_type": "markdown",
      "source": [
        "#### Accessing class attribute\n"
      ],
      "metadata": {
        "id": "jET5ZEIEcIDP"
      }
    },
    {
      "cell_type": "code",
      "source": [
        "print('Gintoki works in {}'.format(gintoki.__class__.company))"
      ],
      "metadata": {
        "id": "7iOvISh7cHh6",
        "colab": {
          "base_uri": "https://localhost:8080/"
        },
        "outputId": "5686110e-fae6-4f65-e830-896a578c0953"
      },
      "execution_count": 5,
      "outputs": [
        {
          "output_type": "stream",
          "name": "stdout",
          "text": [
            "Gintoki works in Gin-chan's Odd Jobs\n"
          ]
        }
      ]
    },
    {
      "cell_type": "code",
      "source": [
        "print('Gintoki works in {}'.format(gintoki.company))"
      ],
      "metadata": {
        "id": "akLKYmaoey0h",
        "colab": {
          "base_uri": "https://localhost:8080/"
        },
        "outputId": "009d1d6a-554e-4ab1-bb47-12d1c305beb5"
      },
      "execution_count": 6,
      "outputs": [
        {
          "output_type": "stream",
          "name": "stdout",
          "text": [
            "Gintoki works in Gin-chan's Odd Jobs\n"
          ]
        }
      ]
    },
    {
      "cell_type": "markdown",
      "source": [
        "#### Accessing class methods\n"
      ],
      "metadata": {
        "id": "evncVOCBcUlC"
      }
    },
    {
      "cell_type": "code",
      "source": [
        "gintoki.getDetail()"
      ],
      "metadata": {
        "colab": {
          "base_uri": "https://localhost:8080/"
        },
        "id": "CTjiCngjcXBa",
        "outputId": "7b2996d7-fc17-4dc3-9a02-232f64defe03"
      },
      "execution_count": 7,
      "outputs": [
        {
          "output_type": "stream",
          "name": "stdout",
          "text": [
            "Gin-chan's Odd Jobs\n",
            "The name of employee is Gintoki Sakata.\n",
            "The age of employee is 30.\n",
            "The employee works in Research department.\n",
            "The employee is working as a CEO.\n"
          ]
        }
      ]
    },
    {
      "cell_type": "markdown",
      "source": [
        "##### The object 'gintoki' can be deleted using command : **del** gintoki\n"
      ],
      "metadata": {
        "id": "tls8lek0beMY"
      }
    },
    {
      "cell_type": "code",
      "execution_count": 8,
      "metadata": {
        "id": "aXOZxZQoaOBP",
        "colab": {
          "base_uri": "https://localhost:8080/"
        },
        "outputId": "72cbd3c3-dce4-44f4-937a-1f73b952afa0"
      },
      "outputs": [
        {
          "output_type": "stream",
          "name": "stdout",
          "text": [
            "DELETION PERFORMED.\n"
          ]
        }
      ],
      "source": [
        "del gintoki\n",
        "print('DELETION PERFORMED.')\n",
        "# If the __del__ method is not invoked using above statement 'del gintoki' it will be invoked at end of program. So, manual __del__ is not necessary."
      ]
    },
    {
      "cell_type": "code",
      "source": [
        "print('Kagura works in {}'.format(kagura.__class__.company))"
      ],
      "metadata": {
        "id": "rQ0VYCWEePy7",
        "colab": {
          "base_uri": "https://localhost:8080/"
        },
        "outputId": "2a756304-6094-41cd-b97a-c30047350961"
      },
      "execution_count": 9,
      "outputs": [
        {
          "output_type": "stream",
          "name": "stdout",
          "text": [
            "Kagura works in Gin-chan's Odd Jobs\n"
          ]
        }
      ]
    },
    {
      "cell_type": "code",
      "source": [
        "kagura.getDetail()"
      ],
      "metadata": {
        "id": "tAgdz-85eOlU",
        "colab": {
          "base_uri": "https://localhost:8080/"
        },
        "outputId": "eeaa9198-47ba-4050-803c-67d7645d19e2"
      },
      "execution_count": 10,
      "outputs": [
        {
          "output_type": "stream",
          "name": "stdout",
          "text": [
            "Gin-chan's Odd Jobs\n",
            "The name of employee is Kagura.\n",
            "The age of employee is 15.\n",
            "The employee works in Finance department.\n",
            "The employee is working as a Manager.\n"
          ]
        }
      ]
    },
    {
      "cell_type": "markdown",
      "source": [
        "### Inheritance\n"
      ],
      "metadata": {
        "id": "owc4i7jKeG5_"
      }
    },
    {
      "cell_type": "markdown",
      "source": [
        "##### Inheritance is the capability of one class to derive or inherit the properties of another class.\n"
      ],
      "metadata": {
        "id": "e7oWX6rleG3Y"
      }
    },
    {
      "cell_type": "markdown",
      "source": [
        "#### Parent class\n"
      ],
      "metadata": {
        "id": "MiXcm1YCeEe8"
      }
    },
    {
      "cell_type": "code",
      "source": [
        "class Person:\n",
        "    def __init__(self, name, age):\n",
        "        self.name = name\n",
        "        self.age = age\n",
        "\n",
        "    def display(self):\n",
        "        print('The method \"display()\" is present in parent class.' )\n",
        "        print('This method displays name of a person from parent class.')\n",
        "        print('The name of person is {}.'.format(self.name))\n",
        "\n",
        "    def displayDetails(self):\n",
        "        print('The method \"displayDetails()\" is present in parent class.' )\n",
        "        print('This method displays age of a person from parent class.')\n",
        "        print('The age of person is {}.'.format(self.age))\n",
        "\n",
        "    def __del__(self):\n",
        "        print('The object of parent class \"Person\" has been destroyed.')"
      ],
      "metadata": {
        "id": "lD_IKitbd8k_"
      },
      "execution_count": 11,
      "outputs": []
    },
    {
      "cell_type": "markdown",
      "source": [
        "#### Child class\n"
      ],
      "metadata": {
        "id": "gcroyPsud3V3"
      }
    },
    {
      "cell_type": "code",
      "source": [
        "class Employees1(Person):\n",
        "\n",
        "    company = \"Gin-chan's Odd Jobs\"\n",
        "\n",
        "    def __init__(self, name, age, department, position):\n",
        "        self.department = department\n",
        "        self.position = position\n",
        "\n",
        "        Person.__init__(self, name, age)  # Invoking the __init__ of parent class.\n",
        "\n",
        "    def displayDetails(self):\n",
        "        print('The method \"displayDetails()\" is present in child class.' )\n",
        "        print('This method displays name, age, department and position of a person from child class.')\n",
        "        print(Employees1.company)\n",
        "        print('The name of person is {}.'.format(self.name))\n",
        "        print('The age of person is {}.'.format(self.age))\n",
        "        print('The employee works in {} department.'.format(self.department))\n",
        "        print('The employee is working as a {}.'.format(self.position))\n",
        "\n",
        "    def __del__(self):\n",
        "        print('The object of child class \"Employees1\" of parent class \"Person\" has been destroyed.')"
      ],
      "metadata": {
        "id": "oY3w6QE0dywP"
      },
      "execution_count": 12,
      "outputs": []
    },
    {
      "cell_type": "code",
      "source": [
        "sinpachi = Employees1('Shinpachi', 30, 'Development', 'Engineer')"
      ],
      "metadata": {
        "id": "rNBqFjE5dw13"
      },
      "execution_count": 13,
      "outputs": []
    },
    {
      "cell_type": "code",
      "source": [
        "sinpachi"
      ],
      "metadata": {
        "colab": {
          "base_uri": "https://localhost:8080/"
        },
        "id": "8a0ZLGCQeoS_",
        "outputId": "f0d3b9ff-31bf-43a1-a7ad-51b865713b7e"
      },
      "execution_count": 14,
      "outputs": [
        {
          "output_type": "execute_result",
          "data": {
            "text/plain": [
              "<__main__.Employees1 at 0x78761a66b550>"
            ]
          },
          "metadata": {},
          "execution_count": 14
        }
      ]
    },
    {
      "cell_type": "code",
      "source": [
        "sinpachi.display()"
      ],
      "metadata": {
        "colab": {
          "base_uri": "https://localhost:8080/"
        },
        "id": "WnbujZ09dvIe",
        "outputId": "ee55878d-02d5-4655-a250-89279701f630"
      },
      "execution_count": 15,
      "outputs": [
        {
          "output_type": "stream",
          "name": "stdout",
          "text": [
            "The method \"display()\" is present in parent class.\n",
            "This method displays name of a person from parent class.\n",
            "The name of person is Shinpachi.\n"
          ]
        }
      ]
    },
    {
      "cell_type": "code",
      "source": [
        "sinpachi.displayDetails()"
      ],
      "metadata": {
        "colab": {
          "base_uri": "https://localhost:8080/"
        },
        "id": "5agJwUUMdsMO",
        "outputId": "e867f85d-8cff-446a-e3a4-a27fc38f350e"
      },
      "execution_count": 16,
      "outputs": [
        {
          "output_type": "stream",
          "name": "stdout",
          "text": [
            "The method \"displayDetails()\" is present in child class.\n",
            "This method displays name, age, department and position of a person from child class.\n",
            "Gin-chan's Odd Jobs\n",
            "The name of person is Shinpachi.\n",
            "The age of person is 30.\n",
            "The employee works in Development department.\n",
            "The employee is working as a Engineer.\n"
          ]
        }
      ]
    },
    {
      "cell_type": "markdown",
      "source": [
        "##### Method overriding is possible in Python classes. Subclasses can override methods written in their parent class to provide specific behavior while still inheriting other methods from the parent class.\n"
      ],
      "metadata": {
        "id": "GJJAdpOZdslO"
      }
    },
    {
      "cell_type": "markdown",
      "source": [
        "##### In Python polymorphism is possible. Polymorphism means having many forms.\n"
      ],
      "metadata": {
        "id": "veb1Y-cjdmIe"
      }
    },
    {
      "cell_type": "markdown",
      "source": [
        "### Python encapsulation\n"
      ],
      "metadata": {
        "id": "MQNR2CfzdZsT"
      }
    },
    {
      "cell_type": "markdown",
      "source": [
        "##### It describes the idea of wrapping data and the methods that work on data within one unit.\n"
      ],
      "metadata": {
        "id": "QwQ2_JwFda7l"
      }
    },
    {
      "cell_type": "markdown",
      "source": [
        "##### This puts restriction on accessing variables and methods directly and can prevent accidental modification of data.\n"
      ],
      "metadata": {
        "id": "MCBb4WX1deOg"
      }
    },
    {
      "cell_type": "markdown",
      "source": [
        "##### An object's variable can be only be modified by an object's method. Such variables are called private variables.\n"
      ],
      "metadata": {
        "id": "QocbxSohdgBq"
      }
    },
    {
      "cell_type": "code",
      "source": [
        "class baseClass:\n",
        "    def __init__(self):\n",
        "        self.a = 'Public'\n",
        "        self.__b = 'Private'\n",
        "\n",
        "    def __del__(self):\n",
        "        print('The object of base class \"baseClass\" has been destroyed.')"
      ],
      "metadata": {
        "id": "SWWk3vfcdMXW"
      },
      "execution_count": 17,
      "outputs": []
    },
    {
      "cell_type": "code",
      "source": [
        "class derivedClass(baseClass):\n",
        "    def __init__(self):\n",
        "        baseClass.__init__(self)\n",
        "        print(self.__b)\n",
        "\n",
        "    def __del__(self):\n",
        "        print('The object of class \"derivedClass\" has been destroyed.')"
      ],
      "metadata": {
        "id": "GvDIVqwMdI3s"
      },
      "execution_count": 18,
      "outputs": []
    },
    {
      "cell_type": "code",
      "source": [
        "object1 = derivedClass()\n",
        "# Private member 'b' of baseClass is called inside derivedClass."
      ],
      "metadata": {
        "id": "_vCI2YWDdHql",
        "outputId": "19c9649b-dac6-48bd-8baa-93a4111801b4",
        "colab": {
          "base_uri": "https://localhost:8080/",
          "height": 332
        }
      },
      "execution_count": 19,
      "outputs": [
        {
          "output_type": "stream",
          "name": "stdout",
          "text": [
            "The object of class \"Employees\"  has been destroyed.(Gintoki Sakata)\n"
          ]
        },
        {
          "output_type": "error",
          "ename": "AttributeError",
          "evalue": "'derivedClass' object has no attribute '_derivedClass__b'",
          "traceback": [
            "\u001b[0;31m---------------------------------------------------------------------------\u001b[0m",
            "\u001b[0;31mAttributeError\u001b[0m                            Traceback (most recent call last)",
            "\u001b[0;32m<ipython-input-19-d1ee63974564>\u001b[0m in \u001b[0;36m<cell line: 1>\u001b[0;34m()\u001b[0m\n\u001b[0;32m----> 1\u001b[0;31m \u001b[0mobject1\u001b[0m \u001b[0;34m=\u001b[0m \u001b[0mderivedClass\u001b[0m\u001b[0;34m(\u001b[0m\u001b[0;34m)\u001b[0m\u001b[0;34m\u001b[0m\u001b[0;34m\u001b[0m\u001b[0m\n\u001b[0m\u001b[1;32m      2\u001b[0m \u001b[0;31m# Private member 'b' of baseClass is called inside derivedClass.\u001b[0m\u001b[0;34m\u001b[0m\u001b[0;34m\u001b[0m\u001b[0m\n",
            "\u001b[0;32m<ipython-input-18-1852017908f6>\u001b[0m in \u001b[0;36m__init__\u001b[0;34m(self)\u001b[0m\n\u001b[1;32m      2\u001b[0m     \u001b[0;32mdef\u001b[0m \u001b[0m__init__\u001b[0m\u001b[0;34m(\u001b[0m\u001b[0mself\u001b[0m\u001b[0;34m)\u001b[0m\u001b[0;34m:\u001b[0m\u001b[0;34m\u001b[0m\u001b[0;34m\u001b[0m\u001b[0m\n\u001b[1;32m      3\u001b[0m         \u001b[0mbaseClass\u001b[0m\u001b[0;34m.\u001b[0m\u001b[0m__init__\u001b[0m\u001b[0;34m(\u001b[0m\u001b[0mself\u001b[0m\u001b[0;34m)\u001b[0m\u001b[0;34m\u001b[0m\u001b[0;34m\u001b[0m\u001b[0m\n\u001b[0;32m----> 4\u001b[0;31m         \u001b[0mprint\u001b[0m\u001b[0;34m(\u001b[0m\u001b[0mself\u001b[0m\u001b[0;34m.\u001b[0m\u001b[0m__b\u001b[0m\u001b[0;34m)\u001b[0m\u001b[0;34m\u001b[0m\u001b[0;34m\u001b[0m\u001b[0m\n\u001b[0m\u001b[1;32m      5\u001b[0m \u001b[0;34m\u001b[0m\u001b[0m\n\u001b[1;32m      6\u001b[0m     \u001b[0;32mdef\u001b[0m \u001b[0m__del__\u001b[0m\u001b[0;34m(\u001b[0m\u001b[0mself\u001b[0m\u001b[0;34m)\u001b[0m\u001b[0;34m:\u001b[0m\u001b[0;34m\u001b[0m\u001b[0;34m\u001b[0m\u001b[0m\n",
            "\u001b[0;31mAttributeError\u001b[0m: 'derivedClass' object has no attribute '_derivedClass__b'"
          ]
        }
      ]
    },
    {
      "cell_type": "code",
      "source": [
        "object2 = baseClass()\n",
        "print(object2.a)"
      ],
      "metadata": {
        "colab": {
          "base_uri": "https://localhost:8080/"
        },
        "id": "b4DFSyC0c7PF",
        "outputId": "cda0e08f-f207-4171-d77b-e189f3352821"
      },
      "execution_count": 20,
      "outputs": [
        {
          "output_type": "stream",
          "name": "stdout",
          "text": [
            "Public\n"
          ]
        }
      ]
    },
    {
      "cell_type": "code",
      "source": [
        "print(object2.b)"
      ],
      "metadata": {
        "id": "bPKrf_tsc6SS",
        "outputId": "c135f569-3278-49e3-c8c2-e5d1900e8e72",
        "colab": {
          "base_uri": "https://localhost:8080/",
          "height": 176
        }
      },
      "execution_count": 21,
      "outputs": [
        {
          "output_type": "error",
          "ename": "AttributeError",
          "evalue": "'baseClass' object has no attribute 'b'",
          "traceback": [
            "\u001b[0;31m---------------------------------------------------------------------------\u001b[0m",
            "\u001b[0;31mAttributeError\u001b[0m                            Traceback (most recent call last)",
            "\u001b[0;32m<ipython-input-21-c409db24411d>\u001b[0m in \u001b[0;36m<cell line: 1>\u001b[0;34m()\u001b[0m\n\u001b[0;32m----> 1\u001b[0;31m \u001b[0mprint\u001b[0m\u001b[0;34m(\u001b[0m\u001b[0mobject2\u001b[0m\u001b[0;34m.\u001b[0m\u001b[0mb\u001b[0m\u001b[0;34m)\u001b[0m\u001b[0;34m\u001b[0m\u001b[0;34m\u001b[0m\u001b[0m\n\u001b[0m",
            "\u001b[0;31mAttributeError\u001b[0m: 'baseClass' object has no attribute 'b'"
          ]
        }
      ]
    },
    {
      "cell_type": "markdown",
      "source": [
        "##### Destructors are called when an object gets destroyed.\n"
      ],
      "metadata": {
        "id": "8g-CkcuacyHS"
      }
    },
    {
      "cell_type": "markdown",
      "source": [
        "##### In Python, destructors are not needed as much as in other programming language because it has a garbage collector that manage memory management automatically.\n"
      ],
      "metadata": {
        "id": "HTZRzbwfcsOF"
      }
    },
    {
      "cell_type": "code",
      "source": [],
      "metadata": {
        "id": "1Kmj2b5qWdRV"
      },
      "execution_count": null,
      "outputs": []
    }
  ]
}